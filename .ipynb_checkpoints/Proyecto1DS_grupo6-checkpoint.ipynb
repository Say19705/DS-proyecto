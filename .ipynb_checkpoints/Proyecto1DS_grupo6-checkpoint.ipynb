{
 "cells": [
  {
   "cell_type": "markdown",
   "id": "8f661df6",
   "metadata": {},
   "source": [
    "# Proyecto No. 1 Data Science\n",
    "Universidad del Valle de Guatemala\n",
    "Segundo Semestre 2021\n",
    "\n",
    "Andrés Say, 19705\n",
    "Ayleen Rubio, 19003\n",
    "Diego Alegría, 15171\n",
    "Mario Sarmientos, 17055"
   ]
  },
  {
   "cell_type": "markdown",
   "id": "7d60d125",
   "metadata": {},
   "source": [
    "## Importación de librerías"
   ]
  },
  {
   "cell_type": "code",
   "execution_count": 1,
   "id": "c2d20acf",
   "metadata": {},
   "outputs": [
    {
     "ename": "ModuleNotFoundError",
     "evalue": "No module named 'pandas'",
     "output_type": "error",
     "traceback": [
      "\u001b[0;31m---------------------------------------------------------------------------\u001b[0m",
      "\u001b[0;31mModuleNotFoundError\u001b[0m                       Traceback (most recent call last)",
      "\u001b[0;32m/tmp/ipykernel_14/2619883542.py\u001b[0m in \u001b[0;36m<module>\u001b[0;34m\u001b[0m\n\u001b[0;32m----> 1\u001b[0;31m \u001b[0;32mimport\u001b[0m \u001b[0mpandas\u001b[0m \u001b[0;32mas\u001b[0m \u001b[0mpd\u001b[0m\u001b[0;34m\u001b[0m\u001b[0;34m\u001b[0m\u001b[0m\n\u001b[0m\u001b[1;32m      2\u001b[0m \u001b[0;32mimport\u001b[0m \u001b[0mnumpy\u001b[0m \u001b[0;32mas\u001b[0m \u001b[0mnp\u001b[0m\u001b[0;34m\u001b[0m\u001b[0;34m\u001b[0m\u001b[0m\n\u001b[1;32m      3\u001b[0m \u001b[0;32mimport\u001b[0m \u001b[0mos\u001b[0m\u001b[0;34m\u001b[0m\u001b[0;34m\u001b[0m\u001b[0m\n",
      "\u001b[0;31mModuleNotFoundError\u001b[0m: No module named 'pandas'"
     ]
    }
   ],
   "source": [
    "import pandas as pd\n",
    "import numpy as np\n",
    "import os"
   ]
  },
  {
   "cell_type": "markdown",
   "id": "42a371ec",
   "metadata": {},
   "source": [
    "## Lectura de directorio y unificación de Data Frame"
   ]
  },
  {
   "cell_type": "code",
   "execution_count": null,
   "id": "17ba1537",
   "metadata": {},
   "outputs": [],
   "source": [
    "files=os.listdir('.\\EstablecimientosMINEDUC')\n",
    "df=pd.read_csv('.\\EstablecimientosMINEDUC\\\\'+files[0],encoding = \"ISO-8859-1\",header=1,skipfooter=2,engine='python')\n",
    "df=pd.DataFrame(columns=df.columns)\n",
    "for i in files:\n",
    "    temp=(pd.read_csv('.\\EstablecimientosMINEDUC\\\\'+i,encoding = \"ISO-8859-1\",header=1,skipfooter=2,engine='python'))\n",
    "    \n",
    "    temp.loc[temp.DISTRITO=='','DISTRITO']=np.nan\n",
    "    temp.loc[temp.DEPARTAMENTO=='','DEPARTAMENTO']=np.nan\n",
    "    temp.loc[temp.MUNICIPIO=='','MUNICIPIO']=np.nan\n",
    "    temp.loc[temp.DIRECCION=='nan','DIRECCION']=np.nan\n",
    "    temp.loc[temp.TELEFONO=='nan','TELEFONO']=np.nan\n",
    "    temp.loc[temp.ESTABLECIMIENTO=='nan','ESTABLECIMIENTO']=np.nan\n",
    "    temp.loc[temp.DIRECCION=='','DIRECCION']=np.nan\n",
    "    temp.loc[temp.TELEFONO=='','TELEFONO']=np.nan\n",
    "    \n",
    "    \n",
    "    temp.DEPARTAMENTO=temp.DEPARTAMENTO.fillna(method='ffill')\n",
    "    \n",
    "    df=df.append(temp,ignore_index=True)\n",
    "    \n",
    "df"
   ]
  },
  {
   "cell_type": "markdown",
   "id": "96208937",
   "metadata": {},
   "source": [
    "## Lista de variables (Columnas)"
   ]
  },
  {
   "cell_type": "code",
   "execution_count": null,
   "id": "52a1b5f6",
   "metadata": {},
   "outputs": [],
   "source": [
    "display(df.columns.tolist())"
   ]
  },
  {
   "cell_type": "markdown",
   "id": "1bab38b3",
   "metadata": {},
   "source": [
    "## Tipos de variables"
   ]
  },
  {
   "cell_type": "code",
   "execution_count": null,
   "id": "4dc9f88f",
   "metadata": {},
   "outputs": [],
   "source": [
    "df.dtypes"
   ]
  },
  {
   "cell_type": "markdown",
   "id": "28dc1f52",
   "metadata": {},
   "source": [
    "## Análisis para variable Código"
   ]
  },
  {
   "cell_type": "markdown",
   "id": "737f3cea",
   "metadata": {},
   "source": [
    "#### Revisión de formato"
   ]
  },
  {
   "cell_type": "code",
   "execution_count": null,
   "id": "5c864fe1",
   "metadata": {},
   "outputs": [],
   "source": [
    "display(df.CODIGO.unique())"
   ]
  },
  {
   "cell_type": "markdown",
   "id": "ea6b9b79",
   "metadata": {},
   "source": [
    "#### Revisión de Nulls"
   ]
  },
  {
   "cell_type": "code",
   "execution_count": null,
   "id": "4eec97c2",
   "metadata": {},
   "outputs": [],
   "source": [
    "# Utilizando el criterio de pandas\n",
    "display(df.loc[df.CODIGO.isna(),:])\n",
    "\n",
    "# Utilizando el criterio de la palabra nan\n",
    "\n",
    "display(df.loc[df.CODIGO=='nan',:])"
   ]
  },
  {
   "cell_type": "markdown",
   "id": "dff2614a",
   "metadata": {},
   "source": [
    "#### Revisión de duplicidad"
   ]
  },
  {
   "cell_type": "code",
   "execution_count": null,
   "id": "94dfbff2",
   "metadata": {},
   "outputs": [],
   "source": [
    "a=len(df.CODIGO.value_counts())\n",
    "b=len(df)\n",
    "\n",
    "display(b-a)\n",
    "\n",
    "#No existe duplicidad"
   ]
  },
  {
   "cell_type": "markdown",
   "id": "046f3392",
   "metadata": {},
   "source": [
    "\n",
    "Debido a que es un código que esta compuesto de la siguiente forma:\n",
    "\n",
    "$$##-##-####-##$$ \n",
    "\n",
    "Donde # es un númeor entero del 0 al 9, debemos de revisar si todos tienen los números completos o existen casos donde no se cumpla el estándar antes mencionado. \n",
    "\n",
    "No se despliegan todos los valores puesto que cada código es único y no representa ningún tipo de relación con otros establecimientos más si presenta una relación con las otras variables de ubicación como departamento y municipio.\n"
   ]
  },
  {
   "cell_type": "code",
   "execution_count": null,
   "id": "68232122",
   "metadata": {},
   "outputs": [],
   "source": [
    "code=df.CODIGO.str.split('-',expand=True).copy()\n",
    "code"
   ]
  },
  {
   "cell_type": "markdown",
   "id": "51ea4c18",
   "metadata": {},
   "source": [
    "#### Revisión por partes del código de identificación"
   ]
  },
  {
   "cell_type": "code",
   "execution_count": null,
   "id": "2994bdff",
   "metadata": {},
   "outputs": [],
   "source": [
    "display(code.loc[code[0].isna(),:])\n",
    "display(code.loc[code[1].isna(),:])\n",
    "display(code.loc[code[2].isna(),:])\n",
    "display(code.loc[code[3].isna(),:])"
   ]
  },
  {
   "cell_type": "markdown",
   "id": "d6636c37",
   "metadata": {},
   "source": [
    "Podemos observar que todo se ve de forma correcta"
   ]
  },
  {
   "cell_type": "markdown",
   "id": "0052163d",
   "metadata": {},
   "source": [
    "## Análisis para variable distrito"
   ]
  },
  {
   "cell_type": "markdown",
   "id": "76ca82c7",
   "metadata": {},
   "source": [
    "#### Revisión de Formato"
   ]
  },
  {
   "cell_type": "code",
   "execution_count": null,
   "id": "e92a7758",
   "metadata": {},
   "outputs": [],
   "source": [
    "display(df.DISTRITO.unique().tolist()[0:20])"
   ]
  },
  {
   "cell_type": "markdown",
   "id": "e00e4729",
   "metadata": {},
   "source": [
    "#### Revisión de Nulls"
   ]
  },
  {
   "cell_type": "code",
   "execution_count": null,
   "id": "11eaf905",
   "metadata": {},
   "outputs": [],
   "source": [
    "display(df.loc[df.DISTRITO.isna(),:])"
   ]
  },
  {
   "cell_type": "markdown",
   "id": "f46a50e2",
   "metadata": {},
   "source": [
    "#### Revisión de códigos únicos"
   ]
  },
  {
   "cell_type": "code",
   "execution_count": null,
   "id": "9b4cbf65",
   "metadata": {},
   "outputs": [],
   "source": [
    "df.DISTRITO.value_counts()"
   ]
  },
  {
   "cell_type": "markdown",
   "id": "8e7e723e",
   "metadata": {},
   "source": [
    "\n",
    "Debido a que es un Distrito que esta compuesto de la siguiente forma:\n",
    "\n",
    "$$##-###$$ \n",
    "\n",
    "Donde # es un númeor entero del 0 al 9, debemos de revisar si todos tienen los números completos o existen casos donde no se cumpla el estándar antes mencionado. \n",
    "\n",
    "No se despliegan todos los valores puesto que cada código es único para el distrito\n"
   ]
  },
  {
   "cell_type": "code",
   "execution_count": null,
   "id": "07305b74",
   "metadata": {},
   "outputs": [],
   "source": [
    "distrito=df.DISTRITO.str.split('-',expand=True)"
   ]
  },
  {
   "cell_type": "markdown",
   "id": "9c9f98de",
   "metadata": {},
   "source": [
    "#### Revisión por partes del código de identificación"
   ]
  },
  {
   "cell_type": "code",
   "execution_count": null,
   "id": "de5ba7c0",
   "metadata": {},
   "outputs": [],
   "source": [
    "print('Para primera parte del código de identificación del distrito')\n",
    "display(distrito.loc[(distrito[0].isna())|(distrito[0]==''),:])\n",
    "print('Para segunda parte del código de identificación del distrito')\n",
    "display(distrito.loc[(distrito[1].isna())|(distrito[1]==''),:])"
   ]
  },
  {
   "cell_type": "markdown",
   "id": "ea430e09",
   "metadata": {},
   "source": [
    "Podemos notar que tenemos 212 establecimientos que no tienen un código de distrito en la primera parte del código y en la segunda tenemos 245 (los 212 anteriores + 33 de establecimientos que solo poseen la primera mitad del código de distrito)"
   ]
  },
  {
   "cell_type": "markdown",
   "id": "d593091e",
   "metadata": {},
   "source": [
    "#### Porcentaje de datos faltantes a corregir"
   ]
  },
  {
   "cell_type": "code",
   "execution_count": null,
   "id": "595ffef3",
   "metadata": {},
   "outputs": [],
   "source": [
    "a=len(distrito.loc[(distrito[1].isna())|(distrito[1]==''),:])\n",
    "b=len(df)\n",
    "\n",
    "print(str(round((a/b)*100,2))+' %')"
   ]
  },
  {
   "cell_type": "markdown",
   "id": "bc76d5f6",
   "metadata": {},
   "source": [
    "#### Estrategia para corrección\n",
    "\n",
    "Se plantea una función en donde se busca la coincidencia más cercana con tres criterios:\n",
    "    \n",
    "    - Departamento\n",
    "    - Municipio\n",
    "    - Región Departamental\n",
    "    \n",
    "Y se sustituye el espacio vacío utilizando programación funcional"
   ]
  },
  {
   "cell_type": "code",
   "execution_count": null,
   "id": "581d4d8e",
   "metadata": {},
   "outputs": [],
   "source": [
    "def corregir_distrito(df,departamento,municipio,departamental):\n",
    "    \n",
    "    temp=df.loc[(df.DEPARTAMENTO==departamento)&(df.MUNICIPIO==municipio)&(df.DEPARTAMENTAL==departamental),'DISTRITO']\n",
    "    return temp.value_counts()[0]\n",
    "\n",
    "try:\n",
    "    df.loc[(df.DISTRITO.isna())|(df.DISTRITO.str.split('-',expand=True)[1]==''),'DISTRITO'] = df.loc[(df.DISTRITO.isna())|(df.DISTRITO.str.split('-',expand=True)[1]==''),:].apply(lambda row : corregir_distrito(df,row['DEPARTAMENTO'],row['MUNICIPIO'],row['DEPARTAMENTAL']), axis = 1)\n",
    "except:\n",
    "    print('Todos los códigos ya han sido restaurados')"
   ]
  },
  {
   "cell_type": "markdown",
   "id": "dff128bc",
   "metadata": {},
   "source": [
    "## Análisis para variable Departamento"
   ]
  },
  {
   "cell_type": "markdown",
   "id": "eb70acb1",
   "metadata": {},
   "source": [
    "#### Revisión de Formato"
   ]
  },
  {
   "cell_type": "code",
   "execution_count": null,
   "id": "b37998ea",
   "metadata": {},
   "outputs": [],
   "source": [
    "display(df.DEPARTAMENTO.unique())"
   ]
  },
  {
   "cell_type": "markdown",
   "id": "cbe669ba",
   "metadata": {},
   "source": [
    "#### Revisión de Nulls"
   ]
  },
  {
   "cell_type": "code",
   "execution_count": null,
   "id": "ea248050",
   "metadata": {},
   "outputs": [],
   "source": [
    "display(df.loc[df.DEPARTAMENTO.isna(),:])"
   ]
  },
  {
   "cell_type": "markdown",
   "id": "f8842b8a",
   "metadata": {},
   "source": [
    "#### Formato a Proper Case"
   ]
  },
  {
   "cell_type": "code",
   "execution_count": null,
   "id": "b87d0a24",
   "metadata": {},
   "outputs": [],
   "source": [
    "df.DEPARTAMENTO=df.DEPARTAMENTO.str.title()"
   ]
  },
  {
   "cell_type": "markdown",
   "id": "6859ac70",
   "metadata": {},
   "source": [
    "#### Conteo de establecimientos por departamento"
   ]
  },
  {
   "cell_type": "code",
   "execution_count": null,
   "id": "5dcfd5f3",
   "metadata": {},
   "outputs": [],
   "source": [
    "df.DEPARTAMENTO.value_counts()"
   ]
  },
  {
   "cell_type": "markdown",
   "id": "1b73687b",
   "metadata": {},
   "source": [
    "## Análisis para variable Municipio"
   ]
  },
  {
   "cell_type": "markdown",
   "id": "1b1874e0",
   "metadata": {},
   "source": [
    "#### Revisión de Formato"
   ]
  },
  {
   "cell_type": "code",
   "execution_count": null,
   "id": "d06aa9b3",
   "metadata": {},
   "outputs": [],
   "source": [
    "# Formato de datos\n",
    "display(df.MUNICIPIO.unique().tolist()[0:10])\n",
    "\n",
    "municipios=len(df.loc[~((df.DEPARTAMENTO=='Ciudad Capital')|(df.MUNICIPIO.str.contains('ZONA'))),'MUNICIPIO'].unique())\n",
    "zonas=len(df.loc[(df.DEPARTAMENTO=='Ciudad Capital')|(df.MUNICIPIO.str.contains('ZONA')),'MUNICIPIO'].unique())\n",
    "\n",
    "print('Cantidad de municipios con establecimientos en la base de datos: '+str(municipios))\n",
    "print('Cantidad de zonas de la ciudad capital con establecimientos en la base de datos: '+str(zonas))"
   ]
  },
  {
   "cell_type": "markdown",
   "id": "40b89fe1",
   "metadata": {},
   "source": [
    "#### Revisión de Nulls"
   ]
  },
  {
   "cell_type": "code",
   "execution_count": null,
   "id": "9f71cfa2",
   "metadata": {},
   "outputs": [],
   "source": [
    "display(df.loc[df.MUNICIPIO.isna(),:])"
   ]
  },
  {
   "cell_type": "markdown",
   "id": "e1c6df51",
   "metadata": {},
   "source": [
    "#### Formato a Proper Case"
   ]
  },
  {
   "cell_type": "code",
   "execution_count": null,
   "id": "87f011bb",
   "metadata": {},
   "outputs": [],
   "source": [
    "df.MUNICIPIO=df.MUNICIPIO.str.title()"
   ]
  },
  {
   "cell_type": "markdown",
   "id": "e92ac4b0",
   "metadata": {},
   "source": [
    "#### Eliminación de espacios en blanco no necesarios"
   ]
  },
  {
   "cell_type": "code",
   "execution_count": null,
   "id": "95e28909",
   "metadata": {},
   "outputs": [],
   "source": [
    "df.MUNICIPIO=df.MUNICIPIO.str.strip()"
   ]
  },
  {
   "cell_type": "markdown",
   "id": "aa520a06",
   "metadata": {},
   "source": [
    "#### Eliminación de acentos para estandarización"
   ]
  },
  {
   "cell_type": "code",
   "execution_count": null,
   "id": "2b2e9f2e",
   "metadata": {},
   "outputs": [],
   "source": [
    "df.MUNICIPIO=df.MUNICIPIO.str.replace('á','a')\n",
    "df.MUNICIPIO=df.MUNICIPIO.str.replace('é','e')\n",
    "df.MUNICIPIO=df.MUNICIPIO.str.replace('í','i')\n",
    "df.MUNICIPIO=df.MUNICIPIO.str.replace('ó','o')\n",
    "df.MUNICIPIO=df.MUNICIPIO.str.replace('ú','u')"
   ]
  },
  {
   "cell_type": "markdown",
   "id": "f24f38ce",
   "metadata": {},
   "source": [
    "#### Conteo de establecimientos por municipio o zona de la Ciudad Capital"
   ]
  },
  {
   "cell_type": "code",
   "execution_count": null,
   "id": "f6955152",
   "metadata": {},
   "outputs": [],
   "source": [
    "df.MUNICIPIO.value_counts()"
   ]
  }
 ],
 "metadata": {
  "kernelspec": {
   "display_name": "Python 3 (ipykernel)",
   "language": "python",
   "name": "python3"
  },
  "language_info": {
   "codemirror_mode": {
    "name": "ipython",
    "version": 3
   },
   "file_extension": ".py",
   "mimetype": "text/x-python",
   "name": "python",
   "nbconvert_exporter": "python",
   "pygments_lexer": "ipython3",
   "version": "3.7.3"
  }
 },
 "nbformat": 4,
 "nbformat_minor": 5
}
