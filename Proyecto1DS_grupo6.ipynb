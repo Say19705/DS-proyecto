{
 "cells": [
  {
   "cell_type": "markdown",
   "metadata": {},
   "source": [
    "# Proyecto No. 1 Data Science\n",
    "## Universidad del Valle de Guatemala Segundo Semestre 2021\n",
    "\n",
    "#### Andrés Say, 19705 Ayleen Rubio, 19003 Diego Alegría, 15171 Mario Sarmientos, 17055"
   ]
  },
  {
   "cell_type": "markdown",
   "metadata": {},
   "source": [
    "# Importación de liberías"
   ]
  },
  {
   "cell_type": "code",
   "execution_count": 1,
   "metadata": {},
   "outputs": [],
   "source": [
    "import pandas as pd\n",
    "import numpy as np\n",
    "import os "
   ]
  },
  {
   "cell_type": "markdown",
   "metadata": {},
   "source": [
    "## Lectura de directorio y unificación de Data Frame"
   ]
  },
  {
   "cell_type": "code",
   "execution_count": 2,
   "metadata": {},
   "outputs": [],
   "source": [
    "files=os.listdir('.\\EstablecimientosMINEDUC')"
   ]
  },
  {
   "cell_type": "code",
   "execution_count": 3,
   "metadata": {},
   "outputs": [
    {
     "data": {
      "text/html": [
       "<div>\n",
       "<style scoped>\n",
       "    .dataframe tbody tr th:only-of-type {\n",
       "        vertical-align: middle;\n",
       "    }\n",
       "\n",
       "    .dataframe tbody tr th {\n",
       "        vertical-align: top;\n",
       "    }\n",
       "\n",
       "    .dataframe thead th {\n",
       "        text-align: right;\n",
       "    }\n",
       "</style>\n",
       "<table border=\"1\" class=\"dataframe\">\n",
       "  <thead>\n",
       "    <tr style=\"text-align: right;\">\n",
       "      <th></th>\n",
       "      <th>CODIGO</th>\n",
       "      <th>DISTRITO</th>\n",
       "      <th>DEPARTAMENTO</th>\n",
       "      <th>MUNICIPIO</th>\n",
       "      <th>ESTABLECIMIENTO</th>\n",
       "      <th>DIRECCION</th>\n",
       "      <th>TELEFONO</th>\n",
       "      <th>SUPERVISOR</th>\n",
       "      <th>DIRECTOR</th>\n",
       "      <th>NIVEL</th>\n",
       "      <th>SECTOR</th>\n",
       "      <th>AREA</th>\n",
       "      <th>STATUS</th>\n",
       "      <th>MODALIDAD</th>\n",
       "      <th>JORNADA</th>\n",
       "      <th>PLAN</th>\n",
       "      <th>DEPARTAMENTAL</th>\n",
       "    </tr>\n",
       "  </thead>\n",
       "  <tbody>\n",
       "    <tr>\n",
       "      <th>0</th>\n",
       "      <td>16-01-0138-46</td>\n",
       "      <td>16-031</td>\n",
       "      <td>ALTA VERAPAZ</td>\n",
       "      <td>COBAN</td>\n",
       "      <td>COLEGIO COBAN</td>\n",
       "      <td>KM.2 SALIDA A SAN JUAN CHAMELCO ZONA 8</td>\n",
       "      <td>77945104</td>\n",
       "      <td>CESAR ROLANDO CHOCOOJ YALIBAT</td>\n",
       "      <td>JULIO CESAR VILLELA AMADO</td>\n",
       "      <td>DIVERSIFICADO</td>\n",
       "      <td>PRIVADO</td>\n",
       "      <td>URBANA</td>\n",
       "      <td>ABIERTA</td>\n",
       "      <td>MONOLINGUE</td>\n",
       "      <td>MATUTINA</td>\n",
       "      <td>DIARIO(REGULAR)</td>\n",
       "      <td>ALTA VERAPAZ</td>\n",
       "    </tr>\n",
       "    <tr>\n",
       "      <th>1</th>\n",
       "      <td>16-01-0139-46</td>\n",
       "      <td>16-031</td>\n",
       "      <td>ALTA VERAPAZ</td>\n",
       "      <td>COBAN</td>\n",
       "      <td>COLEGIO PARTICULAR MIXTO VERAPAZ</td>\n",
       "      <td>KM 209.5 ENTRADA A LA CIUDAD</td>\n",
       "      <td>77367402</td>\n",
       "      <td>CESAR ROLANDO CHOCOOJ YALIBAT</td>\n",
       "      <td>NaN</td>\n",
       "      <td>DIVERSIFICADO</td>\n",
       "      <td>PRIVADO</td>\n",
       "      <td>URBANA</td>\n",
       "      <td>ABIERTA</td>\n",
       "      <td>MONOLINGUE</td>\n",
       "      <td>MATUTINA</td>\n",
       "      <td>DIARIO(REGULAR)</td>\n",
       "      <td>ALTA VERAPAZ</td>\n",
       "    </tr>\n",
       "    <tr>\n",
       "      <th>2</th>\n",
       "      <td>16-01-0140-46</td>\n",
       "      <td>16-031</td>\n",
       "      <td>ALTA VERAPAZ</td>\n",
       "      <td>COBAN</td>\n",
       "      <td>COLEGIO \"LA INMACULADA\"</td>\n",
       "      <td>7A. AVENIDA 11-109 ZONA 6</td>\n",
       "      <td>49532425</td>\n",
       "      <td>CESAR ROLANDO CHOCOOJ YALIBAT</td>\n",
       "      <td>MERCEDES QUIROS QUIROS</td>\n",
       "      <td>DIVERSIFICADO</td>\n",
       "      <td>PRIVADO</td>\n",
       "      <td>URBANA</td>\n",
       "      <td>ABIERTA</td>\n",
       "      <td>MONOLINGUE</td>\n",
       "      <td>MATUTINA</td>\n",
       "      <td>DIARIO(REGULAR)</td>\n",
       "      <td>ALTA VERAPAZ</td>\n",
       "    </tr>\n",
       "    <tr>\n",
       "      <th>3</th>\n",
       "      <td>16-01-0141-46</td>\n",
       "      <td>16-005</td>\n",
       "      <td>ALTA VERAPAZ</td>\n",
       "      <td>COBAN</td>\n",
       "      <td>ESCUELA NACIONAL DE CIENCIAS COMERCIALES</td>\n",
       "      <td>2A CALLE 11-10 ZONA 2</td>\n",
       "      <td>79514215</td>\n",
       "      <td>JUAN CARLOS WINTER CAAL</td>\n",
       "      <td>NaN</td>\n",
       "      <td>DIVERSIFICADO</td>\n",
       "      <td>OFICIAL</td>\n",
       "      <td>URBANA</td>\n",
       "      <td>ABIERTA</td>\n",
       "      <td>MONOLINGUE</td>\n",
       "      <td>MATUTINA</td>\n",
       "      <td>DIARIO(REGULAR)</td>\n",
       "      <td>ALTA VERAPAZ</td>\n",
       "    </tr>\n",
       "    <tr>\n",
       "      <th>4</th>\n",
       "      <td>16-01-0142-46</td>\n",
       "      <td>16-005</td>\n",
       "      <td>ALTA VERAPAZ</td>\n",
       "      <td>COBAN</td>\n",
       "      <td>INSTITUTO NORMAL MIXTO DEL NORTE 'EMILIO ROSAL...</td>\n",
       "      <td>3A AVE 6-23 ZONA 11</td>\n",
       "      <td>79521468</td>\n",
       "      <td>JUAN CARLOS WINTER CAAL</td>\n",
       "      <td>NaN</td>\n",
       "      <td>DIVERSIFICADO</td>\n",
       "      <td>OFICIAL</td>\n",
       "      <td>URBANA</td>\n",
       "      <td>ABIERTA</td>\n",
       "      <td>BILINGUE</td>\n",
       "      <td>VESPERTINA</td>\n",
       "      <td>DIARIO(REGULAR)</td>\n",
       "      <td>ALTA VERAPAZ</td>\n",
       "    </tr>\n",
       "    <tr>\n",
       "      <th>...</th>\n",
       "      <td>...</td>\n",
       "      <td>...</td>\n",
       "      <td>...</td>\n",
       "      <td>...</td>\n",
       "      <td>...</td>\n",
       "      <td>...</td>\n",
       "      <td>...</td>\n",
       "      <td>...</td>\n",
       "      <td>...</td>\n",
       "      <td>...</td>\n",
       "      <td>...</td>\n",
       "      <td>...</td>\n",
       "      <td>...</td>\n",
       "      <td>...</td>\n",
       "      <td>...</td>\n",
       "      <td>...</td>\n",
       "      <td>...</td>\n",
       "    </tr>\n",
       "    <tr>\n",
       "      <th>7959</th>\n",
       "      <td>19-09-0040-46</td>\n",
       "      <td>19-026</td>\n",
       "      <td>ZACAPA</td>\n",
       "      <td>LA UNION</td>\n",
       "      <td>LICEO PARTICULAR MIXTO JIREH</td>\n",
       "      <td>BARRIO NUEVO</td>\n",
       "      <td>79418369.0</td>\n",
       "      <td>BERTA ALICIA LEIVA CORDON DE GARCIA</td>\n",
       "      <td>ANA MARÍA CUELLAR GUERRA DE RAMÍREZ</td>\n",
       "      <td>DIVERSIFICADO</td>\n",
       "      <td>PRIVADO</td>\n",
       "      <td>URBANA</td>\n",
       "      <td>ABIERTA</td>\n",
       "      <td>MONOLINGUE</td>\n",
       "      <td>MATUTINA</td>\n",
       "      <td>DIARIO(REGULAR)</td>\n",
       "      <td>ZACAPA</td>\n",
       "    </tr>\n",
       "    <tr>\n",
       "      <th>7960</th>\n",
       "      <td>19-09-0902-46</td>\n",
       "      <td>19-026</td>\n",
       "      <td>ZACAPA</td>\n",
       "      <td>LA UNION</td>\n",
       "      <td>LICEO PARTICULAR MIXTO JIREH (POR MADUREZ)</td>\n",
       "      <td>BARRIO NUEVO</td>\n",
       "      <td>79418369.0</td>\n",
       "      <td>BERTA ALICIA LEIVA CORDON DE GARCIA</td>\n",
       "      <td>ANA MARÍA CUELLAR GUERRA DE RAMÍREZ</td>\n",
       "      <td>DIVERSIFICADO</td>\n",
       "      <td>PRIVADO</td>\n",
       "      <td>URBANA</td>\n",
       "      <td>ABIERTA</td>\n",
       "      <td>MONOLINGUE</td>\n",
       "      <td>DOBLE</td>\n",
       "      <td>FIN DE SEMANA</td>\n",
       "      <td>ZACAPA</td>\n",
       "    </tr>\n",
       "    <tr>\n",
       "      <th>7961</th>\n",
       "      <td>19-10-0013-46</td>\n",
       "      <td>19-016</td>\n",
       "      <td>ZACAPA</td>\n",
       "      <td>HUITE</td>\n",
       "      <td>INSTITUTO DIVERSIFICADO</td>\n",
       "      <td>BARRIO BUENOS AIRES</td>\n",
       "      <td>31863599.0</td>\n",
       "      <td>WENDER HUMBERTO MATEO NAJERA</td>\n",
       "      <td>ERIC MANUEL PÉREZ AGUILAR</td>\n",
       "      <td>DIVERSIFICADO</td>\n",
       "      <td>OFICIAL</td>\n",
       "      <td>URBANA</td>\n",
       "      <td>ABIERTA</td>\n",
       "      <td>MONOLINGUE</td>\n",
       "      <td>NOCTURNA</td>\n",
       "      <td>DIARIO(REGULAR)</td>\n",
       "      <td>ZACAPA</td>\n",
       "    </tr>\n",
       "    <tr>\n",
       "      <th>7962</th>\n",
       "      <td>19-10-1009-46</td>\n",
       "      <td>19-016</td>\n",
       "      <td>ZACAPA</td>\n",
       "      <td>HUITE</td>\n",
       "      <td>INSTITUTO MIXTO DE EDUCACION DIVERSIFICADA POR...</td>\n",
       "      <td>BARRIO EL CAMPO</td>\n",
       "      <td>55958103.0</td>\n",
       "      <td>WENDER HUMBERTO MATEO NAJERA</td>\n",
       "      <td>ROBIDIO PORTILLO SALGUERO</td>\n",
       "      <td>DIVERSIFICADO</td>\n",
       "      <td>COOPERATIVA</td>\n",
       "      <td>URBANA</td>\n",
       "      <td>ABIERTA</td>\n",
       "      <td>MONOLINGUE</td>\n",
       "      <td>VESPERTINA</td>\n",
       "      <td>DIARIO(REGULAR)</td>\n",
       "      <td>ZACAPA</td>\n",
       "    </tr>\n",
       "    <tr>\n",
       "      <th>7963</th>\n",
       "      <td>19-11-0018-46</td>\n",
       "      <td>19-020</td>\n",
       "      <td>ZACAPA</td>\n",
       "      <td>SAN JORGE</td>\n",
       "      <td>INSTITUTO MIXTO DE EDUCACIÓN DIVERSIFICADA POR...</td>\n",
       "      <td>BARRIO EL CENTRO</td>\n",
       "      <td>41447589.0</td>\n",
       "      <td>ALBA LUZ MENDEZ</td>\n",
       "      <td>VICTOR HUGO GUERRA MONROY</td>\n",
       "      <td>DIVERSIFICADO</td>\n",
       "      <td>COOPERATIVA</td>\n",
       "      <td>URBANA</td>\n",
       "      <td>ABIERTA</td>\n",
       "      <td>MONOLINGUE</td>\n",
       "      <td>MATUTINA</td>\n",
       "      <td>DIARIO(REGULAR)</td>\n",
       "      <td>ZACAPA</td>\n",
       "    </tr>\n",
       "  </tbody>\n",
       "</table>\n",
       "<p>7964 rows × 17 columns</p>\n",
       "</div>"
      ],
      "text/plain": [
       "             CODIGO DISTRITO  DEPARTAMENTO  MUNICIPIO  \\\n",
       "0     16-01-0138-46   16-031  ALTA VERAPAZ      COBAN   \n",
       "1     16-01-0139-46   16-031  ALTA VERAPAZ      COBAN   \n",
       "2     16-01-0140-46   16-031  ALTA VERAPAZ      COBAN   \n",
       "3     16-01-0141-46   16-005  ALTA VERAPAZ      COBAN   \n",
       "4     16-01-0142-46   16-005  ALTA VERAPAZ      COBAN   \n",
       "...             ...      ...           ...        ...   \n",
       "7959  19-09-0040-46   19-026        ZACAPA   LA UNION   \n",
       "7960  19-09-0902-46   19-026        ZACAPA   LA UNION   \n",
       "7961  19-10-0013-46   19-016        ZACAPA      HUITE   \n",
       "7962  19-10-1009-46   19-016        ZACAPA      HUITE   \n",
       "7963  19-11-0018-46   19-020        ZACAPA  SAN JORGE   \n",
       "\n",
       "                                        ESTABLECIMIENTO  \\\n",
       "0                                         COLEGIO COBAN   \n",
       "1                      COLEGIO PARTICULAR MIXTO VERAPAZ   \n",
       "2                               COLEGIO \"LA INMACULADA\"   \n",
       "3              ESCUELA NACIONAL DE CIENCIAS COMERCIALES   \n",
       "4     INSTITUTO NORMAL MIXTO DEL NORTE 'EMILIO ROSAL...   \n",
       "...                                                 ...   \n",
       "7959                       LICEO PARTICULAR MIXTO JIREH   \n",
       "7960         LICEO PARTICULAR MIXTO JIREH (POR MADUREZ)   \n",
       "7961                            INSTITUTO DIVERSIFICADO   \n",
       "7962  INSTITUTO MIXTO DE EDUCACION DIVERSIFICADA POR...   \n",
       "7963  INSTITUTO MIXTO DE EDUCACIÓN DIVERSIFICADA POR...   \n",
       "\n",
       "                                   DIRECCION    TELEFONO  \\\n",
       "0     KM.2 SALIDA A SAN JUAN CHAMELCO ZONA 8    77945104   \n",
       "1               KM 209.5 ENTRADA A LA CIUDAD    77367402   \n",
       "2                  7A. AVENIDA 11-109 ZONA 6    49532425   \n",
       "3                      2A CALLE 11-10 ZONA 2    79514215   \n",
       "4                        3A AVE 6-23 ZONA 11    79521468   \n",
       "...                                      ...         ...   \n",
       "7959                            BARRIO NUEVO  79418369.0   \n",
       "7960                            BARRIO NUEVO  79418369.0   \n",
       "7961                     BARRIO BUENOS AIRES  31863599.0   \n",
       "7962                         BARRIO EL CAMPO  55958103.0   \n",
       "7963                        BARRIO EL CENTRO  41447589.0   \n",
       "\n",
       "                               SUPERVISOR  \\\n",
       "0           CESAR ROLANDO CHOCOOJ YALIBAT   \n",
       "1           CESAR ROLANDO CHOCOOJ YALIBAT   \n",
       "2           CESAR ROLANDO CHOCOOJ YALIBAT   \n",
       "3                 JUAN CARLOS WINTER CAAL   \n",
       "4                 JUAN CARLOS WINTER CAAL   \n",
       "...                                   ...   \n",
       "7959  BERTA ALICIA LEIVA CORDON DE GARCIA   \n",
       "7960  BERTA ALICIA LEIVA CORDON DE GARCIA   \n",
       "7961         WENDER HUMBERTO MATEO NAJERA   \n",
       "7962         WENDER HUMBERTO MATEO NAJERA   \n",
       "7963                      ALBA LUZ MENDEZ   \n",
       "\n",
       "                                 DIRECTOR          NIVEL       SECTOR    AREA  \\\n",
       "0               JULIO CESAR VILLELA AMADO  DIVERSIFICADO      PRIVADO  URBANA   \n",
       "1                                     NaN  DIVERSIFICADO      PRIVADO  URBANA   \n",
       "2                  MERCEDES QUIROS QUIROS  DIVERSIFICADO      PRIVADO  URBANA   \n",
       "3                                     NaN  DIVERSIFICADO      OFICIAL  URBANA   \n",
       "4                                     NaN  DIVERSIFICADO      OFICIAL  URBANA   \n",
       "...                                   ...            ...          ...     ...   \n",
       "7959  ANA MARÍA CUELLAR GUERRA DE RAMÍREZ  DIVERSIFICADO      PRIVADO  URBANA   \n",
       "7960  ANA MARÍA CUELLAR GUERRA DE RAMÍREZ  DIVERSIFICADO      PRIVADO  URBANA   \n",
       "7961            ERIC MANUEL PÉREZ AGUILAR  DIVERSIFICADO      OFICIAL  URBANA   \n",
       "7962            ROBIDIO PORTILLO SALGUERO  DIVERSIFICADO  COOPERATIVA  URBANA   \n",
       "7963            VICTOR HUGO GUERRA MONROY  DIVERSIFICADO  COOPERATIVA  URBANA   \n",
       "\n",
       "       STATUS   MODALIDAD     JORNADA             PLAN DEPARTAMENTAL  \n",
       "0     ABIERTA  MONOLINGUE    MATUTINA  DIARIO(REGULAR)  ALTA VERAPAZ  \n",
       "1     ABIERTA  MONOLINGUE    MATUTINA  DIARIO(REGULAR)  ALTA VERAPAZ  \n",
       "2     ABIERTA  MONOLINGUE    MATUTINA  DIARIO(REGULAR)  ALTA VERAPAZ  \n",
       "3     ABIERTA  MONOLINGUE    MATUTINA  DIARIO(REGULAR)  ALTA VERAPAZ  \n",
       "4     ABIERTA    BILINGUE  VESPERTINA  DIARIO(REGULAR)  ALTA VERAPAZ  \n",
       "...       ...         ...         ...              ...           ...  \n",
       "7959  ABIERTA  MONOLINGUE    MATUTINA  DIARIO(REGULAR)        ZACAPA  \n",
       "7960  ABIERTA  MONOLINGUE       DOBLE    FIN DE SEMANA        ZACAPA  \n",
       "7961  ABIERTA  MONOLINGUE    NOCTURNA  DIARIO(REGULAR)        ZACAPA  \n",
       "7962  ABIERTA  MONOLINGUE  VESPERTINA  DIARIO(REGULAR)        ZACAPA  \n",
       "7963  ABIERTA  MONOLINGUE    MATUTINA  DIARIO(REGULAR)        ZACAPA  \n",
       "\n",
       "[7964 rows x 17 columns]"
      ]
     },
     "execution_count": 3,
     "metadata": {},
     "output_type": "execute_result"
    }
   ],
   "source": [
    "df=pd.read_csv('.\\EstablecimientosMINEDUC\\\\'+files[0],encoding = \"ISO-8859-1\",header=1,skipfooter=2,engine='python')\n",
    "df=pd.DataFrame(columns=df.columns)\n",
    "for i in files:\n",
    "    temp=(pd.read_csv('.\\EstablecimientosMINEDUC\\\\'+i,encoding = \"ISO-8859-1\",header=1,skipfooter=2,engine='python'))\n",
    "    \n",
    "    temp.loc[temp.DISTRITO=='','DISTRITO']=np.nan\n",
    "    temp.loc[temp.DEPARTAMENTO=='','DEPARTAMENTO']=np.nan\n",
    "    temp.loc[temp.MUNICIPIO=='','MUNICIPIO']=np.nan\n",
    "    temp.loc[temp.DIRECCION=='nan','DIRECCION']=np.nan\n",
    "    temp.loc[temp.TELEFONO=='nan','TELEFONO']=np.nan\n",
    "    temp.loc[temp.ESTABLECIMIENTO=='nan','ESTABLECIMIENTO']=np.nan\n",
    "    temp.loc[temp.DIRECCION=='','DIRECCION']=np.nan\n",
    "    temp.loc[temp.TELEFONO=='','TELEFONO']=np.nan\n",
    "    \n",
    "    \n",
    "    temp.DEPARTAMENTO=temp.DEPARTAMENTO.fillna(method='ffill')\n",
    "    \n",
    "    df=df.append(temp,ignore_index=True)\n",
    "    \n",
    "df\n",
    "    "
   ]
  },
  {
   "cell_type": "markdown",
   "metadata": {},
   "source": [
    "## Lista de variables (Columnas)"
   ]
  },
  {
   "cell_type": "code",
   "execution_count": 4,
   "metadata": {},
   "outputs": [
    {
     "data": {
      "text/plain": [
       "['CODIGO',\n",
       " 'DISTRITO',\n",
       " 'DEPARTAMENTO',\n",
       " 'MUNICIPIO',\n",
       " 'ESTABLECIMIENTO',\n",
       " 'DIRECCION',\n",
       " 'TELEFONO',\n",
       " 'SUPERVISOR',\n",
       " 'DIRECTOR',\n",
       " 'NIVEL',\n",
       " 'SECTOR',\n",
       " 'AREA',\n",
       " 'STATUS',\n",
       " 'MODALIDAD',\n",
       " 'JORNADA',\n",
       " 'PLAN',\n",
       " 'DEPARTAMENTAL']"
      ]
     },
     "metadata": {},
     "output_type": "display_data"
    }
   ],
   "source": [
    "display(df.columns.tolist())"
   ]
  },
  {
   "cell_type": "markdown",
   "metadata": {},
   "source": [
    "## Tipos de variables"
   ]
  },
  {
   "cell_type": "code",
   "execution_count": 5,
   "metadata": {},
   "outputs": [
    {
     "data": {
      "text/plain": [
       "CODIGO             object\n",
       "DISTRITO           object\n",
       "DEPARTAMENTO       object\n",
       "MUNICIPIO          object\n",
       "ESTABLECIMIENTO    object\n",
       "DIRECCION          object\n",
       "TELEFONO           object\n",
       "SUPERVISOR         object\n",
       "DIRECTOR           object\n",
       "NIVEL              object\n",
       "SECTOR             object\n",
       "AREA               object\n",
       "STATUS             object\n",
       "MODALIDAD          object\n",
       "JORNADA            object\n",
       "PLAN               object\n",
       "DEPARTAMENTAL      object\n",
       "dtype: object"
      ]
     },
     "execution_count": 5,
     "metadata": {},
     "output_type": "execute_result"
    }
   ],
   "source": [
    "df.dtypes"
   ]
  },
  {
   "cell_type": "markdown",
   "metadata": {},
   "source": [
    "## Análisis para variable Código"
   ]
  },
  {
   "cell_type": "markdown",
   "metadata": {},
   "source": [
    "#### Revisión de Formato"
   ]
  },
  {
   "cell_type": "code",
   "execution_count": 6,
   "metadata": {
    "scrolled": false
   },
   "outputs": [
    {
     "data": {
      "text/plain": [
       "array(['16-01-0138-46', '16-01-0139-46', '16-01-0140-46', ...,\n",
       "       '19-10-0013-46', '19-10-1009-46', '19-11-0018-46'], dtype=object)"
      ]
     },
     "metadata": {},
     "output_type": "display_data"
    }
   ],
   "source": [
    "display(df.CODIGO.unique())"
   ]
  },
  {
   "cell_type": "markdown",
   "metadata": {},
   "source": [
    "#### Revisión de Nulls"
   ]
  },
  {
   "cell_type": "code",
   "execution_count": 7,
   "metadata": {
    "scrolled": true
   },
   "outputs": [
    {
     "data": {
      "text/html": [
       "<div>\n",
       "<style scoped>\n",
       "    .dataframe tbody tr th:only-of-type {\n",
       "        vertical-align: middle;\n",
       "    }\n",
       "\n",
       "    .dataframe tbody tr th {\n",
       "        vertical-align: top;\n",
       "    }\n",
       "\n",
       "    .dataframe thead th {\n",
       "        text-align: right;\n",
       "    }\n",
       "</style>\n",
       "<table border=\"1\" class=\"dataframe\">\n",
       "  <thead>\n",
       "    <tr style=\"text-align: right;\">\n",
       "      <th></th>\n",
       "      <th>CODIGO</th>\n",
       "      <th>DISTRITO</th>\n",
       "      <th>DEPARTAMENTO</th>\n",
       "      <th>MUNICIPIO</th>\n",
       "      <th>ESTABLECIMIENTO</th>\n",
       "      <th>DIRECCION</th>\n",
       "      <th>TELEFONO</th>\n",
       "      <th>SUPERVISOR</th>\n",
       "      <th>DIRECTOR</th>\n",
       "      <th>NIVEL</th>\n",
       "      <th>SECTOR</th>\n",
       "      <th>AREA</th>\n",
       "      <th>STATUS</th>\n",
       "      <th>MODALIDAD</th>\n",
       "      <th>JORNADA</th>\n",
       "      <th>PLAN</th>\n",
       "      <th>DEPARTAMENTAL</th>\n",
       "    </tr>\n",
       "  </thead>\n",
       "  <tbody>\n",
       "  </tbody>\n",
       "</table>\n",
       "</div>"
      ],
      "text/plain": [
       "Empty DataFrame\n",
       "Columns: [CODIGO, DISTRITO, DEPARTAMENTO, MUNICIPIO, ESTABLECIMIENTO, DIRECCION, TELEFONO, SUPERVISOR, DIRECTOR, NIVEL, SECTOR, AREA, STATUS, MODALIDAD, JORNADA, PLAN, DEPARTAMENTAL]\n",
       "Index: []"
      ]
     },
     "metadata": {},
     "output_type": "display_data"
    },
    {
     "data": {
      "text/html": [
       "<div>\n",
       "<style scoped>\n",
       "    .dataframe tbody tr th:only-of-type {\n",
       "        vertical-align: middle;\n",
       "    }\n",
       "\n",
       "    .dataframe tbody tr th {\n",
       "        vertical-align: top;\n",
       "    }\n",
       "\n",
       "    .dataframe thead th {\n",
       "        text-align: right;\n",
       "    }\n",
       "</style>\n",
       "<table border=\"1\" class=\"dataframe\">\n",
       "  <thead>\n",
       "    <tr style=\"text-align: right;\">\n",
       "      <th></th>\n",
       "      <th>CODIGO</th>\n",
       "      <th>DISTRITO</th>\n",
       "      <th>DEPARTAMENTO</th>\n",
       "      <th>MUNICIPIO</th>\n",
       "      <th>ESTABLECIMIENTO</th>\n",
       "      <th>DIRECCION</th>\n",
       "      <th>TELEFONO</th>\n",
       "      <th>SUPERVISOR</th>\n",
       "      <th>DIRECTOR</th>\n",
       "      <th>NIVEL</th>\n",
       "      <th>SECTOR</th>\n",
       "      <th>AREA</th>\n",
       "      <th>STATUS</th>\n",
       "      <th>MODALIDAD</th>\n",
       "      <th>JORNADA</th>\n",
       "      <th>PLAN</th>\n",
       "      <th>DEPARTAMENTAL</th>\n",
       "    </tr>\n",
       "  </thead>\n",
       "  <tbody>\n",
       "  </tbody>\n",
       "</table>\n",
       "</div>"
      ],
      "text/plain": [
       "Empty DataFrame\n",
       "Columns: [CODIGO, DISTRITO, DEPARTAMENTO, MUNICIPIO, ESTABLECIMIENTO, DIRECCION, TELEFONO, SUPERVISOR, DIRECTOR, NIVEL, SECTOR, AREA, STATUS, MODALIDAD, JORNADA, PLAN, DEPARTAMENTAL]\n",
       "Index: []"
      ]
     },
     "metadata": {},
     "output_type": "display_data"
    }
   ],
   "source": [
    "# Utilizando el criterio de pandas\n",
    "display(df.loc[df.CODIGO.isna(),:])\n",
    "\n",
    "# Utilizando el criterio de la palabra nan\n",
    "\n",
    "display(df.loc[df.CODIGO=='nan',:])\n"
   ]
  },
  {
   "cell_type": "markdown",
   "metadata": {},
   "source": [
    "#### Revisión de duplicidad"
   ]
  },
  {
   "cell_type": "code",
   "execution_count": 8,
   "metadata": {},
   "outputs": [
    {
     "data": {
      "text/plain": [
       "0"
      ]
     },
     "metadata": {},
     "output_type": "display_data"
    }
   ],
   "source": [
    "a=len(df.CODIGO.value_counts())\n",
    "b=len(df)\n",
    "\n",
    "display(b-a)\n",
    "\n",
    "#No existe duplicidad"
   ]
  },
  {
   "cell_type": "markdown",
   "metadata": {},
   "source": [
    "\n",
    "\n",
    "Debido a que es un código que esta compuesto de la siguiente forma:\n",
    "\n",
    "$$##-##-####-##$$ \n",
    "\n",
    "Donde # es un númeor entero del 0 al 9, debemos de revisar si todos tienen los números completos o existen casos donde no se cumpla el estándar antes mencionado. \n",
    "\n",
    "No se despliegan todos los valores puesto que cada código es único y no representa ningún tipo de relación con otros establecimientos más si presenta una relación con las otras variables de ubicación como departamento y municipio.\n",
    "\n"
   ]
  },
  {
   "cell_type": "code",
   "execution_count": 9,
   "metadata": {},
   "outputs": [
    {
     "data": {
      "text/html": [
       "<div>\n",
       "<style scoped>\n",
       "    .dataframe tbody tr th:only-of-type {\n",
       "        vertical-align: middle;\n",
       "    }\n",
       "\n",
       "    .dataframe tbody tr th {\n",
       "        vertical-align: top;\n",
       "    }\n",
       "\n",
       "    .dataframe thead th {\n",
       "        text-align: right;\n",
       "    }\n",
       "</style>\n",
       "<table border=\"1\" class=\"dataframe\">\n",
       "  <thead>\n",
       "    <tr style=\"text-align: right;\">\n",
       "      <th></th>\n",
       "      <th>0</th>\n",
       "      <th>1</th>\n",
       "      <th>2</th>\n",
       "      <th>3</th>\n",
       "    </tr>\n",
       "  </thead>\n",
       "  <tbody>\n",
       "    <tr>\n",
       "      <th>0</th>\n",
       "      <td>16</td>\n",
       "      <td>01</td>\n",
       "      <td>0138</td>\n",
       "      <td>46</td>\n",
       "    </tr>\n",
       "    <tr>\n",
       "      <th>1</th>\n",
       "      <td>16</td>\n",
       "      <td>01</td>\n",
       "      <td>0139</td>\n",
       "      <td>46</td>\n",
       "    </tr>\n",
       "    <tr>\n",
       "      <th>2</th>\n",
       "      <td>16</td>\n",
       "      <td>01</td>\n",
       "      <td>0140</td>\n",
       "      <td>46</td>\n",
       "    </tr>\n",
       "    <tr>\n",
       "      <th>3</th>\n",
       "      <td>16</td>\n",
       "      <td>01</td>\n",
       "      <td>0141</td>\n",
       "      <td>46</td>\n",
       "    </tr>\n",
       "    <tr>\n",
       "      <th>4</th>\n",
       "      <td>16</td>\n",
       "      <td>01</td>\n",
       "      <td>0142</td>\n",
       "      <td>46</td>\n",
       "    </tr>\n",
       "    <tr>\n",
       "      <th>...</th>\n",
       "      <td>...</td>\n",
       "      <td>...</td>\n",
       "      <td>...</td>\n",
       "      <td>...</td>\n",
       "    </tr>\n",
       "    <tr>\n",
       "      <th>7959</th>\n",
       "      <td>19</td>\n",
       "      <td>09</td>\n",
       "      <td>0040</td>\n",
       "      <td>46</td>\n",
       "    </tr>\n",
       "    <tr>\n",
       "      <th>7960</th>\n",
       "      <td>19</td>\n",
       "      <td>09</td>\n",
       "      <td>0902</td>\n",
       "      <td>46</td>\n",
       "    </tr>\n",
       "    <tr>\n",
       "      <th>7961</th>\n",
       "      <td>19</td>\n",
       "      <td>10</td>\n",
       "      <td>0013</td>\n",
       "      <td>46</td>\n",
       "    </tr>\n",
       "    <tr>\n",
       "      <th>7962</th>\n",
       "      <td>19</td>\n",
       "      <td>10</td>\n",
       "      <td>1009</td>\n",
       "      <td>46</td>\n",
       "    </tr>\n",
       "    <tr>\n",
       "      <th>7963</th>\n",
       "      <td>19</td>\n",
       "      <td>11</td>\n",
       "      <td>0018</td>\n",
       "      <td>46</td>\n",
       "    </tr>\n",
       "  </tbody>\n",
       "</table>\n",
       "<p>7964 rows × 4 columns</p>\n",
       "</div>"
      ],
      "text/plain": [
       "       0   1     2   3\n",
       "0     16  01  0138  46\n",
       "1     16  01  0139  46\n",
       "2     16  01  0140  46\n",
       "3     16  01  0141  46\n",
       "4     16  01  0142  46\n",
       "...   ..  ..   ...  ..\n",
       "7959  19  09  0040  46\n",
       "7960  19  09  0902  46\n",
       "7961  19  10  0013  46\n",
       "7962  19  10  1009  46\n",
       "7963  19  11  0018  46\n",
       "\n",
       "[7964 rows x 4 columns]"
      ]
     },
     "execution_count": 9,
     "metadata": {},
     "output_type": "execute_result"
    }
   ],
   "source": [
    "code=df.CODIGO.str.split('-',expand=True).copy()\n",
    "code"
   ]
  },
  {
   "cell_type": "markdown",
   "metadata": {},
   "source": [
    "#### Revisión por partes del código de identificación"
   ]
  },
  {
   "cell_type": "code",
   "execution_count": 10,
   "metadata": {},
   "outputs": [
    {
     "data": {
      "text/html": [
       "<div>\n",
       "<style scoped>\n",
       "    .dataframe tbody tr th:only-of-type {\n",
       "        vertical-align: middle;\n",
       "    }\n",
       "\n",
       "    .dataframe tbody tr th {\n",
       "        vertical-align: top;\n",
       "    }\n",
       "\n",
       "    .dataframe thead th {\n",
       "        text-align: right;\n",
       "    }\n",
       "</style>\n",
       "<table border=\"1\" class=\"dataframe\">\n",
       "  <thead>\n",
       "    <tr style=\"text-align: right;\">\n",
       "      <th></th>\n",
       "      <th>0</th>\n",
       "      <th>1</th>\n",
       "      <th>2</th>\n",
       "      <th>3</th>\n",
       "    </tr>\n",
       "  </thead>\n",
       "  <tbody>\n",
       "  </tbody>\n",
       "</table>\n",
       "</div>"
      ],
      "text/plain": [
       "Empty DataFrame\n",
       "Columns: [0, 1, 2, 3]\n",
       "Index: []"
      ]
     },
     "metadata": {},
     "output_type": "display_data"
    },
    {
     "data": {
      "text/html": [
       "<div>\n",
       "<style scoped>\n",
       "    .dataframe tbody tr th:only-of-type {\n",
       "        vertical-align: middle;\n",
       "    }\n",
       "\n",
       "    .dataframe tbody tr th {\n",
       "        vertical-align: top;\n",
       "    }\n",
       "\n",
       "    .dataframe thead th {\n",
       "        text-align: right;\n",
       "    }\n",
       "</style>\n",
       "<table border=\"1\" class=\"dataframe\">\n",
       "  <thead>\n",
       "    <tr style=\"text-align: right;\">\n",
       "      <th></th>\n",
       "      <th>0</th>\n",
       "      <th>1</th>\n",
       "      <th>2</th>\n",
       "      <th>3</th>\n",
       "    </tr>\n",
       "  </thead>\n",
       "  <tbody>\n",
       "  </tbody>\n",
       "</table>\n",
       "</div>"
      ],
      "text/plain": [
       "Empty DataFrame\n",
       "Columns: [0, 1, 2, 3]\n",
       "Index: []"
      ]
     },
     "metadata": {},
     "output_type": "display_data"
    },
    {
     "data": {
      "text/html": [
       "<div>\n",
       "<style scoped>\n",
       "    .dataframe tbody tr th:only-of-type {\n",
       "        vertical-align: middle;\n",
       "    }\n",
       "\n",
       "    .dataframe tbody tr th {\n",
       "        vertical-align: top;\n",
       "    }\n",
       "\n",
       "    .dataframe thead th {\n",
       "        text-align: right;\n",
       "    }\n",
       "</style>\n",
       "<table border=\"1\" class=\"dataframe\">\n",
       "  <thead>\n",
       "    <tr style=\"text-align: right;\">\n",
       "      <th></th>\n",
       "      <th>0</th>\n",
       "      <th>1</th>\n",
       "      <th>2</th>\n",
       "      <th>3</th>\n",
       "    </tr>\n",
       "  </thead>\n",
       "  <tbody>\n",
       "  </tbody>\n",
       "</table>\n",
       "</div>"
      ],
      "text/plain": [
       "Empty DataFrame\n",
       "Columns: [0, 1, 2, 3]\n",
       "Index: []"
      ]
     },
     "metadata": {},
     "output_type": "display_data"
    },
    {
     "data": {
      "text/html": [
       "<div>\n",
       "<style scoped>\n",
       "    .dataframe tbody tr th:only-of-type {\n",
       "        vertical-align: middle;\n",
       "    }\n",
       "\n",
       "    .dataframe tbody tr th {\n",
       "        vertical-align: top;\n",
       "    }\n",
       "\n",
       "    .dataframe thead th {\n",
       "        text-align: right;\n",
       "    }\n",
       "</style>\n",
       "<table border=\"1\" class=\"dataframe\">\n",
       "  <thead>\n",
       "    <tr style=\"text-align: right;\">\n",
       "      <th></th>\n",
       "      <th>0</th>\n",
       "      <th>1</th>\n",
       "      <th>2</th>\n",
       "      <th>3</th>\n",
       "    </tr>\n",
       "  </thead>\n",
       "  <tbody>\n",
       "  </tbody>\n",
       "</table>\n",
       "</div>"
      ],
      "text/plain": [
       "Empty DataFrame\n",
       "Columns: [0, 1, 2, 3]\n",
       "Index: []"
      ]
     },
     "metadata": {},
     "output_type": "display_data"
    }
   ],
   "source": [
    "display(code.loc[code[0].isna(),:])\n",
    "display(code.loc[code[1].isna(),:])\n",
    "display(code.loc[code[2].isna(),:])\n",
    "display(code.loc[code[3].isna(),:])"
   ]
  },
  {
   "cell_type": "markdown",
   "metadata": {},
   "source": [
    "Podemos observar que todo se ve de forma correcta"
   ]
  },
  {
   "cell_type": "markdown",
   "metadata": {},
   "source": [
    "## Análisis para variable Distrito"
   ]
  },
  {
   "cell_type": "markdown",
   "metadata": {},
   "source": [
    "#### Revisión de Formato"
   ]
  },
  {
   "cell_type": "code",
   "execution_count": 11,
   "metadata": {
    "scrolled": false
   },
   "outputs": [
    {
     "data": {
      "text/plain": [
       "['16-031',\n",
       " '16-005',\n",
       " '16-006',\n",
       " '16-037',\n",
       " '16-050',\n",
       " nan,\n",
       " '25-000',\n",
       " '16-053',\n",
       " '16-008',\n",
       " '16-007',\n",
       " '16-009',\n",
       " '16-011',\n",
       " '16-004',\n",
       " '16-010',\n",
       " '16-012',\n",
       " '16-036',\n",
       " '16-038',\n",
       " '16-013',\n",
       " '16-041',\n",
       " '16-042']"
      ]
     },
     "metadata": {},
     "output_type": "display_data"
    }
   ],
   "source": [
    "display(df.DISTRITO.unique().tolist()[0:20])"
   ]
  },
  {
   "cell_type": "markdown",
   "metadata": {},
   "source": [
    "#### Revisión de Nulls"
   ]
  },
  {
   "cell_type": "code",
   "execution_count": 12,
   "metadata": {
    "scrolled": true
   },
   "outputs": [
    {
     "data": {
      "text/html": [
       "<div>\n",
       "<style scoped>\n",
       "    .dataframe tbody tr th:only-of-type {\n",
       "        vertical-align: middle;\n",
       "    }\n",
       "\n",
       "    .dataframe tbody tr th {\n",
       "        vertical-align: top;\n",
       "    }\n",
       "\n",
       "    .dataframe thead th {\n",
       "        text-align: right;\n",
       "    }\n",
       "</style>\n",
       "<table border=\"1\" class=\"dataframe\">\n",
       "  <thead>\n",
       "    <tr style=\"text-align: right;\">\n",
       "      <th></th>\n",
       "      <th>CODIGO</th>\n",
       "      <th>DISTRITO</th>\n",
       "      <th>DEPARTAMENTO</th>\n",
       "      <th>MUNICIPIO</th>\n",
       "      <th>ESTABLECIMIENTO</th>\n",
       "      <th>DIRECCION</th>\n",
       "      <th>TELEFONO</th>\n",
       "      <th>SUPERVISOR</th>\n",
       "      <th>DIRECTOR</th>\n",
       "      <th>NIVEL</th>\n",
       "      <th>SECTOR</th>\n",
       "      <th>AREA</th>\n",
       "      <th>STATUS</th>\n",
       "      <th>MODALIDAD</th>\n",
       "      <th>JORNADA</th>\n",
       "      <th>PLAN</th>\n",
       "      <th>DEPARTAMENTAL</th>\n",
       "    </tr>\n",
       "  </thead>\n",
       "  <tbody>\n",
       "    <tr>\n",
       "      <th>68</th>\n",
       "      <td>16-01-2947-46</td>\n",
       "      <td>NaN</td>\n",
       "      <td>ALTA VERAPAZ</td>\n",
       "      <td>COBAN</td>\n",
       "      <td>INSTITUTO PRIVADO BASICO Y BACHILLERATO POR MA...</td>\n",
       "      <td>5A. CALLE 1-98 ZONA 3</td>\n",
       "      <td>NaN</td>\n",
       "      <td>NaN</td>\n",
       "      <td>NaN</td>\n",
       "      <td>DIVERSIFICADO</td>\n",
       "      <td>PRIVADO</td>\n",
       "      <td>URBANA</td>\n",
       "      <td>CERRADA TEMPORALMENTE</td>\n",
       "      <td>MONOLINGUE</td>\n",
       "      <td>VESPERTINA</td>\n",
       "      <td>DIARIO(REGULAR)</td>\n",
       "      <td>ALTA VERAPAZ</td>\n",
       "    </tr>\n",
       "    <tr>\n",
       "      <th>209</th>\n",
       "      <td>16-10-3816-46</td>\n",
       "      <td>NaN</td>\n",
       "      <td>ALTA VERAPAZ</td>\n",
       "      <td>SAN JUAN CHAMELCO</td>\n",
       "      <td>LICEO DE BACHILLERATO EN COMPUTACION Y EDUCACI...</td>\n",
       "      <td>NaN</td>\n",
       "      <td>NaN</td>\n",
       "      <td>NaN</td>\n",
       "      <td>NaN</td>\n",
       "      <td>DIVERSIFICADO</td>\n",
       "      <td>PRIVADO</td>\n",
       "      <td>URBANA</td>\n",
       "      <td>CERRADA TEMPORALMENTE</td>\n",
       "      <td>MONOLINGUE</td>\n",
       "      <td>MATUTINA</td>\n",
       "      <td>DIARIO(REGULAR)</td>\n",
       "      <td>ALTA VERAPAZ</td>\n",
       "    </tr>\n",
       "    <tr>\n",
       "      <th>344</th>\n",
       "      <td>15-03-0134-46</td>\n",
       "      <td>NaN</td>\n",
       "      <td>BAJA VERAPAZ</td>\n",
       "      <td>RABINAL</td>\n",
       "      <td>LICEO PRIVADO MIXTO DE CIENCIAS COMERCIALES 'R...</td>\n",
       "      <td>3A. AVENIDA 1-55 ZONA 3</td>\n",
       "      <td>NaN</td>\n",
       "      <td>NaN</td>\n",
       "      <td>NaN</td>\n",
       "      <td>DIVERSIFICADO</td>\n",
       "      <td>PRIVADO</td>\n",
       "      <td>URBANA</td>\n",
       "      <td>CERRADA TEMPORALMENTE</td>\n",
       "      <td>MONOLINGUE</td>\n",
       "      <td>VESPERTINA</td>\n",
       "      <td>DIARIO(REGULAR)</td>\n",
       "      <td>BAJA VERAPAZ</td>\n",
       "    </tr>\n",
       "    <tr>\n",
       "      <th>637</th>\n",
       "      <td>04-11-0995-46</td>\n",
       "      <td>NaN</td>\n",
       "      <td>CHIMALTENANGO</td>\n",
       "      <td>ACATENANGO</td>\n",
       "      <td>INSTITUTO PRACTICO DE EDUCACION MEDIA</td>\n",
       "      <td>CANTON TERCERO</td>\n",
       "      <td>NaN</td>\n",
       "      <td>NaN</td>\n",
       "      <td>NaN</td>\n",
       "      <td>DIVERSIFICADO</td>\n",
       "      <td>COOPERATIVA</td>\n",
       "      <td>RURAL</td>\n",
       "      <td>CERRADA TEMPORALMENTE</td>\n",
       "      <td>MONOLINGUE</td>\n",
       "      <td>NOCTURNA</td>\n",
       "      <td>DIARIO(REGULAR)</td>\n",
       "      <td>CHIMALTENANGO</td>\n",
       "    </tr>\n",
       "    <tr>\n",
       "      <th>674</th>\n",
       "      <td>04-15-0599-46</td>\n",
       "      <td>NaN</td>\n",
       "      <td>CHIMALTENANGO</td>\n",
       "      <td>ZARAGOZA</td>\n",
       "      <td>INSTITUTO PRIVADO MIXTO DE EDUCACION DIVERSIFI...</td>\n",
       "      <td>6A. AVENIDA NORTE NO.2</td>\n",
       "      <td>NaN</td>\n",
       "      <td>NaN</td>\n",
       "      <td>NaN</td>\n",
       "      <td>DIVERSIFICADO</td>\n",
       "      <td>PRIVADO</td>\n",
       "      <td>URBANA</td>\n",
       "      <td>CERRADA TEMPORALMENTE</td>\n",
       "      <td>MONOLINGUE</td>\n",
       "      <td>NOCTURNA</td>\n",
       "      <td>DIARIO(REGULAR)</td>\n",
       "      <td>CHIMALTENANGO</td>\n",
       "    </tr>\n",
       "    <tr>\n",
       "      <th>...</th>\n",
       "      <td>...</td>\n",
       "      <td>...</td>\n",
       "      <td>...</td>\n",
       "      <td>...</td>\n",
       "      <td>...</td>\n",
       "      <td>...</td>\n",
       "      <td>...</td>\n",
       "      <td>...</td>\n",
       "      <td>...</td>\n",
       "      <td>...</td>\n",
       "      <td>...</td>\n",
       "      <td>...</td>\n",
       "      <td>...</td>\n",
       "      <td>...</td>\n",
       "      <td>...</td>\n",
       "      <td>...</td>\n",
       "      <td>...</td>\n",
       "    </tr>\n",
       "    <tr>\n",
       "      <th>7641</th>\n",
       "      <td>10-03-2495-46</td>\n",
       "      <td>NaN</td>\n",
       "      <td>SUCHITEPEQUEZ</td>\n",
       "      <td>SAN FRANCISCO ZAPOTITLAN</td>\n",
       "      <td>INSTITUTO PRE-UNIVERSITARIO FRANCISCANO</td>\n",
       "      <td>5A. CALLE 2-66 ZONA 1</td>\n",
       "      <td>5565-5011</td>\n",
       "      <td>NaN</td>\n",
       "      <td>NaN</td>\n",
       "      <td>DIVERSIFICADO</td>\n",
       "      <td>PRIVADO</td>\n",
       "      <td>URBANA</td>\n",
       "      <td>CERRADA TEMPORALMENTE</td>\n",
       "      <td>MONOLINGUE</td>\n",
       "      <td>VESPERTINA</td>\n",
       "      <td>DIARIO(REGULAR)</td>\n",
       "      <td>SUCHITEPÉQUEZ</td>\n",
       "    </tr>\n",
       "    <tr>\n",
       "      <th>7712</th>\n",
       "      <td>10-13-0882-46</td>\n",
       "      <td>NaN</td>\n",
       "      <td>SUCHITEPEQUEZ</td>\n",
       "      <td>CHICACAO</td>\n",
       "      <td>INSTITUTO PRIVADO MIXTO DE EDUCACION DIVERSIFI...</td>\n",
       "      <td>5A. AVE. 1-76 ZONA 2</td>\n",
       "      <td>NaN</td>\n",
       "      <td>NaN</td>\n",
       "      <td>NaN</td>\n",
       "      <td>DIVERSIFICADO</td>\n",
       "      <td>PRIVADO</td>\n",
       "      <td>URBANA</td>\n",
       "      <td>CERRADA TEMPORALMENTE</td>\n",
       "      <td>MONOLINGUE</td>\n",
       "      <td>DOBLE</td>\n",
       "      <td>DIARIO(REGULAR)</td>\n",
       "      <td>SUCHITEPÉQUEZ</td>\n",
       "    </tr>\n",
       "    <tr>\n",
       "      <th>7859</th>\n",
       "      <td>08-05-0480-46</td>\n",
       "      <td>NaN</td>\n",
       "      <td>TOTONICAPAN</td>\n",
       "      <td>MOMOSTENANGO</td>\n",
       "      <td>INSTITUTO DIVERSIFICADO ADSCRITO AL INSTITUTO ...</td>\n",
       "      <td>CASA PARROQUIAL</td>\n",
       "      <td>NaN</td>\n",
       "      <td>NaN</td>\n",
       "      <td>NaN</td>\n",
       "      <td>DIVERSIFICADO</td>\n",
       "      <td>PRIVADO</td>\n",
       "      <td>URBANA</td>\n",
       "      <td>CERRADA TEMPORALMENTE</td>\n",
       "      <td>MONOLINGUE</td>\n",
       "      <td>INTERMEDIA</td>\n",
       "      <td>DIARIO(REGULAR)</td>\n",
       "      <td>TOTONICAPÁN</td>\n",
       "    </tr>\n",
       "    <tr>\n",
       "      <th>7874</th>\n",
       "      <td>19-01-0083-46</td>\n",
       "      <td>NaN</td>\n",
       "      <td>ZACAPA</td>\n",
       "      <td>ZACAPA</td>\n",
       "      <td>INSTITUTO PRIVADO MIXTO DE EDUCACION DIVERSIFI...</td>\n",
       "      <td>BARRIO LAS FLORES</td>\n",
       "      <td>NaN</td>\n",
       "      <td>NaN</td>\n",
       "      <td>NaN</td>\n",
       "      <td>DIVERSIFICADO</td>\n",
       "      <td>PRIVADO</td>\n",
       "      <td>URBANA</td>\n",
       "      <td>CERRADA TEMPORALMENTE</td>\n",
       "      <td>MONOLINGUE</td>\n",
       "      <td>VESPERTINA</td>\n",
       "      <td>DIARIO(REGULAR)</td>\n",
       "      <td>ZACAPA</td>\n",
       "    </tr>\n",
       "    <tr>\n",
       "      <th>7886</th>\n",
       "      <td>19-01-0166-46</td>\n",
       "      <td>NaN</td>\n",
       "      <td>ZACAPA</td>\n",
       "      <td>ZACAPA</td>\n",
       "      <td>INSTITUTO DE EDUCACION BASICA Y BACHILLERATO P...</td>\n",
       "      <td>ALDEA LOS JOCOTES</td>\n",
       "      <td>24106060.0</td>\n",
       "      <td>NaN</td>\n",
       "      <td>FLOR DE MARIA LOPEZ BARRIOS</td>\n",
       "      <td>DIVERSIFICADO</td>\n",
       "      <td>OFICIAL</td>\n",
       "      <td>RURAL</td>\n",
       "      <td>CERRADA TEMPORALMENTE</td>\n",
       "      <td>MONOLINGUE</td>\n",
       "      <td>VESPERTINA</td>\n",
       "      <td>DIARIO(REGULAR)</td>\n",
       "      <td>ZACAPA</td>\n",
       "    </tr>\n",
       "  </tbody>\n",
       "</table>\n",
       "<p>212 rows × 17 columns</p>\n",
       "</div>"
      ],
      "text/plain": [
       "             CODIGO DISTRITO   DEPARTAMENTO                 MUNICIPIO  \\\n",
       "68    16-01-2947-46      NaN   ALTA VERAPAZ                     COBAN   \n",
       "209   16-10-3816-46      NaN   ALTA VERAPAZ         SAN JUAN CHAMELCO   \n",
       "344   15-03-0134-46      NaN   BAJA VERAPAZ                   RABINAL   \n",
       "637   04-11-0995-46      NaN  CHIMALTENANGO                ACATENANGO   \n",
       "674   04-15-0599-46      NaN  CHIMALTENANGO                  ZARAGOZA   \n",
       "...             ...      ...            ...                       ...   \n",
       "7641  10-03-2495-46      NaN  SUCHITEPEQUEZ  SAN FRANCISCO ZAPOTITLAN   \n",
       "7712  10-13-0882-46      NaN  SUCHITEPEQUEZ                  CHICACAO   \n",
       "7859  08-05-0480-46      NaN    TOTONICAPAN              MOMOSTENANGO   \n",
       "7874  19-01-0083-46      NaN         ZACAPA                    ZACAPA   \n",
       "7886  19-01-0166-46      NaN         ZACAPA                    ZACAPA   \n",
       "\n",
       "                                        ESTABLECIMIENTO  \\\n",
       "68    INSTITUTO PRIVADO BASICO Y BACHILLERATO POR MA...   \n",
       "209   LICEO DE BACHILLERATO EN COMPUTACION Y EDUCACI...   \n",
       "344   LICEO PRIVADO MIXTO DE CIENCIAS COMERCIALES 'R...   \n",
       "637               INSTITUTO PRACTICO DE EDUCACION MEDIA   \n",
       "674   INSTITUTO PRIVADO MIXTO DE EDUCACION DIVERSIFI...   \n",
       "...                                                 ...   \n",
       "7641            INSTITUTO PRE-UNIVERSITARIO FRANCISCANO   \n",
       "7712  INSTITUTO PRIVADO MIXTO DE EDUCACION DIVERSIFI...   \n",
       "7859  INSTITUTO DIVERSIFICADO ADSCRITO AL INSTITUTO ...   \n",
       "7874  INSTITUTO PRIVADO MIXTO DE EDUCACION DIVERSIFI...   \n",
       "7886  INSTITUTO DE EDUCACION BASICA Y BACHILLERATO P...   \n",
       "\n",
       "                    DIRECCION    TELEFONO SUPERVISOR  \\\n",
       "68      5A. CALLE 1-98 ZONA 3         NaN        NaN   \n",
       "209                       NaN         NaN        NaN   \n",
       "344   3A. AVENIDA 1-55 ZONA 3         NaN        NaN   \n",
       "637            CANTON TERCERO         NaN        NaN   \n",
       "674    6A. AVENIDA NORTE NO.2         NaN        NaN   \n",
       "...                       ...         ...        ...   \n",
       "7641    5A. CALLE 2-66 ZONA 1   5565-5011        NaN   \n",
       "7712     5A. AVE. 1-76 ZONA 2         NaN        NaN   \n",
       "7859          CASA PARROQUIAL         NaN        NaN   \n",
       "7874        BARRIO LAS FLORES         NaN        NaN   \n",
       "7886        ALDEA LOS JOCOTES  24106060.0        NaN   \n",
       "\n",
       "                         DIRECTOR          NIVEL       SECTOR    AREA  \\\n",
       "68                            NaN  DIVERSIFICADO      PRIVADO  URBANA   \n",
       "209                           NaN  DIVERSIFICADO      PRIVADO  URBANA   \n",
       "344                           NaN  DIVERSIFICADO      PRIVADO  URBANA   \n",
       "637                           NaN  DIVERSIFICADO  COOPERATIVA   RURAL   \n",
       "674                           NaN  DIVERSIFICADO      PRIVADO  URBANA   \n",
       "...                           ...            ...          ...     ...   \n",
       "7641                          NaN  DIVERSIFICADO      PRIVADO  URBANA   \n",
       "7712                          NaN  DIVERSIFICADO      PRIVADO  URBANA   \n",
       "7859                          NaN  DIVERSIFICADO      PRIVADO  URBANA   \n",
       "7874                          NaN  DIVERSIFICADO      PRIVADO  URBANA   \n",
       "7886  FLOR DE MARIA LOPEZ BARRIOS  DIVERSIFICADO      OFICIAL   RURAL   \n",
       "\n",
       "                     STATUS   MODALIDAD     JORNADA             PLAN  \\\n",
       "68    CERRADA TEMPORALMENTE  MONOLINGUE  VESPERTINA  DIARIO(REGULAR)   \n",
       "209   CERRADA TEMPORALMENTE  MONOLINGUE    MATUTINA  DIARIO(REGULAR)   \n",
       "344   CERRADA TEMPORALMENTE  MONOLINGUE  VESPERTINA  DIARIO(REGULAR)   \n",
       "637   CERRADA TEMPORALMENTE  MONOLINGUE    NOCTURNA  DIARIO(REGULAR)   \n",
       "674   CERRADA TEMPORALMENTE  MONOLINGUE    NOCTURNA  DIARIO(REGULAR)   \n",
       "...                     ...         ...         ...              ...   \n",
       "7641  CERRADA TEMPORALMENTE  MONOLINGUE  VESPERTINA  DIARIO(REGULAR)   \n",
       "7712  CERRADA TEMPORALMENTE  MONOLINGUE       DOBLE  DIARIO(REGULAR)   \n",
       "7859  CERRADA TEMPORALMENTE  MONOLINGUE  INTERMEDIA  DIARIO(REGULAR)   \n",
       "7874  CERRADA TEMPORALMENTE  MONOLINGUE  VESPERTINA  DIARIO(REGULAR)   \n",
       "7886  CERRADA TEMPORALMENTE  MONOLINGUE  VESPERTINA  DIARIO(REGULAR)   \n",
       "\n",
       "      DEPARTAMENTAL  \n",
       "68     ALTA VERAPAZ  \n",
       "209    ALTA VERAPAZ  \n",
       "344    BAJA VERAPAZ  \n",
       "637   CHIMALTENANGO  \n",
       "674   CHIMALTENANGO  \n",
       "...             ...  \n",
       "7641  SUCHITEPÉQUEZ  \n",
       "7712  SUCHITEPÉQUEZ  \n",
       "7859    TOTONICAPÁN  \n",
       "7874         ZACAPA  \n",
       "7886         ZACAPA  \n",
       "\n",
       "[212 rows x 17 columns]"
      ]
     },
     "metadata": {},
     "output_type": "display_data"
    }
   ],
   "source": [
    "display(df.loc[df.DISTRITO.isna(),:])"
   ]
  },
  {
   "cell_type": "markdown",
   "metadata": {},
   "source": [
    "#### Revisión de códigos únicos"
   ]
  },
  {
   "cell_type": "code",
   "execution_count": 13,
   "metadata": {},
   "outputs": [
    {
     "data": {
      "text/plain": [
       "01-403    193\n",
       "05-033    137\n",
       "11-017    130\n",
       "01-411    128\n",
       "01-409     89\n",
       "         ... \n",
       "18-027      1\n",
       "18-009      1\n",
       "12-034      1\n",
       "18-007      1\n",
       "19-020      1\n",
       "Name: DISTRITO, Length: 674, dtype: int64"
      ]
     },
     "execution_count": 13,
     "metadata": {},
     "output_type": "execute_result"
    }
   ],
   "source": [
    "df.DISTRITO.value_counts()"
   ]
  },
  {
   "cell_type": "markdown",
   "metadata": {},
   "source": [
    "\n",
    "\n",
    "\n",
    "Debido a que es un Distrito que esta compuesto de la siguiente forma:\n",
    "\n",
    "$$##-###$$ \n",
    "\n",
    "Donde # es un númeor entero del 0 al 9, debemos de revisar si todos tienen los números completos o existen casos donde no se cumpla el estándar antes mencionado. \n",
    "\n",
    "No se despliegan todos los valores puesto que cada código es único para el distrito\n"
   ]
  },
  {
   "cell_type": "code",
   "execution_count": 14,
   "metadata": {},
   "outputs": [],
   "source": [
    "distrito=df.DISTRITO.str.split('-',expand=True)"
   ]
  },
  {
   "cell_type": "markdown",
   "metadata": {},
   "source": [
    "#### Revisión por partes del código de identificación"
   ]
  },
  {
   "cell_type": "code",
   "execution_count": 15,
   "metadata": {},
   "outputs": [
    {
     "name": "stdout",
     "output_type": "stream",
     "text": [
      "Para primera parte del código de identificación del distrito\n"
     ]
    },
    {
     "data": {
      "text/html": [
       "<div>\n",
       "<style scoped>\n",
       "    .dataframe tbody tr th:only-of-type {\n",
       "        vertical-align: middle;\n",
       "    }\n",
       "\n",
       "    .dataframe tbody tr th {\n",
       "        vertical-align: top;\n",
       "    }\n",
       "\n",
       "    .dataframe thead th {\n",
       "        text-align: right;\n",
       "    }\n",
       "</style>\n",
       "<table border=\"1\" class=\"dataframe\">\n",
       "  <thead>\n",
       "    <tr style=\"text-align: right;\">\n",
       "      <th></th>\n",
       "      <th>0</th>\n",
       "      <th>1</th>\n",
       "    </tr>\n",
       "  </thead>\n",
       "  <tbody>\n",
       "    <tr>\n",
       "      <th>68</th>\n",
       "      <td>NaN</td>\n",
       "      <td>NaN</td>\n",
       "    </tr>\n",
       "    <tr>\n",
       "      <th>209</th>\n",
       "      <td>NaN</td>\n",
       "      <td>NaN</td>\n",
       "    </tr>\n",
       "    <tr>\n",
       "      <th>344</th>\n",
       "      <td>NaN</td>\n",
       "      <td>NaN</td>\n",
       "    </tr>\n",
       "    <tr>\n",
       "      <th>637</th>\n",
       "      <td>NaN</td>\n",
       "      <td>NaN</td>\n",
       "    </tr>\n",
       "    <tr>\n",
       "      <th>674</th>\n",
       "      <td>NaN</td>\n",
       "      <td>NaN</td>\n",
       "    </tr>\n",
       "    <tr>\n",
       "      <th>...</th>\n",
       "      <td>...</td>\n",
       "      <td>...</td>\n",
       "    </tr>\n",
       "    <tr>\n",
       "      <th>7641</th>\n",
       "      <td>NaN</td>\n",
       "      <td>NaN</td>\n",
       "    </tr>\n",
       "    <tr>\n",
       "      <th>7712</th>\n",
       "      <td>NaN</td>\n",
       "      <td>NaN</td>\n",
       "    </tr>\n",
       "    <tr>\n",
       "      <th>7859</th>\n",
       "      <td>NaN</td>\n",
       "      <td>NaN</td>\n",
       "    </tr>\n",
       "    <tr>\n",
       "      <th>7874</th>\n",
       "      <td>NaN</td>\n",
       "      <td>NaN</td>\n",
       "    </tr>\n",
       "    <tr>\n",
       "      <th>7886</th>\n",
       "      <td>NaN</td>\n",
       "      <td>NaN</td>\n",
       "    </tr>\n",
       "  </tbody>\n",
       "</table>\n",
       "<p>212 rows × 2 columns</p>\n",
       "</div>"
      ],
      "text/plain": [
       "        0    1\n",
       "68    NaN  NaN\n",
       "209   NaN  NaN\n",
       "344   NaN  NaN\n",
       "637   NaN  NaN\n",
       "674   NaN  NaN\n",
       "...   ...  ...\n",
       "7641  NaN  NaN\n",
       "7712  NaN  NaN\n",
       "7859  NaN  NaN\n",
       "7874  NaN  NaN\n",
       "7886  NaN  NaN\n",
       "\n",
       "[212 rows x 2 columns]"
      ]
     },
     "metadata": {},
     "output_type": "display_data"
    },
    {
     "name": "stdout",
     "output_type": "stream",
     "text": [
      "Para segunda parte del código de identificación del distrito\n"
     ]
    },
    {
     "data": {
      "text/html": [
       "<div>\n",
       "<style scoped>\n",
       "    .dataframe tbody tr th:only-of-type {\n",
       "        vertical-align: middle;\n",
       "    }\n",
       "\n",
       "    .dataframe tbody tr th {\n",
       "        vertical-align: top;\n",
       "    }\n",
       "\n",
       "    .dataframe thead th {\n",
       "        text-align: right;\n",
       "    }\n",
       "</style>\n",
       "<table border=\"1\" class=\"dataframe\">\n",
       "  <thead>\n",
       "    <tr style=\"text-align: right;\">\n",
       "      <th></th>\n",
       "      <th>0</th>\n",
       "      <th>1</th>\n",
       "    </tr>\n",
       "  </thead>\n",
       "  <tbody>\n",
       "    <tr>\n",
       "      <th>68</th>\n",
       "      <td>NaN</td>\n",
       "      <td>NaN</td>\n",
       "    </tr>\n",
       "    <tr>\n",
       "      <th>209</th>\n",
       "      <td>NaN</td>\n",
       "      <td>NaN</td>\n",
       "    </tr>\n",
       "    <tr>\n",
       "      <th>344</th>\n",
       "      <td>NaN</td>\n",
       "      <td>NaN</td>\n",
       "    </tr>\n",
       "    <tr>\n",
       "      <th>637</th>\n",
       "      <td>NaN</td>\n",
       "      <td>NaN</td>\n",
       "    </tr>\n",
       "    <tr>\n",
       "      <th>674</th>\n",
       "      <td>NaN</td>\n",
       "      <td>NaN</td>\n",
       "    </tr>\n",
       "    <tr>\n",
       "      <th>...</th>\n",
       "      <td>...</td>\n",
       "      <td>...</td>\n",
       "    </tr>\n",
       "    <tr>\n",
       "      <th>7641</th>\n",
       "      <td>NaN</td>\n",
       "      <td>NaN</td>\n",
       "    </tr>\n",
       "    <tr>\n",
       "      <th>7712</th>\n",
       "      <td>NaN</td>\n",
       "      <td>NaN</td>\n",
       "    </tr>\n",
       "    <tr>\n",
       "      <th>7859</th>\n",
       "      <td>NaN</td>\n",
       "      <td>NaN</td>\n",
       "    </tr>\n",
       "    <tr>\n",
       "      <th>7874</th>\n",
       "      <td>NaN</td>\n",
       "      <td>NaN</td>\n",
       "    </tr>\n",
       "    <tr>\n",
       "      <th>7886</th>\n",
       "      <td>NaN</td>\n",
       "      <td>NaN</td>\n",
       "    </tr>\n",
       "  </tbody>\n",
       "</table>\n",
       "<p>245 rows × 2 columns</p>\n",
       "</div>"
      ],
      "text/plain": [
       "        0    1\n",
       "68    NaN  NaN\n",
       "209   NaN  NaN\n",
       "344   NaN  NaN\n",
       "637   NaN  NaN\n",
       "674   NaN  NaN\n",
       "...   ...  ...\n",
       "7641  NaN  NaN\n",
       "7712  NaN  NaN\n",
       "7859  NaN  NaN\n",
       "7874  NaN  NaN\n",
       "7886  NaN  NaN\n",
       "\n",
       "[245 rows x 2 columns]"
      ]
     },
     "metadata": {},
     "output_type": "display_data"
    }
   ],
   "source": [
    "print('Para primera parte del código de identificación del distrito')\n",
    "display(distrito.loc[(distrito[0].isna())|(distrito[0]==''),:])\n",
    "print('Para segunda parte del código de identificación del distrito')\n",
    "display(distrito.loc[(distrito[1].isna())|(distrito[1]==''),:])"
   ]
  },
  {
   "cell_type": "markdown",
   "metadata": {},
   "source": [
    "Podemos notar que tenemos 212 establecimientos que no tienen un código de distrito en la primera parte del código y en la segunda tenemos 245 (los 212 anteriores + 33 de establecimientos que solo poseen la primera mitad del código de distrito)"
   ]
  },
  {
   "cell_type": "markdown",
   "metadata": {},
   "source": [
    "#### Porcentaje de datos faltantes a corregir"
   ]
  },
  {
   "cell_type": "code",
   "execution_count": 16,
   "metadata": {
    "scrolled": true
   },
   "outputs": [
    {
     "name": "stdout",
     "output_type": "stream",
     "text": [
      "3.08 %\n"
     ]
    }
   ],
   "source": [
    "a=len(distrito.loc[(distrito[1].isna())|(distrito[1]==''),:])\n",
    "b=len(df)\n",
    "\n",
    "print(str(round((a/b)*100,2))+' %')"
   ]
  },
  {
   "cell_type": "markdown",
   "metadata": {},
   "source": [
    "#### Estrategia para corrección\n",
    "\n",
    "Se plantea una función en donde se busca la coincidencia más cercana con tres criterios:\n",
    "    \n",
    "    - Departamento\n",
    "    - Municipio\n",
    "    - Región Departamental\n",
    "    \n",
    "Y se sustituye el espacio vacío utilizando programación funcional"
   ]
  },
  {
   "cell_type": "code",
   "execution_count": 17,
   "metadata": {},
   "outputs": [],
   "source": [
    "def corregir_distrito(df,departamento,municipio,departamental):\n",
    "    \n",
    "    temp=df.loc[(df.DEPARTAMENTO==departamento)&(df.MUNICIPIO==municipio)&(df.DEPARTAMENTAL==departamental),'DISTRITO']\n",
    "    return temp.value_counts()[0]\n",
    "\n",
    "try:\n",
    "    df.loc[(df.DISTRITO.isna())|(df.DISTRITO.str.split('-',expand=True)[1]==''),'DISTRITO'] = df.loc[(df.DISTRITO.isna())|(df.DISTRITO.str.split('-',expand=True)[1]==''),:].apply(lambda row : corregir_distrito(df,row['DEPARTAMENTO'],row['MUNICIPIO'],row['DEPARTAMENTAL']), axis = 1)\n",
    "except:\n",
    "    print('Todos los códigos ya han sido restaurados')"
   ]
  },
  {
   "cell_type": "markdown",
   "metadata": {},
   "source": [
    "## Análisis para variable Departamento"
   ]
  },
  {
   "cell_type": "markdown",
   "metadata": {},
   "source": [
    "#### Revisión de Formato"
   ]
  },
  {
   "cell_type": "code",
   "execution_count": 18,
   "metadata": {
    "scrolled": false
   },
   "outputs": [
    {
     "data": {
      "text/plain": [
       "array(['ALTA VERAPAZ', 'BAJA VERAPAZ', 'CHIMALTENANGO', 'CHIQUIMULA',\n",
       "       'CIUDAD CAPITAL', 'EL PROGRESO', 'ESCUINTLA', 'GUATEMALA',\n",
       "       'HUEHUETENANGO', 'IZABAL', 'JALAPA', 'JUTIAPA', 'PETEN',\n",
       "       'QUETZALTENANGO', 'QUICHE', 'RETALHULEU', 'SACATEPEQUEZ',\n",
       "       'SAN MARCOS', 'SANTA ROSA', 'SOLOLA', 'SUCHITEPEQUEZ',\n",
       "       'TOTONICAPAN', 'ZACAPA'], dtype=object)"
      ]
     },
     "metadata": {},
     "output_type": "display_data"
    }
   ],
   "source": [
    "display(df.DEPARTAMENTO.unique())"
   ]
  },
  {
   "cell_type": "markdown",
   "metadata": {},
   "source": [
    "#### Revisión de Nulls"
   ]
  },
  {
   "cell_type": "code",
   "execution_count": 19,
   "metadata": {},
   "outputs": [
    {
     "data": {
      "text/html": [
       "<div>\n",
       "<style scoped>\n",
       "    .dataframe tbody tr th:only-of-type {\n",
       "        vertical-align: middle;\n",
       "    }\n",
       "\n",
       "    .dataframe tbody tr th {\n",
       "        vertical-align: top;\n",
       "    }\n",
       "\n",
       "    .dataframe thead th {\n",
       "        text-align: right;\n",
       "    }\n",
       "</style>\n",
       "<table border=\"1\" class=\"dataframe\">\n",
       "  <thead>\n",
       "    <tr style=\"text-align: right;\">\n",
       "      <th></th>\n",
       "      <th>CODIGO</th>\n",
       "      <th>DISTRITO</th>\n",
       "      <th>DEPARTAMENTO</th>\n",
       "      <th>MUNICIPIO</th>\n",
       "      <th>ESTABLECIMIENTO</th>\n",
       "      <th>DIRECCION</th>\n",
       "      <th>TELEFONO</th>\n",
       "      <th>SUPERVISOR</th>\n",
       "      <th>DIRECTOR</th>\n",
       "      <th>NIVEL</th>\n",
       "      <th>SECTOR</th>\n",
       "      <th>AREA</th>\n",
       "      <th>STATUS</th>\n",
       "      <th>MODALIDAD</th>\n",
       "      <th>JORNADA</th>\n",
       "      <th>PLAN</th>\n",
       "      <th>DEPARTAMENTAL</th>\n",
       "    </tr>\n",
       "  </thead>\n",
       "  <tbody>\n",
       "  </tbody>\n",
       "</table>\n",
       "</div>"
      ],
      "text/plain": [
       "Empty DataFrame\n",
       "Columns: [CODIGO, DISTRITO, DEPARTAMENTO, MUNICIPIO, ESTABLECIMIENTO, DIRECCION, TELEFONO, SUPERVISOR, DIRECTOR, NIVEL, SECTOR, AREA, STATUS, MODALIDAD, JORNADA, PLAN, DEPARTAMENTAL]\n",
       "Index: []"
      ]
     },
     "metadata": {},
     "output_type": "display_data"
    }
   ],
   "source": [
    "display(df.loc[df.DEPARTAMENTO.isna(),:])"
   ]
  },
  {
   "cell_type": "markdown",
   "metadata": {},
   "source": [
    "#### Formato a Proper Case "
   ]
  },
  {
   "cell_type": "code",
   "execution_count": 20,
   "metadata": {},
   "outputs": [],
   "source": [
    "df.DEPARTAMENTO=df.DEPARTAMENTO.str.title()"
   ]
  },
  {
   "cell_type": "markdown",
   "metadata": {},
   "source": [
    "#### Conteo de establecimientos por departamento\n",
    "\n"
   ]
  },
  {
   "cell_type": "code",
   "execution_count": 21,
   "metadata": {
    "scrolled": false
   },
   "outputs": [
    {
     "data": {
      "text/plain": [
       "Ciudad Capital    1349\n",
       "Guatemala         1237\n",
       "Escuintla          496\n",
       "San Marcos         486\n",
       "Huehuetenango      437\n",
       "Quetzaltenango     430\n",
       "Peten              357\n",
       "Suchitepequez      330\n",
       "Izabal             303\n",
       "Chimaltenango      290\n",
       "Alta Verapaz       280\n",
       "Sacatepequez       276\n",
       "Jutiapa            265\n",
       "Retalhuleu         255\n",
       "Quiche             212\n",
       "Chiquimula         168\n",
       "Santa Rosa         140\n",
       "Solola             138\n",
       "Jalapa             116\n",
       "Baja Verapaz       114\n",
       "El Progreso        111\n",
       "Zacapa              93\n",
       "Totonicapan         81\n",
       "Name: DEPARTAMENTO, dtype: int64"
      ]
     },
     "execution_count": 21,
     "metadata": {},
     "output_type": "execute_result"
    }
   ],
   "source": [
    "df.DEPARTAMENTO.value_counts()"
   ]
  },
  {
   "cell_type": "markdown",
   "metadata": {},
   "source": [
    "## Análisis para variable Municipio"
   ]
  },
  {
   "cell_type": "markdown",
   "metadata": {},
   "source": [
    "#### Revisión de Formato"
   ]
  },
  {
   "cell_type": "code",
   "execution_count": 22,
   "metadata": {
    "scrolled": false
   },
   "outputs": [
    {
     "data": {
      "text/plain": [
       "['COBAN',\n",
       " 'SANTA CRUZ VERAPAZ',\n",
       " 'SAN CRISTOBAL VERAPAZ',\n",
       " 'TACTIC',\n",
       " 'TAMAHU',\n",
       " 'SAN MIGUEL TUCURU',\n",
       " 'PANZOS',\n",
       " 'SENAHU',\n",
       " 'SAN PEDRO CARCHA',\n",
       " 'SAN JUAN CHAMELCO']"
      ]
     },
     "metadata": {},
     "output_type": "display_data"
    },
    {
     "name": "stdout",
     "output_type": "stream",
     "text": [
      "Cantidad de municipios con establecimientos en la base de datos: 326\n",
      "Cantidad de zonas de la ciudad capital con establecimientos en la base de datos: 21\n"
     ]
    }
   ],
   "source": [
    "# Formato de datos\n",
    "display(df.MUNICIPIO.unique().tolist()[0:10])\n",
    "\n",
    "municipios=len(df.loc[~((df.DEPARTAMENTO=='Ciudad Capital')|(df.MUNICIPIO.str.contains('ZONA'))),'MUNICIPIO'].unique())\n",
    "zonas=len(df.loc[(df.DEPARTAMENTO=='Ciudad Capital')|(df.MUNICIPIO.str.contains('ZONA')),'MUNICIPIO'].unique())\n",
    "\n",
    "print('Cantidad de municipios con establecimientos en la base de datos: '+str(municipios))\n",
    "print('Cantidad de zonas de la ciudad capital con establecimientos en la base de datos: '+str(zonas))"
   ]
  },
  {
   "cell_type": "markdown",
   "metadata": {},
   "source": [
    "#### Revisión de Nulls"
   ]
  },
  {
   "cell_type": "code",
   "execution_count": 23,
   "metadata": {},
   "outputs": [
    {
     "data": {
      "text/html": [
       "<div>\n",
       "<style scoped>\n",
       "    .dataframe tbody tr th:only-of-type {\n",
       "        vertical-align: middle;\n",
       "    }\n",
       "\n",
       "    .dataframe tbody tr th {\n",
       "        vertical-align: top;\n",
       "    }\n",
       "\n",
       "    .dataframe thead th {\n",
       "        text-align: right;\n",
       "    }\n",
       "</style>\n",
       "<table border=\"1\" class=\"dataframe\">\n",
       "  <thead>\n",
       "    <tr style=\"text-align: right;\">\n",
       "      <th></th>\n",
       "      <th>CODIGO</th>\n",
       "      <th>DISTRITO</th>\n",
       "      <th>DEPARTAMENTO</th>\n",
       "      <th>MUNICIPIO</th>\n",
       "      <th>ESTABLECIMIENTO</th>\n",
       "      <th>DIRECCION</th>\n",
       "      <th>TELEFONO</th>\n",
       "      <th>SUPERVISOR</th>\n",
       "      <th>DIRECTOR</th>\n",
       "      <th>NIVEL</th>\n",
       "      <th>SECTOR</th>\n",
       "      <th>AREA</th>\n",
       "      <th>STATUS</th>\n",
       "      <th>MODALIDAD</th>\n",
       "      <th>JORNADA</th>\n",
       "      <th>PLAN</th>\n",
       "      <th>DEPARTAMENTAL</th>\n",
       "    </tr>\n",
       "  </thead>\n",
       "  <tbody>\n",
       "  </tbody>\n",
       "</table>\n",
       "</div>"
      ],
      "text/plain": [
       "Empty DataFrame\n",
       "Columns: [CODIGO, DISTRITO, DEPARTAMENTO, MUNICIPIO, ESTABLECIMIENTO, DIRECCION, TELEFONO, SUPERVISOR, DIRECTOR, NIVEL, SECTOR, AREA, STATUS, MODALIDAD, JORNADA, PLAN, DEPARTAMENTAL]\n",
       "Index: []"
      ]
     },
     "metadata": {},
     "output_type": "display_data"
    }
   ],
   "source": [
    "display(df.loc[df.MUNICIPIO.isna(),:])"
   ]
  },
  {
   "cell_type": "markdown",
   "metadata": {},
   "source": [
    "#### Formato a Proper Case "
   ]
  },
  {
   "cell_type": "code",
   "execution_count": 24,
   "metadata": {},
   "outputs": [],
   "source": [
    "df.MUNICIPIO=df.MUNICIPIO.str.title()"
   ]
  },
  {
   "cell_type": "markdown",
   "metadata": {},
   "source": [
    "#### Eliminación de espacios en blanco no necesarios"
   ]
  },
  {
   "cell_type": "code",
   "execution_count": 25,
   "metadata": {},
   "outputs": [],
   "source": [
    "df.MUNICIPIO=df.MUNICIPIO.str.strip()"
   ]
  },
  {
   "cell_type": "markdown",
   "metadata": {},
   "source": [
    "#### Eliminación de acentos para estandarización"
   ]
  },
  {
   "cell_type": "code",
   "execution_count": 26,
   "metadata": {},
   "outputs": [],
   "source": [
    "df.MUNICIPIO=df.MUNICIPIO.str.replace('á','a')\n",
    "df.MUNICIPIO=df.MUNICIPIO.str.replace('é','e')\n",
    "df.MUNICIPIO=df.MUNICIPIO.str.replace('í','i')\n",
    "df.MUNICIPIO=df.MUNICIPIO.str.replace('ó','o')\n",
    "df.MUNICIPIO=df.MUNICIPIO.str.replace('ú','u')"
   ]
  },
  {
   "cell_type": "markdown",
   "metadata": {},
   "source": [
    "#### Conteo de establecimientos por municipio o zona de la Ciudad Capital\n",
    "\n"
   ]
  },
  {
   "cell_type": "code",
   "execution_count": 27,
   "metadata": {
    "scrolled": true
   },
   "outputs": [
    {
     "data": {
      "text/plain": [
       "Zona 1                    554\n",
       "Mixco                     356\n",
       "Villa Nueva               302\n",
       "Quetzaltenango            221\n",
       "Zona 7                    154\n",
       "                         ... \n",
       "Petatan                     1\n",
       "Chiche                      1\n",
       "San Francisco La Union      1\n",
       "Zunil                       1\n",
       "San Jorge                   1\n",
       "Name: MUNICIPIO, Length: 347, dtype: int64"
      ]
     },
     "execution_count": 27,
     "metadata": {},
     "output_type": "execute_result"
    }
   ],
   "source": [
    "df.MUNICIPIO.value_counts()"
   ]
  },
  {
   "cell_type": "markdown",
   "metadata": {},
   "source": [
    "## Análisis para variable Establecimiento"
   ]
  },
  {
   "cell_type": "markdown",
   "metadata": {},
   "source": [
    "#### Revisión de Formato"
   ]
  },
  {
   "cell_type": "code",
   "execution_count": 28,
   "metadata": {
    "scrolled": false
   },
   "outputs": [
    {
     "data": {
      "text/plain": [
       "['COLEGIO COBAN',\n",
       " 'COLEGIO PARTICULAR MIXTO VERAPAZ',\n",
       " 'COLEGIO \"LA INMACULADA\"',\n",
       " 'ESCUELA NACIONAL DE CIENCIAS COMERCIALES',\n",
       " \"INSTITUTO NORMAL MIXTO DEL NORTE 'EMILIO ROSALES PONCE'\",\n",
       " 'COLEGIO PARTICULAR MIXTO IMPERIAL',\n",
       " 'INSTITUTO DE TURSMO Y AVIACON DEL NORTE I.T.A.N',\n",
       " 'INSTITUTO INTERCULTRUAL ALTAVERAPACENCESE -IIAV-',\n",
       " 'LICEO \"MODERNO LATINO\"',\n",
       " 'INSTITUTO NACIONAL DE EDUCACION DIVERSIFICADA']"
      ]
     },
     "metadata": {},
     "output_type": "display_data"
    }
   ],
   "source": [
    "# Formato de datos\n",
    "display(df.ESTABLECIMIENTO.unique().tolist()[0:10])\n"
   ]
  },
  {
   "cell_type": "markdown",
   "metadata": {},
   "source": [
    "#### Revisión de Nulls"
   ]
  },
  {
   "cell_type": "code",
   "execution_count": 29,
   "metadata": {},
   "outputs": [
    {
     "data": {
      "text/html": [
       "<div>\n",
       "<style scoped>\n",
       "    .dataframe tbody tr th:only-of-type {\n",
       "        vertical-align: middle;\n",
       "    }\n",
       "\n",
       "    .dataframe tbody tr th {\n",
       "        vertical-align: top;\n",
       "    }\n",
       "\n",
       "    .dataframe thead th {\n",
       "        text-align: right;\n",
       "    }\n",
       "</style>\n",
       "<table border=\"1\" class=\"dataframe\">\n",
       "  <thead>\n",
       "    <tr style=\"text-align: right;\">\n",
       "      <th></th>\n",
       "      <th>CODIGO</th>\n",
       "      <th>DISTRITO</th>\n",
       "      <th>DEPARTAMENTO</th>\n",
       "      <th>MUNICIPIO</th>\n",
       "      <th>ESTABLECIMIENTO</th>\n",
       "      <th>DIRECCION</th>\n",
       "      <th>TELEFONO</th>\n",
       "      <th>SUPERVISOR</th>\n",
       "      <th>DIRECTOR</th>\n",
       "      <th>NIVEL</th>\n",
       "      <th>SECTOR</th>\n",
       "      <th>AREA</th>\n",
       "      <th>STATUS</th>\n",
       "      <th>MODALIDAD</th>\n",
       "      <th>JORNADA</th>\n",
       "      <th>PLAN</th>\n",
       "      <th>DEPARTAMENTAL</th>\n",
       "    </tr>\n",
       "  </thead>\n",
       "  <tbody>\n",
       "  </tbody>\n",
       "</table>\n",
       "</div>"
      ],
      "text/plain": [
       "Empty DataFrame\n",
       "Columns: [CODIGO, DISTRITO, DEPARTAMENTO, MUNICIPIO, ESTABLECIMIENTO, DIRECCION, TELEFONO, SUPERVISOR, DIRECTOR, NIVEL, SECTOR, AREA, STATUS, MODALIDAD, JORNADA, PLAN, DEPARTAMENTAL]\n",
       "Index: []"
      ]
     },
     "metadata": {},
     "output_type": "display_data"
    }
   ],
   "source": [
    "display(df.loc[df.ESTABLECIMIENTO.isna(),:])"
   ]
  },
  {
   "cell_type": "markdown",
   "metadata": {},
   "source": [
    "#### Formato a Proper Case "
   ]
  },
  {
   "cell_type": "code",
   "execution_count": 30,
   "metadata": {},
   "outputs": [],
   "source": [
    "df.ESTABLECIMIENTO=df.ESTABLECIMIENTO.str.title()"
   ]
  },
  {
   "cell_type": "markdown",
   "metadata": {},
   "source": [
    "#### Eliminación de espacios en blanco no necesarios"
   ]
  },
  {
   "cell_type": "code",
   "execution_count": 31,
   "metadata": {},
   "outputs": [],
   "source": [
    "df.ESTABLECIMIENTO=df.ESTABLECIMIENTO.str.strip()"
   ]
  },
  {
   "cell_type": "markdown",
   "metadata": {},
   "source": [
    "#### Eliminación de acentos para estandarización"
   ]
  },
  {
   "cell_type": "code",
   "execution_count": 32,
   "metadata": {},
   "outputs": [],
   "source": [
    "df.ESTABLECIMIENTO=df.ESTABLECIMIENTO.str.replace('á','a')\n",
    "df.ESTABLECIMIENTO=df.ESTABLECIMIENTO.str.replace('é','e')\n",
    "df.ESTABLECIMIENTO=df.ESTABLECIMIENTO.str.replace('í','i')\n",
    "df.ESTABLECIMIENTO=df.ESTABLECIMIENTO.str.replace('ó','o')\n",
    "df.ESTABLECIMIENTO=df.ESTABLECIMIENTO.str.replace('ú','u')"
   ]
  },
  {
   "cell_type": "markdown",
   "metadata": {},
   "source": [
    "#### Conteo de establecimientos por municipio o zona de la Ciudad Capital\n",
    "\n"
   ]
  },
  {
   "cell_type": "code",
   "execution_count": 33,
   "metadata": {
    "scrolled": false
   },
   "outputs": [
    {
     "data": {
      "text/plain": [
       "Instituto Nacional De Educacion Diversificada                                   398\n",
       "Instituto De Educacion Diversificada Por Cooperativa De Enseñanza                30\n",
       "Instituto Diversificado Por Cooperativa                                          24\n",
       "Centro De Educacion Extraescolar -Ceex-                                          24\n",
       "Instituto De Computacion Informatica                                             22\n",
       "                                                                               ... \n",
       "Liceo La Juventud                                                                 1\n",
       "Colegio Mixto Privado San Cris                                                    1\n",
       "Liceo Inmaculado Corazon                                                          1\n",
       "Instituto Privado Mixto De Educacion Diversificada Colegio Evangelico Hebron      1\n",
       "Instituto Diversificado                                                           1\n",
       "Name: ESTABLECIMIENTO, Length: 4551, dtype: int64"
      ]
     },
     "execution_count": 33,
     "metadata": {},
     "output_type": "execute_result"
    }
   ],
   "source": [
    "df.ESTABLECIMIENTO.value_counts()"
   ]
  },
  {
   "cell_type": "markdown",
   "metadata": {},
   "source": [
    "## Análisis para variable Dirección"
   ]
  },
  {
   "cell_type": "markdown",
   "metadata": {},
   "source": [
    "#### Revisión de Formato"
   ]
  },
  {
   "cell_type": "code",
   "execution_count": 34,
   "metadata": {
    "scrolled": false
   },
   "outputs": [
    {
     "data": {
      "text/plain": [
       "['KM.2 SALIDA A SAN JUAN CHAMELCO ZONA 8',\n",
       " 'KM 209.5 ENTRADA A LA CIUDAD',\n",
       " '7A. AVENIDA 11-109 ZONA 6',\n",
       " '2A CALLE 11-10 ZONA 2',\n",
       " '3A AVE 6-23 ZONA 11',\n",
       " '5A. CALLE 1-9 ZONA 3',\n",
       " '3 AV. 5-28 ZONA 4',\n",
       " '7A. CALLE 11-09 ZONA 6 COBAN',\n",
       " '3A. AVAENIDA 1-23 ZONA 4',\n",
       " '11 AVENIDA 5-17 ZONA 4']"
      ]
     },
     "metadata": {},
     "output_type": "display_data"
    }
   ],
   "source": [
    "# Formato de datos\n",
    "display(df.DIRECCION.unique().tolist()[0:10])\n"
   ]
  },
  {
   "cell_type": "markdown",
   "metadata": {},
   "source": [
    "#### Revisión de Nulls"
   ]
  },
  {
   "cell_type": "code",
   "execution_count": 35,
   "metadata": {},
   "outputs": [
    {
     "data": {
      "text/html": [
       "<div>\n",
       "<style scoped>\n",
       "    .dataframe tbody tr th:only-of-type {\n",
       "        vertical-align: middle;\n",
       "    }\n",
       "\n",
       "    .dataframe tbody tr th {\n",
       "        vertical-align: top;\n",
       "    }\n",
       "\n",
       "    .dataframe thead th {\n",
       "        text-align: right;\n",
       "    }\n",
       "</style>\n",
       "<table border=\"1\" class=\"dataframe\">\n",
       "  <thead>\n",
       "    <tr style=\"text-align: right;\">\n",
       "      <th></th>\n",
       "      <th>CODIGO</th>\n",
       "      <th>DISTRITO</th>\n",
       "      <th>DEPARTAMENTO</th>\n",
       "      <th>MUNICIPIO</th>\n",
       "      <th>ESTABLECIMIENTO</th>\n",
       "      <th>DIRECCION</th>\n",
       "      <th>TELEFONO</th>\n",
       "      <th>SUPERVISOR</th>\n",
       "      <th>DIRECTOR</th>\n",
       "      <th>NIVEL</th>\n",
       "      <th>SECTOR</th>\n",
       "      <th>AREA</th>\n",
       "      <th>STATUS</th>\n",
       "      <th>MODALIDAD</th>\n",
       "      <th>JORNADA</th>\n",
       "      <th>PLAN</th>\n",
       "      <th>DEPARTAMENTAL</th>\n",
       "    </tr>\n",
       "  </thead>\n",
       "  <tbody>\n",
       "    <tr>\n",
       "      <th>77</th>\n",
       "      <td>16-01-8813-46</td>\n",
       "      <td>25-000</td>\n",
       "      <td>Alta Verapaz</td>\n",
       "      <td>Coban</td>\n",
       "      <td>Instituto Guatemalteco De Educacion Radiofonic...</td>\n",
       "      <td>NaN</td>\n",
       "      <td>NaN</td>\n",
       "      <td>SONIA HAYDEE REYES MONTERROSO</td>\n",
       "      <td>NaN</td>\n",
       "      <td>DIVERSIFICADO</td>\n",
       "      <td>PRIVADO</td>\n",
       "      <td>RURAL</td>\n",
       "      <td>CERRADA TEMPORALMENTE</td>\n",
       "      <td>MONOLINGUE</td>\n",
       "      <td>MATUTINA</td>\n",
       "      <td>A DISTANCIA</td>\n",
       "      <td>ALTA VERAPAZ</td>\n",
       "    </tr>\n",
       "    <tr>\n",
       "      <th>209</th>\n",
       "      <td>16-10-3816-46</td>\n",
       "      <td>14</td>\n",
       "      <td>Alta Verapaz</td>\n",
       "      <td>San Juan Chamelco</td>\n",
       "      <td>Liceo De Bachillerato En Computacion Y Educaci...</td>\n",
       "      <td>NaN</td>\n",
       "      <td>NaN</td>\n",
       "      <td>NaN</td>\n",
       "      <td>NaN</td>\n",
       "      <td>DIVERSIFICADO</td>\n",
       "      <td>PRIVADO</td>\n",
       "      <td>URBANA</td>\n",
       "      <td>CERRADA TEMPORALMENTE</td>\n",
       "      <td>MONOLINGUE</td>\n",
       "      <td>MATUTINA</td>\n",
       "      <td>DIARIO(REGULAR)</td>\n",
       "      <td>ALTA VERAPAZ</td>\n",
       "    </tr>\n",
       "    <tr>\n",
       "      <th>695</th>\n",
       "      <td>20-01-0132-46</td>\n",
       "      <td>20-038</td>\n",
       "      <td>Chiquimula</td>\n",
       "      <td>Chiquimula</td>\n",
       "      <td>Escuela Privada De Educacion Fisica De Oriente</td>\n",
       "      <td>NaN</td>\n",
       "      <td>NaN</td>\n",
       "      <td>ANGELA DEL ROSARIO GARCIA MARCOS</td>\n",
       "      <td>---</td>\n",
       "      <td>DIVERSIFICADO</td>\n",
       "      <td>PRIVADO</td>\n",
       "      <td>URBANA</td>\n",
       "      <td>CERRADA TEMPORALMENTE</td>\n",
       "      <td>MONOLINGUE</td>\n",
       "      <td>VESPERTINA</td>\n",
       "      <td>DIARIO(REGULAR)</td>\n",
       "      <td>CHIQUIMULA</td>\n",
       "    </tr>\n",
       "    <tr>\n",
       "      <th>809</th>\n",
       "      <td>20-08-1595-46</td>\n",
       "      <td>20-040</td>\n",
       "      <td>Chiquimula</td>\n",
       "      <td>Concepcion Las Minas</td>\n",
       "      <td>Liceo Tecnico Concepcion</td>\n",
       "      <td>NaN</td>\n",
       "      <td>NaN</td>\n",
       "      <td>LANDELINO CRUZ GARCIA</td>\n",
       "      <td>NaN</td>\n",
       "      <td>DIVERSIFICADO</td>\n",
       "      <td>PRIVADO</td>\n",
       "      <td>URBANA</td>\n",
       "      <td>CERRADA TEMPORALMENTE</td>\n",
       "      <td>MONOLINGUE</td>\n",
       "      <td>VESPERTINA</td>\n",
       "      <td>DIARIO(REGULAR)</td>\n",
       "      <td>CHIQUIMULA</td>\n",
       "    </tr>\n",
       "    <tr>\n",
       "      <th>940</th>\n",
       "      <td>00-01-0312-46</td>\n",
       "      <td>01-101</td>\n",
       "      <td>Ciudad Capital</td>\n",
       "      <td>Zona 1</td>\n",
       "      <td>Colegio Nacional Americano</td>\n",
       "      <td>NaN</td>\n",
       "      <td>NaN</td>\n",
       "      <td>MARIA ESTELA MARROQUIN CHUR DE ORTEGA</td>\n",
       "      <td>---</td>\n",
       "      <td>DIVERSIFICADO</td>\n",
       "      <td>PRIVADO</td>\n",
       "      <td>URBANA</td>\n",
       "      <td>TEMPORAL TITULOS</td>\n",
       "      <td>MONOLINGUE</td>\n",
       "      <td>MATUTINA</td>\n",
       "      <td>DIARIO(REGULAR)</td>\n",
       "      <td>GUATEMALA NORTE</td>\n",
       "    </tr>\n",
       "  </tbody>\n",
       "</table>\n",
       "</div>"
      ],
      "text/plain": [
       "            CODIGO DISTRITO    DEPARTAMENTO             MUNICIPIO  \\\n",
       "77   16-01-8813-46   25-000    Alta Verapaz                 Coban   \n",
       "209  16-10-3816-46       14    Alta Verapaz     San Juan Chamelco   \n",
       "695  20-01-0132-46   20-038      Chiquimula            Chiquimula   \n",
       "809  20-08-1595-46   20-040      Chiquimula  Concepcion Las Minas   \n",
       "940  00-01-0312-46   01-101  Ciudad Capital                Zona 1   \n",
       "\n",
       "                                       ESTABLECIMIENTO DIRECCION TELEFONO  \\\n",
       "77   Instituto Guatemalteco De Educacion Radiofonic...       NaN      NaN   \n",
       "209  Liceo De Bachillerato En Computacion Y Educaci...       NaN      NaN   \n",
       "695     Escuela Privada De Educacion Fisica De Oriente       NaN      NaN   \n",
       "809                           Liceo Tecnico Concepcion       NaN      NaN   \n",
       "940                         Colegio Nacional Americano       NaN      NaN   \n",
       "\n",
       "                                SUPERVISOR DIRECTOR          NIVEL   SECTOR  \\\n",
       "77           SONIA HAYDEE REYES MONTERROSO      NaN  DIVERSIFICADO  PRIVADO   \n",
       "209                                    NaN      NaN  DIVERSIFICADO  PRIVADO   \n",
       "695       ANGELA DEL ROSARIO GARCIA MARCOS      ---  DIVERSIFICADO  PRIVADO   \n",
       "809                  LANDELINO CRUZ GARCIA      NaN  DIVERSIFICADO  PRIVADO   \n",
       "940  MARIA ESTELA MARROQUIN CHUR DE ORTEGA      ---  DIVERSIFICADO  PRIVADO   \n",
       "\n",
       "       AREA                 STATUS   MODALIDAD     JORNADA             PLAN  \\\n",
       "77    RURAL  CERRADA TEMPORALMENTE  MONOLINGUE    MATUTINA      A DISTANCIA   \n",
       "209  URBANA  CERRADA TEMPORALMENTE  MONOLINGUE    MATUTINA  DIARIO(REGULAR)   \n",
       "695  URBANA  CERRADA TEMPORALMENTE  MONOLINGUE  VESPERTINA  DIARIO(REGULAR)   \n",
       "809  URBANA  CERRADA TEMPORALMENTE  MONOLINGUE  VESPERTINA  DIARIO(REGULAR)   \n",
       "940  URBANA       TEMPORAL TITULOS  MONOLINGUE    MATUTINA  DIARIO(REGULAR)   \n",
       "\n",
       "       DEPARTAMENTAL  \n",
       "77      ALTA VERAPAZ  \n",
       "209     ALTA VERAPAZ  \n",
       "695       CHIQUIMULA  \n",
       "809       CHIQUIMULA  \n",
       "940  GUATEMALA NORTE  "
      ]
     },
     "metadata": {},
     "output_type": "display_data"
    },
    {
     "name": "stdout",
     "output_type": "stream",
     "text": [
      "Cantidad de establecimientos sin dirección: 55 siendo el 0.69 % de toda la base de datos\n"
     ]
    }
   ],
   "source": [
    "display(df.loc[df.DIRECCION.isna(),:].head())\n",
    "a=len(df.loc[df.DIRECCION.isna(),:])\n",
    "b=len(df)\n",
    "print('Cantidad de establecimientos sin dirección: '+str(a)+' siendo el '+str(round((a/b)*100,2))+' % de toda la base de datos')"
   ]
  },
  {
   "cell_type": "markdown",
   "metadata": {},
   "source": [
    "#### Formato a Proper Case "
   ]
  },
  {
   "cell_type": "code",
   "execution_count": 36,
   "metadata": {},
   "outputs": [],
   "source": [
    "df.DIRECCION=df.DIRECCION.str.title()"
   ]
  },
  {
   "cell_type": "markdown",
   "metadata": {},
   "source": [
    "#### Eliminación de espacios en blanco no necesarios"
   ]
  },
  {
   "cell_type": "code",
   "execution_count": 37,
   "metadata": {},
   "outputs": [],
   "source": [
    "df.DIRECCION=df.DIRECCION.str.strip()"
   ]
  },
  {
   "cell_type": "markdown",
   "metadata": {},
   "source": [
    "#### Eliminación de acentos para estandarización"
   ]
  },
  {
   "cell_type": "code",
   "execution_count": 38,
   "metadata": {},
   "outputs": [],
   "source": [
    "df.DIRECCION=df.DIRECCION.str.replace('á','a')\n",
    "df.DIRECCION=df.DIRECCION.str.replace('é','e')\n",
    "df.DIRECCION=df.DIRECCION.str.replace('í','i')\n",
    "df.DIRECCION=df.DIRECCION.str.replace('ó','o')\n",
    "df.DIRECCION=df.DIRECCION.str.replace('ú','u')"
   ]
  },
  {
   "cell_type": "markdown",
   "metadata": {},
   "source": [
    "#### Se agrega 'No hay dirección registrada' a los datos faltantes"
   ]
  },
  {
   "cell_type": "code",
   "execution_count": 39,
   "metadata": {},
   "outputs": [
    {
     "data": {
      "text/html": [
       "<div>\n",
       "<style scoped>\n",
       "    .dataframe tbody tr th:only-of-type {\n",
       "        vertical-align: middle;\n",
       "    }\n",
       "\n",
       "    .dataframe tbody tr th {\n",
       "        vertical-align: top;\n",
       "    }\n",
       "\n",
       "    .dataframe thead th {\n",
       "        text-align: right;\n",
       "    }\n",
       "</style>\n",
       "<table border=\"1\" class=\"dataframe\">\n",
       "  <thead>\n",
       "    <tr style=\"text-align: right;\">\n",
       "      <th></th>\n",
       "      <th>CODIGO</th>\n",
       "      <th>DISTRITO</th>\n",
       "      <th>DEPARTAMENTO</th>\n",
       "      <th>MUNICIPIO</th>\n",
       "      <th>ESTABLECIMIENTO</th>\n",
       "      <th>DIRECCION</th>\n",
       "      <th>TELEFONO</th>\n",
       "      <th>SUPERVISOR</th>\n",
       "      <th>DIRECTOR</th>\n",
       "      <th>NIVEL</th>\n",
       "      <th>SECTOR</th>\n",
       "      <th>AREA</th>\n",
       "      <th>STATUS</th>\n",
       "      <th>MODALIDAD</th>\n",
       "      <th>JORNADA</th>\n",
       "      <th>PLAN</th>\n",
       "      <th>DEPARTAMENTAL</th>\n",
       "    </tr>\n",
       "  </thead>\n",
       "  <tbody>\n",
       "    <tr>\n",
       "      <th>77</th>\n",
       "      <td>16-01-8813-46</td>\n",
       "      <td>25-000</td>\n",
       "      <td>Alta Verapaz</td>\n",
       "      <td>Coban</td>\n",
       "      <td>Instituto Guatemalteco De Educacion Radiofonic...</td>\n",
       "      <td>No hay dirección registrada</td>\n",
       "      <td>NaN</td>\n",
       "      <td>SONIA HAYDEE REYES MONTERROSO</td>\n",
       "      <td>NaN</td>\n",
       "      <td>DIVERSIFICADO</td>\n",
       "      <td>PRIVADO</td>\n",
       "      <td>RURAL</td>\n",
       "      <td>CERRADA TEMPORALMENTE</td>\n",
       "      <td>MONOLINGUE</td>\n",
       "      <td>MATUTINA</td>\n",
       "      <td>A DISTANCIA</td>\n",
       "      <td>ALTA VERAPAZ</td>\n",
       "    </tr>\n",
       "    <tr>\n",
       "      <th>209</th>\n",
       "      <td>16-10-3816-46</td>\n",
       "      <td>14</td>\n",
       "      <td>Alta Verapaz</td>\n",
       "      <td>San Juan Chamelco</td>\n",
       "      <td>Liceo De Bachillerato En Computacion Y Educaci...</td>\n",
       "      <td>No hay dirección registrada</td>\n",
       "      <td>NaN</td>\n",
       "      <td>NaN</td>\n",
       "      <td>NaN</td>\n",
       "      <td>DIVERSIFICADO</td>\n",
       "      <td>PRIVADO</td>\n",
       "      <td>URBANA</td>\n",
       "      <td>CERRADA TEMPORALMENTE</td>\n",
       "      <td>MONOLINGUE</td>\n",
       "      <td>MATUTINA</td>\n",
       "      <td>DIARIO(REGULAR)</td>\n",
       "      <td>ALTA VERAPAZ</td>\n",
       "    </tr>\n",
       "    <tr>\n",
       "      <th>695</th>\n",
       "      <td>20-01-0132-46</td>\n",
       "      <td>20-038</td>\n",
       "      <td>Chiquimula</td>\n",
       "      <td>Chiquimula</td>\n",
       "      <td>Escuela Privada De Educacion Fisica De Oriente</td>\n",
       "      <td>No hay dirección registrada</td>\n",
       "      <td>NaN</td>\n",
       "      <td>ANGELA DEL ROSARIO GARCIA MARCOS</td>\n",
       "      <td>---</td>\n",
       "      <td>DIVERSIFICADO</td>\n",
       "      <td>PRIVADO</td>\n",
       "      <td>URBANA</td>\n",
       "      <td>CERRADA TEMPORALMENTE</td>\n",
       "      <td>MONOLINGUE</td>\n",
       "      <td>VESPERTINA</td>\n",
       "      <td>DIARIO(REGULAR)</td>\n",
       "      <td>CHIQUIMULA</td>\n",
       "    </tr>\n",
       "    <tr>\n",
       "      <th>809</th>\n",
       "      <td>20-08-1595-46</td>\n",
       "      <td>20-040</td>\n",
       "      <td>Chiquimula</td>\n",
       "      <td>Concepcion Las Minas</td>\n",
       "      <td>Liceo Tecnico Concepcion</td>\n",
       "      <td>No hay dirección registrada</td>\n",
       "      <td>NaN</td>\n",
       "      <td>LANDELINO CRUZ GARCIA</td>\n",
       "      <td>NaN</td>\n",
       "      <td>DIVERSIFICADO</td>\n",
       "      <td>PRIVADO</td>\n",
       "      <td>URBANA</td>\n",
       "      <td>CERRADA TEMPORALMENTE</td>\n",
       "      <td>MONOLINGUE</td>\n",
       "      <td>VESPERTINA</td>\n",
       "      <td>DIARIO(REGULAR)</td>\n",
       "      <td>CHIQUIMULA</td>\n",
       "    </tr>\n",
       "    <tr>\n",
       "      <th>940</th>\n",
       "      <td>00-01-0312-46</td>\n",
       "      <td>01-101</td>\n",
       "      <td>Ciudad Capital</td>\n",
       "      <td>Zona 1</td>\n",
       "      <td>Colegio Nacional Americano</td>\n",
       "      <td>No hay dirección registrada</td>\n",
       "      <td>NaN</td>\n",
       "      <td>MARIA ESTELA MARROQUIN CHUR DE ORTEGA</td>\n",
       "      <td>---</td>\n",
       "      <td>DIVERSIFICADO</td>\n",
       "      <td>PRIVADO</td>\n",
       "      <td>URBANA</td>\n",
       "      <td>TEMPORAL TITULOS</td>\n",
       "      <td>MONOLINGUE</td>\n",
       "      <td>MATUTINA</td>\n",
       "      <td>DIARIO(REGULAR)</td>\n",
       "      <td>GUATEMALA NORTE</td>\n",
       "    </tr>\n",
       "  </tbody>\n",
       "</table>\n",
       "</div>"
      ],
      "text/plain": [
       "            CODIGO DISTRITO    DEPARTAMENTO             MUNICIPIO  \\\n",
       "77   16-01-8813-46   25-000    Alta Verapaz                 Coban   \n",
       "209  16-10-3816-46       14    Alta Verapaz     San Juan Chamelco   \n",
       "695  20-01-0132-46   20-038      Chiquimula            Chiquimula   \n",
       "809  20-08-1595-46   20-040      Chiquimula  Concepcion Las Minas   \n",
       "940  00-01-0312-46   01-101  Ciudad Capital                Zona 1   \n",
       "\n",
       "                                       ESTABLECIMIENTO  \\\n",
       "77   Instituto Guatemalteco De Educacion Radiofonic...   \n",
       "209  Liceo De Bachillerato En Computacion Y Educaci...   \n",
       "695     Escuela Privada De Educacion Fisica De Oriente   \n",
       "809                           Liceo Tecnico Concepcion   \n",
       "940                         Colegio Nacional Americano   \n",
       "\n",
       "                       DIRECCION TELEFONO  \\\n",
       "77   No hay dirección registrada      NaN   \n",
       "209  No hay dirección registrada      NaN   \n",
       "695  No hay dirección registrada      NaN   \n",
       "809  No hay dirección registrada      NaN   \n",
       "940  No hay dirección registrada      NaN   \n",
       "\n",
       "                                SUPERVISOR DIRECTOR          NIVEL   SECTOR  \\\n",
       "77           SONIA HAYDEE REYES MONTERROSO      NaN  DIVERSIFICADO  PRIVADO   \n",
       "209                                    NaN      NaN  DIVERSIFICADO  PRIVADO   \n",
       "695       ANGELA DEL ROSARIO GARCIA MARCOS      ---  DIVERSIFICADO  PRIVADO   \n",
       "809                  LANDELINO CRUZ GARCIA      NaN  DIVERSIFICADO  PRIVADO   \n",
       "940  MARIA ESTELA MARROQUIN CHUR DE ORTEGA      ---  DIVERSIFICADO  PRIVADO   \n",
       "\n",
       "       AREA                 STATUS   MODALIDAD     JORNADA             PLAN  \\\n",
       "77    RURAL  CERRADA TEMPORALMENTE  MONOLINGUE    MATUTINA      A DISTANCIA   \n",
       "209  URBANA  CERRADA TEMPORALMENTE  MONOLINGUE    MATUTINA  DIARIO(REGULAR)   \n",
       "695  URBANA  CERRADA TEMPORALMENTE  MONOLINGUE  VESPERTINA  DIARIO(REGULAR)   \n",
       "809  URBANA  CERRADA TEMPORALMENTE  MONOLINGUE  VESPERTINA  DIARIO(REGULAR)   \n",
       "940  URBANA       TEMPORAL TITULOS  MONOLINGUE    MATUTINA  DIARIO(REGULAR)   \n",
       "\n",
       "       DEPARTAMENTAL  \n",
       "77      ALTA VERAPAZ  \n",
       "209     ALTA VERAPAZ  \n",
       "695       CHIQUIMULA  \n",
       "809       CHIQUIMULA  \n",
       "940  GUATEMALA NORTE  "
      ]
     },
     "metadata": {},
     "output_type": "display_data"
    }
   ],
   "source": [
    "df.loc[df.DIRECCION.isna(),'DIRECCION']='No hay dirección registrada'\n",
    "\n",
    "display(df.loc[df.DIRECCION=='No hay dirección registrada',:].head())"
   ]
  },
  {
   "cell_type": "markdown",
   "metadata": {},
   "source": [
    "#### Conteo de establecimientos por dirección"
   ]
  },
  {
   "cell_type": "code",
   "execution_count": 40,
   "metadata": {
    "scrolled": false
   },
   "outputs": [
    {
     "data": {
      "text/plain": [
       "Cabecera Municipal                                                 242\n",
       "Barrio El Centro                                                    63\n",
       "No hay dirección registrada                                         55\n",
       "Barrio El Porvenir                                                  18\n",
       "Barrio El Calvario                                                  14\n",
       "                                                                  ... \n",
       "1A. Calle 2-35 Zona 4 De Mixco Colonia Monte Verde                   1\n",
       "Boulevard Sur Manzana C, Lote 22, Valle Dorado, San Cristobal        1\n",
       "6A Calle 14-39, Aldea Sacoj Chiquito, Zona 6                         1\n",
       "4A. Calle \"A\" 13-60, Sector B-2, Zona 8, Ciudad San Cristobal I      1\n",
       "10A. Avenida 10-55, Zona 2                                           1\n",
       "Name: DIRECCION, Length: 5108, dtype: int64"
      ]
     },
     "execution_count": 40,
     "metadata": {},
     "output_type": "execute_result"
    }
   ],
   "source": [
    "df.DIRECCION.value_counts()"
   ]
  },
  {
   "cell_type": "markdown",
   "metadata": {},
   "source": [
    "## Análisis para variable teléfono"
   ]
  },
  {
   "cell_type": "markdown",
   "metadata": {},
   "source": [
    "#### Revisión de Formato"
   ]
  },
  {
   "cell_type": "code",
   "execution_count": 41,
   "metadata": {
    "scrolled": false
   },
   "outputs": [
    {
     "data": {
      "text/plain": [
       "['77945104',\n",
       " '77367402',\n",
       " '49532425',\n",
       " '79514215',\n",
       " '79521468',\n",
       " '57101061',\n",
       " '54641454',\n",
       " nan,\n",
       " '79522555',\n",
       " '79945251']"
      ]
     },
     "metadata": {},
     "output_type": "display_data"
    }
   ],
   "source": [
    "# Formato de datos\n",
    "display(df.TELEFONO.unique().tolist()[0:10])\n"
   ]
  },
  {
   "cell_type": "markdown",
   "metadata": {},
   "source": [
    "#### Revisión de Nulls"
   ]
  },
  {
   "cell_type": "code",
   "execution_count": 42,
   "metadata": {},
   "outputs": [
    {
     "data": {
      "text/html": [
       "<div>\n",
       "<style scoped>\n",
       "    .dataframe tbody tr th:only-of-type {\n",
       "        vertical-align: middle;\n",
       "    }\n",
       "\n",
       "    .dataframe tbody tr th {\n",
       "        vertical-align: top;\n",
       "    }\n",
       "\n",
       "    .dataframe thead th {\n",
       "        text-align: right;\n",
       "    }\n",
       "</style>\n",
       "<table border=\"1\" class=\"dataframe\">\n",
       "  <thead>\n",
       "    <tr style=\"text-align: right;\">\n",
       "      <th></th>\n",
       "      <th>CODIGO</th>\n",
       "      <th>DISTRITO</th>\n",
       "      <th>DEPARTAMENTO</th>\n",
       "      <th>MUNICIPIO</th>\n",
       "      <th>ESTABLECIMIENTO</th>\n",
       "      <th>DIRECCION</th>\n",
       "      <th>TELEFONO</th>\n",
       "      <th>SUPERVISOR</th>\n",
       "      <th>DIRECTOR</th>\n",
       "      <th>NIVEL</th>\n",
       "      <th>SECTOR</th>\n",
       "      <th>AREA</th>\n",
       "      <th>STATUS</th>\n",
       "      <th>MODALIDAD</th>\n",
       "      <th>JORNADA</th>\n",
       "      <th>PLAN</th>\n",
       "      <th>DEPARTAMENTAL</th>\n",
       "    </tr>\n",
       "  </thead>\n",
       "  <tbody>\n",
       "    <tr>\n",
       "      <th>8</th>\n",
       "      <td>16-01-0150-46</td>\n",
       "      <td>16-006</td>\n",
       "      <td>Alta Verapaz</td>\n",
       "      <td>Coban</td>\n",
       "      <td>Instituto Intercultrual Altaverapacencese -Iiav-</td>\n",
       "      <td>3A. Avaenida 1-23 Zona 4</td>\n",
       "      <td>NaN</td>\n",
       "      <td>EFRAIN CAAL CUC</td>\n",
       "      <td>GUILLERMO ESTUARDO VASQUEZ MORALES</td>\n",
       "      <td>DIVERSIFICADO</td>\n",
       "      <td>PRIVADO</td>\n",
       "      <td>URBANA</td>\n",
       "      <td>CERRADA TEMPORALMENTE</td>\n",
       "      <td>BILINGUE</td>\n",
       "      <td>DOBLE</td>\n",
       "      <td>FIN DE SEMANA</td>\n",
       "      <td>ALTA VERAPAZ</td>\n",
       "    </tr>\n",
       "    <tr>\n",
       "      <th>49</th>\n",
       "      <td>16-01-1172-46</td>\n",
       "      <td>16-006</td>\n",
       "      <td>Alta Verapaz</td>\n",
       "      <td>Coban</td>\n",
       "      <td>Colegio Particular Mixto Carlos V</td>\n",
       "      <td>6A. Calle 2-06 Zona 8 Periferico Sur Coban</td>\n",
       "      <td>NaN</td>\n",
       "      <td>EFRAIN CAAL CUC</td>\n",
       "      <td>NaN</td>\n",
       "      <td>DIVERSIFICADO</td>\n",
       "      <td>PRIVADO</td>\n",
       "      <td>URBANA</td>\n",
       "      <td>CERRADA TEMPORALMENTE</td>\n",
       "      <td>MONOLINGUE</td>\n",
       "      <td>MATUTINA</td>\n",
       "      <td>FIN DE SEMANA</td>\n",
       "      <td>ALTA VERAPAZ</td>\n",
       "    </tr>\n",
       "    <tr>\n",
       "      <th>50</th>\n",
       "      <td>16-01-1173-46</td>\n",
       "      <td>16-006</td>\n",
       "      <td>Alta Verapaz</td>\n",
       "      <td>Coban</td>\n",
       "      <td>Colegio Particular Mixto Carlos V</td>\n",
       "      <td>6A. Calle 2-06 Zona 8 Periferico Sur Coban</td>\n",
       "      <td>NaN</td>\n",
       "      <td>EFRAIN CAAL CUC</td>\n",
       "      <td>NaN</td>\n",
       "      <td>DIVERSIFICADO</td>\n",
       "      <td>PRIVADO</td>\n",
       "      <td>URBANA</td>\n",
       "      <td>CERRADA TEMPORALMENTE</td>\n",
       "      <td>MONOLINGUE</td>\n",
       "      <td>MATUTINA</td>\n",
       "      <td>DIARIO(REGULAR)</td>\n",
       "      <td>ALTA VERAPAZ</td>\n",
       "    </tr>\n",
       "    <tr>\n",
       "      <th>66</th>\n",
       "      <td>16-01-2171-46</td>\n",
       "      <td>16-031</td>\n",
       "      <td>Alta Verapaz</td>\n",
       "      <td>Coban</td>\n",
       "      <td>Instituto Mixto Nuevos Horizontes</td>\n",
       "      <td>6A. Avenida 1-15, Zona 4</td>\n",
       "      <td>NaN</td>\n",
       "      <td>CESAR ROLANDO CHOCOOJ YALIBAT</td>\n",
       "      <td>NaN</td>\n",
       "      <td>DIVERSIFICADO</td>\n",
       "      <td>PRIVADO</td>\n",
       "      <td>URBANA</td>\n",
       "      <td>CERRADA TEMPORALMENTE</td>\n",
       "      <td>MONOLINGUE</td>\n",
       "      <td>MATUTINA</td>\n",
       "      <td>FIN DE SEMANA</td>\n",
       "      <td>ALTA VERAPAZ</td>\n",
       "    </tr>\n",
       "    <tr>\n",
       "      <th>68</th>\n",
       "      <td>16-01-2947-46</td>\n",
       "      <td>65</td>\n",
       "      <td>Alta Verapaz</td>\n",
       "      <td>Coban</td>\n",
       "      <td>Instituto Privado Basico Y Bachillerato Por Ma...</td>\n",
       "      <td>5A. Calle 1-98 Zona 3</td>\n",
       "      <td>NaN</td>\n",
       "      <td>NaN</td>\n",
       "      <td>NaN</td>\n",
       "      <td>DIVERSIFICADO</td>\n",
       "      <td>PRIVADO</td>\n",
       "      <td>URBANA</td>\n",
       "      <td>CERRADA TEMPORALMENTE</td>\n",
       "      <td>MONOLINGUE</td>\n",
       "      <td>VESPERTINA</td>\n",
       "      <td>DIARIO(REGULAR)</td>\n",
       "      <td>ALTA VERAPAZ</td>\n",
       "    </tr>\n",
       "  </tbody>\n",
       "</table>\n",
       "</div>"
      ],
      "text/plain": [
       "           CODIGO DISTRITO  DEPARTAMENTO MUNICIPIO  \\\n",
       "8   16-01-0150-46   16-006  Alta Verapaz     Coban   \n",
       "49  16-01-1172-46   16-006  Alta Verapaz     Coban   \n",
       "50  16-01-1173-46   16-006  Alta Verapaz     Coban   \n",
       "66  16-01-2171-46   16-031  Alta Verapaz     Coban   \n",
       "68  16-01-2947-46       65  Alta Verapaz     Coban   \n",
       "\n",
       "                                      ESTABLECIMIENTO  \\\n",
       "8    Instituto Intercultrual Altaverapacencese -Iiav-   \n",
       "49                  Colegio Particular Mixto Carlos V   \n",
       "50                  Colegio Particular Mixto Carlos V   \n",
       "66                  Instituto Mixto Nuevos Horizontes   \n",
       "68  Instituto Privado Basico Y Bachillerato Por Ma...   \n",
       "\n",
       "                                     DIRECCION TELEFONO  \\\n",
       "8                     3A. Avaenida 1-23 Zona 4      NaN   \n",
       "49  6A. Calle 2-06 Zona 8 Periferico Sur Coban      NaN   \n",
       "50  6A. Calle 2-06 Zona 8 Periferico Sur Coban      NaN   \n",
       "66                    6A. Avenida 1-15, Zona 4      NaN   \n",
       "68                       5A. Calle 1-98 Zona 3      NaN   \n",
       "\n",
       "                       SUPERVISOR                            DIRECTOR  \\\n",
       "8                 EFRAIN CAAL CUC  GUILLERMO ESTUARDO VASQUEZ MORALES   \n",
       "49                EFRAIN CAAL CUC                                 NaN   \n",
       "50                EFRAIN CAAL CUC                                 NaN   \n",
       "66  CESAR ROLANDO CHOCOOJ YALIBAT                                 NaN   \n",
       "68                            NaN                                 NaN   \n",
       "\n",
       "            NIVEL   SECTOR    AREA                 STATUS   MODALIDAD  \\\n",
       "8   DIVERSIFICADO  PRIVADO  URBANA  CERRADA TEMPORALMENTE    BILINGUE   \n",
       "49  DIVERSIFICADO  PRIVADO  URBANA  CERRADA TEMPORALMENTE  MONOLINGUE   \n",
       "50  DIVERSIFICADO  PRIVADO  URBANA  CERRADA TEMPORALMENTE  MONOLINGUE   \n",
       "66  DIVERSIFICADO  PRIVADO  URBANA  CERRADA TEMPORALMENTE  MONOLINGUE   \n",
       "68  DIVERSIFICADO  PRIVADO  URBANA  CERRADA TEMPORALMENTE  MONOLINGUE   \n",
       "\n",
       "       JORNADA             PLAN DEPARTAMENTAL  \n",
       "8        DOBLE    FIN DE SEMANA  ALTA VERAPAZ  \n",
       "49    MATUTINA    FIN DE SEMANA  ALTA VERAPAZ  \n",
       "50    MATUTINA  DIARIO(REGULAR)  ALTA VERAPAZ  \n",
       "66    MATUTINA    FIN DE SEMANA  ALTA VERAPAZ  \n",
       "68  VESPERTINA  DIARIO(REGULAR)  ALTA VERAPAZ  "
      ]
     },
     "metadata": {},
     "output_type": "display_data"
    },
    {
     "name": "stdout",
     "output_type": "stream",
     "text": [
      "Cantidad de establecimientos sin dirección: 571 siendo el 7.17 % de toda la base de datos\n"
     ]
    }
   ],
   "source": [
    "display(df.loc[df.TELEFONO.isna(),:].head())\n",
    "a=len(df.loc[df.TELEFONO.isna(),:])\n",
    "b=len(df)\n",
    "print('Cantidad de establecimientos sin dirección: '+str(a)+' siendo el '+str(round((a/b)*100,2))+' % de toda la base de datos')"
   ]
  },
  {
   "cell_type": "code",
   "execution_count": 43,
   "metadata": {},
   "outputs": [
    {
     "data": {
      "text/html": [
       "<div>\n",
       "<style scoped>\n",
       "    .dataframe tbody tr th:only-of-type {\n",
       "        vertical-align: middle;\n",
       "    }\n",
       "\n",
       "    .dataframe tbody tr th {\n",
       "        vertical-align: top;\n",
       "    }\n",
       "\n",
       "    .dataframe thead th {\n",
       "        text-align: right;\n",
       "    }\n",
       "</style>\n",
       "<table border=\"1\" class=\"dataframe\">\n",
       "  <thead>\n",
       "    <tr style=\"text-align: right;\">\n",
       "      <th></th>\n",
       "      <th>CODIGO</th>\n",
       "      <th>DISTRITO</th>\n",
       "      <th>DEPARTAMENTO</th>\n",
       "      <th>MUNICIPIO</th>\n",
       "      <th>ESTABLECIMIENTO</th>\n",
       "      <th>DIRECCION</th>\n",
       "      <th>TELEFONO</th>\n",
       "      <th>SUPERVISOR</th>\n",
       "      <th>DIRECTOR</th>\n",
       "      <th>NIVEL</th>\n",
       "      <th>SECTOR</th>\n",
       "      <th>AREA</th>\n",
       "      <th>STATUS</th>\n",
       "      <th>MODALIDAD</th>\n",
       "      <th>JORNADA</th>\n",
       "      <th>PLAN</th>\n",
       "      <th>DEPARTAMENTAL</th>\n",
       "    </tr>\n",
       "  </thead>\n",
       "  <tbody>\n",
       "    <tr>\n",
       "      <th>8</th>\n",
       "      <td>16-01-0150-46</td>\n",
       "      <td>16-006</td>\n",
       "      <td>Alta Verapaz</td>\n",
       "      <td>Coban</td>\n",
       "      <td>Instituto Intercultrual Altaverapacencese -Iiav-</td>\n",
       "      <td>3A. Avaenida 1-23 Zona 4</td>\n",
       "      <td>No hay teléfono registrado</td>\n",
       "      <td>EFRAIN CAAL CUC</td>\n",
       "      <td>GUILLERMO ESTUARDO VASQUEZ MORALES</td>\n",
       "      <td>DIVERSIFICADO</td>\n",
       "      <td>PRIVADO</td>\n",
       "      <td>URBANA</td>\n",
       "      <td>CERRADA TEMPORALMENTE</td>\n",
       "      <td>BILINGUE</td>\n",
       "      <td>DOBLE</td>\n",
       "      <td>FIN DE SEMANA</td>\n",
       "      <td>ALTA VERAPAZ</td>\n",
       "    </tr>\n",
       "    <tr>\n",
       "      <th>49</th>\n",
       "      <td>16-01-1172-46</td>\n",
       "      <td>16-006</td>\n",
       "      <td>Alta Verapaz</td>\n",
       "      <td>Coban</td>\n",
       "      <td>Colegio Particular Mixto Carlos V</td>\n",
       "      <td>6A. Calle 2-06 Zona 8 Periferico Sur Coban</td>\n",
       "      <td>No hay teléfono registrado</td>\n",
       "      <td>EFRAIN CAAL CUC</td>\n",
       "      <td>NaN</td>\n",
       "      <td>DIVERSIFICADO</td>\n",
       "      <td>PRIVADO</td>\n",
       "      <td>URBANA</td>\n",
       "      <td>CERRADA TEMPORALMENTE</td>\n",
       "      <td>MONOLINGUE</td>\n",
       "      <td>MATUTINA</td>\n",
       "      <td>FIN DE SEMANA</td>\n",
       "      <td>ALTA VERAPAZ</td>\n",
       "    </tr>\n",
       "    <tr>\n",
       "      <th>50</th>\n",
       "      <td>16-01-1173-46</td>\n",
       "      <td>16-006</td>\n",
       "      <td>Alta Verapaz</td>\n",
       "      <td>Coban</td>\n",
       "      <td>Colegio Particular Mixto Carlos V</td>\n",
       "      <td>6A. Calle 2-06 Zona 8 Periferico Sur Coban</td>\n",
       "      <td>No hay teléfono registrado</td>\n",
       "      <td>EFRAIN CAAL CUC</td>\n",
       "      <td>NaN</td>\n",
       "      <td>DIVERSIFICADO</td>\n",
       "      <td>PRIVADO</td>\n",
       "      <td>URBANA</td>\n",
       "      <td>CERRADA TEMPORALMENTE</td>\n",
       "      <td>MONOLINGUE</td>\n",
       "      <td>MATUTINA</td>\n",
       "      <td>DIARIO(REGULAR)</td>\n",
       "      <td>ALTA VERAPAZ</td>\n",
       "    </tr>\n",
       "    <tr>\n",
       "      <th>66</th>\n",
       "      <td>16-01-2171-46</td>\n",
       "      <td>16-031</td>\n",
       "      <td>Alta Verapaz</td>\n",
       "      <td>Coban</td>\n",
       "      <td>Instituto Mixto Nuevos Horizontes</td>\n",
       "      <td>6A. Avenida 1-15, Zona 4</td>\n",
       "      <td>No hay teléfono registrado</td>\n",
       "      <td>CESAR ROLANDO CHOCOOJ YALIBAT</td>\n",
       "      <td>NaN</td>\n",
       "      <td>DIVERSIFICADO</td>\n",
       "      <td>PRIVADO</td>\n",
       "      <td>URBANA</td>\n",
       "      <td>CERRADA TEMPORALMENTE</td>\n",
       "      <td>MONOLINGUE</td>\n",
       "      <td>MATUTINA</td>\n",
       "      <td>FIN DE SEMANA</td>\n",
       "      <td>ALTA VERAPAZ</td>\n",
       "    </tr>\n",
       "    <tr>\n",
       "      <th>68</th>\n",
       "      <td>16-01-2947-46</td>\n",
       "      <td>65</td>\n",
       "      <td>Alta Verapaz</td>\n",
       "      <td>Coban</td>\n",
       "      <td>Instituto Privado Basico Y Bachillerato Por Ma...</td>\n",
       "      <td>5A. Calle 1-98 Zona 3</td>\n",
       "      <td>No hay teléfono registrado</td>\n",
       "      <td>NaN</td>\n",
       "      <td>NaN</td>\n",
       "      <td>DIVERSIFICADO</td>\n",
       "      <td>PRIVADO</td>\n",
       "      <td>URBANA</td>\n",
       "      <td>CERRADA TEMPORALMENTE</td>\n",
       "      <td>MONOLINGUE</td>\n",
       "      <td>VESPERTINA</td>\n",
       "      <td>DIARIO(REGULAR)</td>\n",
       "      <td>ALTA VERAPAZ</td>\n",
       "    </tr>\n",
       "  </tbody>\n",
       "</table>\n",
       "</div>"
      ],
      "text/plain": [
       "           CODIGO DISTRITO  DEPARTAMENTO MUNICIPIO  \\\n",
       "8   16-01-0150-46   16-006  Alta Verapaz     Coban   \n",
       "49  16-01-1172-46   16-006  Alta Verapaz     Coban   \n",
       "50  16-01-1173-46   16-006  Alta Verapaz     Coban   \n",
       "66  16-01-2171-46   16-031  Alta Verapaz     Coban   \n",
       "68  16-01-2947-46       65  Alta Verapaz     Coban   \n",
       "\n",
       "                                      ESTABLECIMIENTO  \\\n",
       "8    Instituto Intercultrual Altaverapacencese -Iiav-   \n",
       "49                  Colegio Particular Mixto Carlos V   \n",
       "50                  Colegio Particular Mixto Carlos V   \n",
       "66                  Instituto Mixto Nuevos Horizontes   \n",
       "68  Instituto Privado Basico Y Bachillerato Por Ma...   \n",
       "\n",
       "                                     DIRECCION                    TELEFONO  \\\n",
       "8                     3A. Avaenida 1-23 Zona 4  No hay teléfono registrado   \n",
       "49  6A. Calle 2-06 Zona 8 Periferico Sur Coban  No hay teléfono registrado   \n",
       "50  6A. Calle 2-06 Zona 8 Periferico Sur Coban  No hay teléfono registrado   \n",
       "66                    6A. Avenida 1-15, Zona 4  No hay teléfono registrado   \n",
       "68                       5A. Calle 1-98 Zona 3  No hay teléfono registrado   \n",
       "\n",
       "                       SUPERVISOR                            DIRECTOR  \\\n",
       "8                 EFRAIN CAAL CUC  GUILLERMO ESTUARDO VASQUEZ MORALES   \n",
       "49                EFRAIN CAAL CUC                                 NaN   \n",
       "50                EFRAIN CAAL CUC                                 NaN   \n",
       "66  CESAR ROLANDO CHOCOOJ YALIBAT                                 NaN   \n",
       "68                            NaN                                 NaN   \n",
       "\n",
       "            NIVEL   SECTOR    AREA                 STATUS   MODALIDAD  \\\n",
       "8   DIVERSIFICADO  PRIVADO  URBANA  CERRADA TEMPORALMENTE    BILINGUE   \n",
       "49  DIVERSIFICADO  PRIVADO  URBANA  CERRADA TEMPORALMENTE  MONOLINGUE   \n",
       "50  DIVERSIFICADO  PRIVADO  URBANA  CERRADA TEMPORALMENTE  MONOLINGUE   \n",
       "66  DIVERSIFICADO  PRIVADO  URBANA  CERRADA TEMPORALMENTE  MONOLINGUE   \n",
       "68  DIVERSIFICADO  PRIVADO  URBANA  CERRADA TEMPORALMENTE  MONOLINGUE   \n",
       "\n",
       "       JORNADA             PLAN DEPARTAMENTAL  \n",
       "8        DOBLE    FIN DE SEMANA  ALTA VERAPAZ  \n",
       "49    MATUTINA    FIN DE SEMANA  ALTA VERAPAZ  \n",
       "50    MATUTINA  DIARIO(REGULAR)  ALTA VERAPAZ  \n",
       "66    MATUTINA    FIN DE SEMANA  ALTA VERAPAZ  \n",
       "68  VESPERTINA  DIARIO(REGULAR)  ALTA VERAPAZ  "
      ]
     },
     "metadata": {},
     "output_type": "display_data"
    }
   ],
   "source": [
    "df.loc[df.TELEFONO.isna(),'TELEFONO']='No hay teléfono registrado'\n",
    "\n",
    "display(df.loc[df.TELEFONO=='No hay teléfono registrado',:].head())"
   ]
  },
  {
   "cell_type": "markdown",
   "metadata": {},
   "source": [
    "#### Convertir a String"
   ]
  },
  {
   "cell_type": "code",
   "execution_count": 44,
   "metadata": {},
   "outputs": [
    {
     "data": {
      "text/plain": [
       "0         77945104\n",
       "1         77367402\n",
       "2         49532425\n",
       "3         79514215\n",
       "4         79521468\n",
       "           ...    \n",
       "7959    79418369.0\n",
       "7960    79418369.0\n",
       "7961    31863599.0\n",
       "7962    55958103.0\n",
       "7963    41447589.0\n",
       "Name: TELEFONO, Length: 7964, dtype: object"
      ]
     },
     "execution_count": 44,
     "metadata": {},
     "output_type": "execute_result"
    }
   ],
   "source": [
    "df.TELEFONO=df.TELEFONO.astype(str)\n",
    "df.TELEFONO"
   ]
  },
  {
   "cell_type": "markdown",
   "metadata": {},
   "source": [
    "#### Se elimina el '.0' y cualquier otro decimal si fuese mal escrito o detectado como un número, utilizando split y tomando todo lo que está al lado izquierdo del punto"
   ]
  },
  {
   "cell_type": "code",
   "execution_count": 45,
   "metadata": {
    "scrolled": false
   },
   "outputs": [
    {
     "data": {
      "text/plain": [
       "0       77945104\n",
       "1       77367402\n",
       "2       49532425\n",
       "3       79514215\n",
       "4       79521468\n",
       "          ...   \n",
       "7959    79418369\n",
       "7960    79418369\n",
       "7961    31863599\n",
       "7962    55958103\n",
       "7963    41447589\n",
       "Name: TELEFONO, Length: 7964, dtype: object"
      ]
     },
     "execution_count": 45,
     "metadata": {},
     "output_type": "execute_result"
    }
   ],
   "source": [
    "df.TELEFONO=df.TELEFONO.str.split('.',expand=True)[0]\n",
    "df.TELEFONO"
   ]
  },
  {
   "cell_type": "markdown",
   "metadata": {},
   "source": [
    "#### Eliminación de espacios en blanco no necesarios"
   ]
  },
  {
   "cell_type": "code",
   "execution_count": 46,
   "metadata": {},
   "outputs": [
    {
     "data": {
      "text/html": [
       "<div>\n",
       "<style scoped>\n",
       "    .dataframe tbody tr th:only-of-type {\n",
       "        vertical-align: middle;\n",
       "    }\n",
       "\n",
       "    .dataframe tbody tr th {\n",
       "        vertical-align: top;\n",
       "    }\n",
       "\n",
       "    .dataframe thead th {\n",
       "        text-align: right;\n",
       "    }\n",
       "</style>\n",
       "<table border=\"1\" class=\"dataframe\">\n",
       "  <thead>\n",
       "    <tr style=\"text-align: right;\">\n",
       "      <th></th>\n",
       "      <th>CODIGO</th>\n",
       "      <th>DISTRITO</th>\n",
       "      <th>DEPARTAMENTO</th>\n",
       "      <th>MUNICIPIO</th>\n",
       "      <th>ESTABLECIMIENTO</th>\n",
       "      <th>DIRECCION</th>\n",
       "      <th>TELEFONO</th>\n",
       "      <th>SUPERVISOR</th>\n",
       "      <th>DIRECTOR</th>\n",
       "      <th>NIVEL</th>\n",
       "      <th>SECTOR</th>\n",
       "      <th>AREA</th>\n",
       "      <th>STATUS</th>\n",
       "      <th>MODALIDAD</th>\n",
       "      <th>JORNADA</th>\n",
       "      <th>PLAN</th>\n",
       "      <th>DEPARTAMENTAL</th>\n",
       "    </tr>\n",
       "  </thead>\n",
       "  <tbody>\n",
       "    <tr>\n",
       "      <th>0</th>\n",
       "      <td>16-01-0138-46</td>\n",
       "      <td>16-031</td>\n",
       "      <td>Alta Verapaz</td>\n",
       "      <td>Coban</td>\n",
       "      <td>Colegio Coban</td>\n",
       "      <td>Km.2 Salida A San Juan Chamelco Zona 8</td>\n",
       "      <td>77945104</td>\n",
       "      <td>CESAR ROLANDO CHOCOOJ YALIBAT</td>\n",
       "      <td>JULIO CESAR VILLELA AMADO</td>\n",
       "      <td>DIVERSIFICADO</td>\n",
       "      <td>PRIVADO</td>\n",
       "      <td>URBANA</td>\n",
       "      <td>ABIERTA</td>\n",
       "      <td>MONOLINGUE</td>\n",
       "      <td>MATUTINA</td>\n",
       "      <td>DIARIO(REGULAR)</td>\n",
       "      <td>ALTA VERAPAZ</td>\n",
       "    </tr>\n",
       "    <tr>\n",
       "      <th>1</th>\n",
       "      <td>16-01-0139-46</td>\n",
       "      <td>16-031</td>\n",
       "      <td>Alta Verapaz</td>\n",
       "      <td>Coban</td>\n",
       "      <td>Colegio Particular Mixto Verapaz</td>\n",
       "      <td>Km 209.5 Entrada A La Ciudad</td>\n",
       "      <td>77367402</td>\n",
       "      <td>CESAR ROLANDO CHOCOOJ YALIBAT</td>\n",
       "      <td>NaN</td>\n",
       "      <td>DIVERSIFICADO</td>\n",
       "      <td>PRIVADO</td>\n",
       "      <td>URBANA</td>\n",
       "      <td>ABIERTA</td>\n",
       "      <td>MONOLINGUE</td>\n",
       "      <td>MATUTINA</td>\n",
       "      <td>DIARIO(REGULAR)</td>\n",
       "      <td>ALTA VERAPAZ</td>\n",
       "    </tr>\n",
       "    <tr>\n",
       "      <th>2</th>\n",
       "      <td>16-01-0140-46</td>\n",
       "      <td>16-031</td>\n",
       "      <td>Alta Verapaz</td>\n",
       "      <td>Coban</td>\n",
       "      <td>Colegio \"La Inmaculada\"</td>\n",
       "      <td>7A. Avenida 11-109 Zona 6</td>\n",
       "      <td>49532425</td>\n",
       "      <td>CESAR ROLANDO CHOCOOJ YALIBAT</td>\n",
       "      <td>MERCEDES QUIROS QUIROS</td>\n",
       "      <td>DIVERSIFICADO</td>\n",
       "      <td>PRIVADO</td>\n",
       "      <td>URBANA</td>\n",
       "      <td>ABIERTA</td>\n",
       "      <td>MONOLINGUE</td>\n",
       "      <td>MATUTINA</td>\n",
       "      <td>DIARIO(REGULAR)</td>\n",
       "      <td>ALTA VERAPAZ</td>\n",
       "    </tr>\n",
       "    <tr>\n",
       "      <th>3</th>\n",
       "      <td>16-01-0141-46</td>\n",
       "      <td>16-005</td>\n",
       "      <td>Alta Verapaz</td>\n",
       "      <td>Coban</td>\n",
       "      <td>Escuela Nacional De Ciencias Comerciales</td>\n",
       "      <td>2A Calle 11-10 Zona 2</td>\n",
       "      <td>79514215</td>\n",
       "      <td>JUAN CARLOS WINTER CAAL</td>\n",
       "      <td>NaN</td>\n",
       "      <td>DIVERSIFICADO</td>\n",
       "      <td>OFICIAL</td>\n",
       "      <td>URBANA</td>\n",
       "      <td>ABIERTA</td>\n",
       "      <td>MONOLINGUE</td>\n",
       "      <td>MATUTINA</td>\n",
       "      <td>DIARIO(REGULAR)</td>\n",
       "      <td>ALTA VERAPAZ</td>\n",
       "    </tr>\n",
       "    <tr>\n",
       "      <th>4</th>\n",
       "      <td>16-01-0142-46</td>\n",
       "      <td>16-005</td>\n",
       "      <td>Alta Verapaz</td>\n",
       "      <td>Coban</td>\n",
       "      <td>Instituto Normal Mixto Del Norte 'Emilio Rosal...</td>\n",
       "      <td>3A Ave 6-23 Zona 11</td>\n",
       "      <td>79521468</td>\n",
       "      <td>JUAN CARLOS WINTER CAAL</td>\n",
       "      <td>NaN</td>\n",
       "      <td>DIVERSIFICADO</td>\n",
       "      <td>OFICIAL</td>\n",
       "      <td>URBANA</td>\n",
       "      <td>ABIERTA</td>\n",
       "      <td>BILINGUE</td>\n",
       "      <td>VESPERTINA</td>\n",
       "      <td>DIARIO(REGULAR)</td>\n",
       "      <td>ALTA VERAPAZ</td>\n",
       "    </tr>\n",
       "    <tr>\n",
       "      <th>...</th>\n",
       "      <td>...</td>\n",
       "      <td>...</td>\n",
       "      <td>...</td>\n",
       "      <td>...</td>\n",
       "      <td>...</td>\n",
       "      <td>...</td>\n",
       "      <td>...</td>\n",
       "      <td>...</td>\n",
       "      <td>...</td>\n",
       "      <td>...</td>\n",
       "      <td>...</td>\n",
       "      <td>...</td>\n",
       "      <td>...</td>\n",
       "      <td>...</td>\n",
       "      <td>...</td>\n",
       "      <td>...</td>\n",
       "      <td>...</td>\n",
       "    </tr>\n",
       "    <tr>\n",
       "      <th>7959</th>\n",
       "      <td>19-09-0040-46</td>\n",
       "      <td>19-026</td>\n",
       "      <td>Zacapa</td>\n",
       "      <td>La Union</td>\n",
       "      <td>Liceo Particular Mixto Jireh</td>\n",
       "      <td>Barrio Nuevo</td>\n",
       "      <td>79418369</td>\n",
       "      <td>BERTA ALICIA LEIVA CORDON DE GARCIA</td>\n",
       "      <td>ANA MARÍA CUELLAR GUERRA DE RAMÍREZ</td>\n",
       "      <td>DIVERSIFICADO</td>\n",
       "      <td>PRIVADO</td>\n",
       "      <td>URBANA</td>\n",
       "      <td>ABIERTA</td>\n",
       "      <td>MONOLINGUE</td>\n",
       "      <td>MATUTINA</td>\n",
       "      <td>DIARIO(REGULAR)</td>\n",
       "      <td>ZACAPA</td>\n",
       "    </tr>\n",
       "    <tr>\n",
       "      <th>7960</th>\n",
       "      <td>19-09-0902-46</td>\n",
       "      <td>19-026</td>\n",
       "      <td>Zacapa</td>\n",
       "      <td>La Union</td>\n",
       "      <td>Liceo Particular Mixto Jireh (Por Madurez)</td>\n",
       "      <td>Barrio Nuevo</td>\n",
       "      <td>79418369</td>\n",
       "      <td>BERTA ALICIA LEIVA CORDON DE GARCIA</td>\n",
       "      <td>ANA MARÍA CUELLAR GUERRA DE RAMÍREZ</td>\n",
       "      <td>DIVERSIFICADO</td>\n",
       "      <td>PRIVADO</td>\n",
       "      <td>URBANA</td>\n",
       "      <td>ABIERTA</td>\n",
       "      <td>MONOLINGUE</td>\n",
       "      <td>DOBLE</td>\n",
       "      <td>FIN DE SEMANA</td>\n",
       "      <td>ZACAPA</td>\n",
       "    </tr>\n",
       "    <tr>\n",
       "      <th>7961</th>\n",
       "      <td>19-10-0013-46</td>\n",
       "      <td>19-016</td>\n",
       "      <td>Zacapa</td>\n",
       "      <td>Huite</td>\n",
       "      <td>Instituto Diversificado</td>\n",
       "      <td>Barrio Buenos Aires</td>\n",
       "      <td>31863599</td>\n",
       "      <td>WENDER HUMBERTO MATEO NAJERA</td>\n",
       "      <td>ERIC MANUEL PÉREZ AGUILAR</td>\n",
       "      <td>DIVERSIFICADO</td>\n",
       "      <td>OFICIAL</td>\n",
       "      <td>URBANA</td>\n",
       "      <td>ABIERTA</td>\n",
       "      <td>MONOLINGUE</td>\n",
       "      <td>NOCTURNA</td>\n",
       "      <td>DIARIO(REGULAR)</td>\n",
       "      <td>ZACAPA</td>\n",
       "    </tr>\n",
       "    <tr>\n",
       "      <th>7962</th>\n",
       "      <td>19-10-1009-46</td>\n",
       "      <td>19-016</td>\n",
       "      <td>Zacapa</td>\n",
       "      <td>Huite</td>\n",
       "      <td>Instituto Mixto De Educacion Diversificada Por...</td>\n",
       "      <td>Barrio El Campo</td>\n",
       "      <td>55958103</td>\n",
       "      <td>WENDER HUMBERTO MATEO NAJERA</td>\n",
       "      <td>ROBIDIO PORTILLO SALGUERO</td>\n",
       "      <td>DIVERSIFICADO</td>\n",
       "      <td>COOPERATIVA</td>\n",
       "      <td>URBANA</td>\n",
       "      <td>ABIERTA</td>\n",
       "      <td>MONOLINGUE</td>\n",
       "      <td>VESPERTINA</td>\n",
       "      <td>DIARIO(REGULAR)</td>\n",
       "      <td>ZACAPA</td>\n",
       "    </tr>\n",
       "    <tr>\n",
       "      <th>7963</th>\n",
       "      <td>19-11-0018-46</td>\n",
       "      <td>19-020</td>\n",
       "      <td>Zacapa</td>\n",
       "      <td>San Jorge</td>\n",
       "      <td>Instituto Mixto De Educacion Diversificada Por...</td>\n",
       "      <td>Barrio El Centro</td>\n",
       "      <td>41447589</td>\n",
       "      <td>ALBA LUZ MENDEZ</td>\n",
       "      <td>VICTOR HUGO GUERRA MONROY</td>\n",
       "      <td>DIVERSIFICADO</td>\n",
       "      <td>COOPERATIVA</td>\n",
       "      <td>URBANA</td>\n",
       "      <td>ABIERTA</td>\n",
       "      <td>MONOLINGUE</td>\n",
       "      <td>MATUTINA</td>\n",
       "      <td>DIARIO(REGULAR)</td>\n",
       "      <td>ZACAPA</td>\n",
       "    </tr>\n",
       "  </tbody>\n",
       "</table>\n",
       "<p>7964 rows × 17 columns</p>\n",
       "</div>"
      ],
      "text/plain": [
       "             CODIGO DISTRITO  DEPARTAMENTO  MUNICIPIO  \\\n",
       "0     16-01-0138-46   16-031  Alta Verapaz      Coban   \n",
       "1     16-01-0139-46   16-031  Alta Verapaz      Coban   \n",
       "2     16-01-0140-46   16-031  Alta Verapaz      Coban   \n",
       "3     16-01-0141-46   16-005  Alta Verapaz      Coban   \n",
       "4     16-01-0142-46   16-005  Alta Verapaz      Coban   \n",
       "...             ...      ...           ...        ...   \n",
       "7959  19-09-0040-46   19-026        Zacapa   La Union   \n",
       "7960  19-09-0902-46   19-026        Zacapa   La Union   \n",
       "7961  19-10-0013-46   19-016        Zacapa      Huite   \n",
       "7962  19-10-1009-46   19-016        Zacapa      Huite   \n",
       "7963  19-11-0018-46   19-020        Zacapa  San Jorge   \n",
       "\n",
       "                                        ESTABLECIMIENTO  \\\n",
       "0                                         Colegio Coban   \n",
       "1                      Colegio Particular Mixto Verapaz   \n",
       "2                               Colegio \"La Inmaculada\"   \n",
       "3              Escuela Nacional De Ciencias Comerciales   \n",
       "4     Instituto Normal Mixto Del Norte 'Emilio Rosal...   \n",
       "...                                                 ...   \n",
       "7959                       Liceo Particular Mixto Jireh   \n",
       "7960         Liceo Particular Mixto Jireh (Por Madurez)   \n",
       "7961                            Instituto Diversificado   \n",
       "7962  Instituto Mixto De Educacion Diversificada Por...   \n",
       "7963  Instituto Mixto De Educacion Diversificada Por...   \n",
       "\n",
       "                                   DIRECCION  TELEFONO  \\\n",
       "0     Km.2 Salida A San Juan Chamelco Zona 8  77945104   \n",
       "1               Km 209.5 Entrada A La Ciudad  77367402   \n",
       "2                  7A. Avenida 11-109 Zona 6  49532425   \n",
       "3                      2A Calle 11-10 Zona 2  79514215   \n",
       "4                        3A Ave 6-23 Zona 11  79521468   \n",
       "...                                      ...       ...   \n",
       "7959                            Barrio Nuevo  79418369   \n",
       "7960                            Barrio Nuevo  79418369   \n",
       "7961                     Barrio Buenos Aires  31863599   \n",
       "7962                         Barrio El Campo  55958103   \n",
       "7963                        Barrio El Centro  41447589   \n",
       "\n",
       "                               SUPERVISOR  \\\n",
       "0           CESAR ROLANDO CHOCOOJ YALIBAT   \n",
       "1           CESAR ROLANDO CHOCOOJ YALIBAT   \n",
       "2           CESAR ROLANDO CHOCOOJ YALIBAT   \n",
       "3                 JUAN CARLOS WINTER CAAL   \n",
       "4                 JUAN CARLOS WINTER CAAL   \n",
       "...                                   ...   \n",
       "7959  BERTA ALICIA LEIVA CORDON DE GARCIA   \n",
       "7960  BERTA ALICIA LEIVA CORDON DE GARCIA   \n",
       "7961         WENDER HUMBERTO MATEO NAJERA   \n",
       "7962         WENDER HUMBERTO MATEO NAJERA   \n",
       "7963                      ALBA LUZ MENDEZ   \n",
       "\n",
       "                                 DIRECTOR          NIVEL       SECTOR    AREA  \\\n",
       "0               JULIO CESAR VILLELA AMADO  DIVERSIFICADO      PRIVADO  URBANA   \n",
       "1                                     NaN  DIVERSIFICADO      PRIVADO  URBANA   \n",
       "2                  MERCEDES QUIROS QUIROS  DIVERSIFICADO      PRIVADO  URBANA   \n",
       "3                                     NaN  DIVERSIFICADO      OFICIAL  URBANA   \n",
       "4                                     NaN  DIVERSIFICADO      OFICIAL  URBANA   \n",
       "...                                   ...            ...          ...     ...   \n",
       "7959  ANA MARÍA CUELLAR GUERRA DE RAMÍREZ  DIVERSIFICADO      PRIVADO  URBANA   \n",
       "7960  ANA MARÍA CUELLAR GUERRA DE RAMÍREZ  DIVERSIFICADO      PRIVADO  URBANA   \n",
       "7961            ERIC MANUEL PÉREZ AGUILAR  DIVERSIFICADO      OFICIAL  URBANA   \n",
       "7962            ROBIDIO PORTILLO SALGUERO  DIVERSIFICADO  COOPERATIVA  URBANA   \n",
       "7963            VICTOR HUGO GUERRA MONROY  DIVERSIFICADO  COOPERATIVA  URBANA   \n",
       "\n",
       "       STATUS   MODALIDAD     JORNADA             PLAN DEPARTAMENTAL  \n",
       "0     ABIERTA  MONOLINGUE    MATUTINA  DIARIO(REGULAR)  ALTA VERAPAZ  \n",
       "1     ABIERTA  MONOLINGUE    MATUTINA  DIARIO(REGULAR)  ALTA VERAPAZ  \n",
       "2     ABIERTA  MONOLINGUE    MATUTINA  DIARIO(REGULAR)  ALTA VERAPAZ  \n",
       "3     ABIERTA  MONOLINGUE    MATUTINA  DIARIO(REGULAR)  ALTA VERAPAZ  \n",
       "4     ABIERTA    BILINGUE  VESPERTINA  DIARIO(REGULAR)  ALTA VERAPAZ  \n",
       "...       ...         ...         ...              ...           ...  \n",
       "7959  ABIERTA  MONOLINGUE    MATUTINA  DIARIO(REGULAR)        ZACAPA  \n",
       "7960  ABIERTA  MONOLINGUE       DOBLE    FIN DE SEMANA        ZACAPA  \n",
       "7961  ABIERTA  MONOLINGUE    NOCTURNA  DIARIO(REGULAR)        ZACAPA  \n",
       "7962  ABIERTA  MONOLINGUE  VESPERTINA  DIARIO(REGULAR)        ZACAPA  \n",
       "7963  ABIERTA  MONOLINGUE    MATUTINA  DIARIO(REGULAR)        ZACAPA  \n",
       "\n",
       "[7964 rows x 17 columns]"
      ]
     },
     "execution_count": 46,
     "metadata": {},
     "output_type": "execute_result"
    }
   ],
   "source": [
    "df.TELEFONO=df.TELEFONO.str.strip()\n",
    "df"
   ]
  },
  {
   "cell_type": "markdown",
   "metadata": {},
   "source": [
    "#### Debido a que existén establecimientos con más de un número telefónico vamos a habilitar las columnas auxiliares TELEFONO 2 y TELEFONO 3"
   ]
  },
  {
   "cell_type": "code",
   "execution_count": 47,
   "metadata": {},
   "outputs": [],
   "source": [
    "telefonos=df.TELEFONO.str.split('-',expand=True)\n",
    "\n",
    "df['TELEFONO']=telefonos[0]\n",
    "df['TELEFONO 2']=telefonos[1]\n",
    "df['TELEFONO 3']=telefonos[2]\n",
    "\n"
   ]
  },
  {
   "cell_type": "code",
   "execution_count": 48,
   "metadata": {},
   "outputs": [
    {
     "data": {
      "text/html": [
       "<div>\n",
       "<style scoped>\n",
       "    .dataframe tbody tr th:only-of-type {\n",
       "        vertical-align: middle;\n",
       "    }\n",
       "\n",
       "    .dataframe tbody tr th {\n",
       "        vertical-align: top;\n",
       "    }\n",
       "\n",
       "    .dataframe thead th {\n",
       "        text-align: right;\n",
       "    }\n",
       "</style>\n",
       "<table border=\"1\" class=\"dataframe\">\n",
       "  <thead>\n",
       "    <tr style=\"text-align: right;\">\n",
       "      <th></th>\n",
       "      <th>CODIGO</th>\n",
       "      <th>DISTRITO</th>\n",
       "      <th>DEPARTAMENTO</th>\n",
       "      <th>MUNICIPIO</th>\n",
       "      <th>ESTABLECIMIENTO</th>\n",
       "      <th>DIRECCION</th>\n",
       "      <th>TELEFONO</th>\n",
       "      <th>SUPERVISOR</th>\n",
       "      <th>DIRECTOR</th>\n",
       "      <th>NIVEL</th>\n",
       "      <th>SECTOR</th>\n",
       "      <th>AREA</th>\n",
       "      <th>STATUS</th>\n",
       "      <th>MODALIDAD</th>\n",
       "      <th>JORNADA</th>\n",
       "      <th>PLAN</th>\n",
       "      <th>DEPARTAMENTAL</th>\n",
       "      <th>TELEFONO 2</th>\n",
       "      <th>TELEFONO 3</th>\n",
       "    </tr>\n",
       "  </thead>\n",
       "  <tbody>\n",
       "    <tr>\n",
       "      <th>0</th>\n",
       "      <td>16-01-0138-46</td>\n",
       "      <td>16-031</td>\n",
       "      <td>Alta Verapaz</td>\n",
       "      <td>Coban</td>\n",
       "      <td>Colegio Coban</td>\n",
       "      <td>Km.2 Salida A San Juan Chamelco Zona 8</td>\n",
       "      <td>77945104</td>\n",
       "      <td>CESAR ROLANDO CHOCOOJ YALIBAT</td>\n",
       "      <td>JULIO CESAR VILLELA AMADO</td>\n",
       "      <td>DIVERSIFICADO</td>\n",
       "      <td>PRIVADO</td>\n",
       "      <td>URBANA</td>\n",
       "      <td>ABIERTA</td>\n",
       "      <td>MONOLINGUE</td>\n",
       "      <td>MATUTINA</td>\n",
       "      <td>DIARIO(REGULAR)</td>\n",
       "      <td>ALTA VERAPAZ</td>\n",
       "      <td>None</td>\n",
       "      <td>None</td>\n",
       "    </tr>\n",
       "    <tr>\n",
       "      <th>1</th>\n",
       "      <td>16-01-0139-46</td>\n",
       "      <td>16-031</td>\n",
       "      <td>Alta Verapaz</td>\n",
       "      <td>Coban</td>\n",
       "      <td>Colegio Particular Mixto Verapaz</td>\n",
       "      <td>Km 209.5 Entrada A La Ciudad</td>\n",
       "      <td>77367402</td>\n",
       "      <td>CESAR ROLANDO CHOCOOJ YALIBAT</td>\n",
       "      <td>NaN</td>\n",
       "      <td>DIVERSIFICADO</td>\n",
       "      <td>PRIVADO</td>\n",
       "      <td>URBANA</td>\n",
       "      <td>ABIERTA</td>\n",
       "      <td>MONOLINGUE</td>\n",
       "      <td>MATUTINA</td>\n",
       "      <td>DIARIO(REGULAR)</td>\n",
       "      <td>ALTA VERAPAZ</td>\n",
       "      <td>None</td>\n",
       "      <td>None</td>\n",
       "    </tr>\n",
       "    <tr>\n",
       "      <th>2</th>\n",
       "      <td>16-01-0140-46</td>\n",
       "      <td>16-031</td>\n",
       "      <td>Alta Verapaz</td>\n",
       "      <td>Coban</td>\n",
       "      <td>Colegio \"La Inmaculada\"</td>\n",
       "      <td>7A. Avenida 11-109 Zona 6</td>\n",
       "      <td>49532425</td>\n",
       "      <td>CESAR ROLANDO CHOCOOJ YALIBAT</td>\n",
       "      <td>MERCEDES QUIROS QUIROS</td>\n",
       "      <td>DIVERSIFICADO</td>\n",
       "      <td>PRIVADO</td>\n",
       "      <td>URBANA</td>\n",
       "      <td>ABIERTA</td>\n",
       "      <td>MONOLINGUE</td>\n",
       "      <td>MATUTINA</td>\n",
       "      <td>DIARIO(REGULAR)</td>\n",
       "      <td>ALTA VERAPAZ</td>\n",
       "      <td>None</td>\n",
       "      <td>None</td>\n",
       "    </tr>\n",
       "    <tr>\n",
       "      <th>3</th>\n",
       "      <td>16-01-0141-46</td>\n",
       "      <td>16-005</td>\n",
       "      <td>Alta Verapaz</td>\n",
       "      <td>Coban</td>\n",
       "      <td>Escuela Nacional De Ciencias Comerciales</td>\n",
       "      <td>2A Calle 11-10 Zona 2</td>\n",
       "      <td>79514215</td>\n",
       "      <td>JUAN CARLOS WINTER CAAL</td>\n",
       "      <td>NaN</td>\n",
       "      <td>DIVERSIFICADO</td>\n",
       "      <td>OFICIAL</td>\n",
       "      <td>URBANA</td>\n",
       "      <td>ABIERTA</td>\n",
       "      <td>MONOLINGUE</td>\n",
       "      <td>MATUTINA</td>\n",
       "      <td>DIARIO(REGULAR)</td>\n",
       "      <td>ALTA VERAPAZ</td>\n",
       "      <td>None</td>\n",
       "      <td>None</td>\n",
       "    </tr>\n",
       "    <tr>\n",
       "      <th>4</th>\n",
       "      <td>16-01-0142-46</td>\n",
       "      <td>16-005</td>\n",
       "      <td>Alta Verapaz</td>\n",
       "      <td>Coban</td>\n",
       "      <td>Instituto Normal Mixto Del Norte 'Emilio Rosal...</td>\n",
       "      <td>3A Ave 6-23 Zona 11</td>\n",
       "      <td>79521468</td>\n",
       "      <td>JUAN CARLOS WINTER CAAL</td>\n",
       "      <td>NaN</td>\n",
       "      <td>DIVERSIFICADO</td>\n",
       "      <td>OFICIAL</td>\n",
       "      <td>URBANA</td>\n",
       "      <td>ABIERTA</td>\n",
       "      <td>BILINGUE</td>\n",
       "      <td>VESPERTINA</td>\n",
       "      <td>DIARIO(REGULAR)</td>\n",
       "      <td>ALTA VERAPAZ</td>\n",
       "      <td>None</td>\n",
       "      <td>None</td>\n",
       "    </tr>\n",
       "    <tr>\n",
       "      <th>...</th>\n",
       "      <td>...</td>\n",
       "      <td>...</td>\n",
       "      <td>...</td>\n",
       "      <td>...</td>\n",
       "      <td>...</td>\n",
       "      <td>...</td>\n",
       "      <td>...</td>\n",
       "      <td>...</td>\n",
       "      <td>...</td>\n",
       "      <td>...</td>\n",
       "      <td>...</td>\n",
       "      <td>...</td>\n",
       "      <td>...</td>\n",
       "      <td>...</td>\n",
       "      <td>...</td>\n",
       "      <td>...</td>\n",
       "      <td>...</td>\n",
       "      <td>...</td>\n",
       "      <td>...</td>\n",
       "    </tr>\n",
       "    <tr>\n",
       "      <th>7959</th>\n",
       "      <td>19-09-0040-46</td>\n",
       "      <td>19-026</td>\n",
       "      <td>Zacapa</td>\n",
       "      <td>La Union</td>\n",
       "      <td>Liceo Particular Mixto Jireh</td>\n",
       "      <td>Barrio Nuevo</td>\n",
       "      <td>79418369</td>\n",
       "      <td>BERTA ALICIA LEIVA CORDON DE GARCIA</td>\n",
       "      <td>ANA MARÍA CUELLAR GUERRA DE RAMÍREZ</td>\n",
       "      <td>DIVERSIFICADO</td>\n",
       "      <td>PRIVADO</td>\n",
       "      <td>URBANA</td>\n",
       "      <td>ABIERTA</td>\n",
       "      <td>MONOLINGUE</td>\n",
       "      <td>MATUTINA</td>\n",
       "      <td>DIARIO(REGULAR)</td>\n",
       "      <td>ZACAPA</td>\n",
       "      <td>None</td>\n",
       "      <td>None</td>\n",
       "    </tr>\n",
       "    <tr>\n",
       "      <th>7960</th>\n",
       "      <td>19-09-0902-46</td>\n",
       "      <td>19-026</td>\n",
       "      <td>Zacapa</td>\n",
       "      <td>La Union</td>\n",
       "      <td>Liceo Particular Mixto Jireh (Por Madurez)</td>\n",
       "      <td>Barrio Nuevo</td>\n",
       "      <td>79418369</td>\n",
       "      <td>BERTA ALICIA LEIVA CORDON DE GARCIA</td>\n",
       "      <td>ANA MARÍA CUELLAR GUERRA DE RAMÍREZ</td>\n",
       "      <td>DIVERSIFICADO</td>\n",
       "      <td>PRIVADO</td>\n",
       "      <td>URBANA</td>\n",
       "      <td>ABIERTA</td>\n",
       "      <td>MONOLINGUE</td>\n",
       "      <td>DOBLE</td>\n",
       "      <td>FIN DE SEMANA</td>\n",
       "      <td>ZACAPA</td>\n",
       "      <td>None</td>\n",
       "      <td>None</td>\n",
       "    </tr>\n",
       "    <tr>\n",
       "      <th>7961</th>\n",
       "      <td>19-10-0013-46</td>\n",
       "      <td>19-016</td>\n",
       "      <td>Zacapa</td>\n",
       "      <td>Huite</td>\n",
       "      <td>Instituto Diversificado</td>\n",
       "      <td>Barrio Buenos Aires</td>\n",
       "      <td>31863599</td>\n",
       "      <td>WENDER HUMBERTO MATEO NAJERA</td>\n",
       "      <td>ERIC MANUEL PÉREZ AGUILAR</td>\n",
       "      <td>DIVERSIFICADO</td>\n",
       "      <td>OFICIAL</td>\n",
       "      <td>URBANA</td>\n",
       "      <td>ABIERTA</td>\n",
       "      <td>MONOLINGUE</td>\n",
       "      <td>NOCTURNA</td>\n",
       "      <td>DIARIO(REGULAR)</td>\n",
       "      <td>ZACAPA</td>\n",
       "      <td>None</td>\n",
       "      <td>None</td>\n",
       "    </tr>\n",
       "    <tr>\n",
       "      <th>7962</th>\n",
       "      <td>19-10-1009-46</td>\n",
       "      <td>19-016</td>\n",
       "      <td>Zacapa</td>\n",
       "      <td>Huite</td>\n",
       "      <td>Instituto Mixto De Educacion Diversificada Por...</td>\n",
       "      <td>Barrio El Campo</td>\n",
       "      <td>55958103</td>\n",
       "      <td>WENDER HUMBERTO MATEO NAJERA</td>\n",
       "      <td>ROBIDIO PORTILLO SALGUERO</td>\n",
       "      <td>DIVERSIFICADO</td>\n",
       "      <td>COOPERATIVA</td>\n",
       "      <td>URBANA</td>\n",
       "      <td>ABIERTA</td>\n",
       "      <td>MONOLINGUE</td>\n",
       "      <td>VESPERTINA</td>\n",
       "      <td>DIARIO(REGULAR)</td>\n",
       "      <td>ZACAPA</td>\n",
       "      <td>None</td>\n",
       "      <td>None</td>\n",
       "    </tr>\n",
       "    <tr>\n",
       "      <th>7963</th>\n",
       "      <td>19-11-0018-46</td>\n",
       "      <td>19-020</td>\n",
       "      <td>Zacapa</td>\n",
       "      <td>San Jorge</td>\n",
       "      <td>Instituto Mixto De Educacion Diversificada Por...</td>\n",
       "      <td>Barrio El Centro</td>\n",
       "      <td>41447589</td>\n",
       "      <td>ALBA LUZ MENDEZ</td>\n",
       "      <td>VICTOR HUGO GUERRA MONROY</td>\n",
       "      <td>DIVERSIFICADO</td>\n",
       "      <td>COOPERATIVA</td>\n",
       "      <td>URBANA</td>\n",
       "      <td>ABIERTA</td>\n",
       "      <td>MONOLINGUE</td>\n",
       "      <td>MATUTINA</td>\n",
       "      <td>DIARIO(REGULAR)</td>\n",
       "      <td>ZACAPA</td>\n",
       "      <td>None</td>\n",
       "      <td>None</td>\n",
       "    </tr>\n",
       "  </tbody>\n",
       "</table>\n",
       "<p>7964 rows × 19 columns</p>\n",
       "</div>"
      ],
      "text/plain": [
       "             CODIGO DISTRITO  DEPARTAMENTO  MUNICIPIO  \\\n",
       "0     16-01-0138-46   16-031  Alta Verapaz      Coban   \n",
       "1     16-01-0139-46   16-031  Alta Verapaz      Coban   \n",
       "2     16-01-0140-46   16-031  Alta Verapaz      Coban   \n",
       "3     16-01-0141-46   16-005  Alta Verapaz      Coban   \n",
       "4     16-01-0142-46   16-005  Alta Verapaz      Coban   \n",
       "...             ...      ...           ...        ...   \n",
       "7959  19-09-0040-46   19-026        Zacapa   La Union   \n",
       "7960  19-09-0902-46   19-026        Zacapa   La Union   \n",
       "7961  19-10-0013-46   19-016        Zacapa      Huite   \n",
       "7962  19-10-1009-46   19-016        Zacapa      Huite   \n",
       "7963  19-11-0018-46   19-020        Zacapa  San Jorge   \n",
       "\n",
       "                                        ESTABLECIMIENTO  \\\n",
       "0                                         Colegio Coban   \n",
       "1                      Colegio Particular Mixto Verapaz   \n",
       "2                               Colegio \"La Inmaculada\"   \n",
       "3              Escuela Nacional De Ciencias Comerciales   \n",
       "4     Instituto Normal Mixto Del Norte 'Emilio Rosal...   \n",
       "...                                                 ...   \n",
       "7959                       Liceo Particular Mixto Jireh   \n",
       "7960         Liceo Particular Mixto Jireh (Por Madurez)   \n",
       "7961                            Instituto Diversificado   \n",
       "7962  Instituto Mixto De Educacion Diversificada Por...   \n",
       "7963  Instituto Mixto De Educacion Diversificada Por...   \n",
       "\n",
       "                                   DIRECCION  TELEFONO  \\\n",
       "0     Km.2 Salida A San Juan Chamelco Zona 8  77945104   \n",
       "1               Km 209.5 Entrada A La Ciudad  77367402   \n",
       "2                  7A. Avenida 11-109 Zona 6  49532425   \n",
       "3                      2A Calle 11-10 Zona 2  79514215   \n",
       "4                        3A Ave 6-23 Zona 11  79521468   \n",
       "...                                      ...       ...   \n",
       "7959                            Barrio Nuevo  79418369   \n",
       "7960                            Barrio Nuevo  79418369   \n",
       "7961                     Barrio Buenos Aires  31863599   \n",
       "7962                         Barrio El Campo  55958103   \n",
       "7963                        Barrio El Centro  41447589   \n",
       "\n",
       "                               SUPERVISOR  \\\n",
       "0           CESAR ROLANDO CHOCOOJ YALIBAT   \n",
       "1           CESAR ROLANDO CHOCOOJ YALIBAT   \n",
       "2           CESAR ROLANDO CHOCOOJ YALIBAT   \n",
       "3                 JUAN CARLOS WINTER CAAL   \n",
       "4                 JUAN CARLOS WINTER CAAL   \n",
       "...                                   ...   \n",
       "7959  BERTA ALICIA LEIVA CORDON DE GARCIA   \n",
       "7960  BERTA ALICIA LEIVA CORDON DE GARCIA   \n",
       "7961         WENDER HUMBERTO MATEO NAJERA   \n",
       "7962         WENDER HUMBERTO MATEO NAJERA   \n",
       "7963                      ALBA LUZ MENDEZ   \n",
       "\n",
       "                                 DIRECTOR          NIVEL       SECTOR    AREA  \\\n",
       "0               JULIO CESAR VILLELA AMADO  DIVERSIFICADO      PRIVADO  URBANA   \n",
       "1                                     NaN  DIVERSIFICADO      PRIVADO  URBANA   \n",
       "2                  MERCEDES QUIROS QUIROS  DIVERSIFICADO      PRIVADO  URBANA   \n",
       "3                                     NaN  DIVERSIFICADO      OFICIAL  URBANA   \n",
       "4                                     NaN  DIVERSIFICADO      OFICIAL  URBANA   \n",
       "...                                   ...            ...          ...     ...   \n",
       "7959  ANA MARÍA CUELLAR GUERRA DE RAMÍREZ  DIVERSIFICADO      PRIVADO  URBANA   \n",
       "7960  ANA MARÍA CUELLAR GUERRA DE RAMÍREZ  DIVERSIFICADO      PRIVADO  URBANA   \n",
       "7961            ERIC MANUEL PÉREZ AGUILAR  DIVERSIFICADO      OFICIAL  URBANA   \n",
       "7962            ROBIDIO PORTILLO SALGUERO  DIVERSIFICADO  COOPERATIVA  URBANA   \n",
       "7963            VICTOR HUGO GUERRA MONROY  DIVERSIFICADO  COOPERATIVA  URBANA   \n",
       "\n",
       "       STATUS   MODALIDAD     JORNADA             PLAN DEPARTAMENTAL  \\\n",
       "0     ABIERTA  MONOLINGUE    MATUTINA  DIARIO(REGULAR)  ALTA VERAPAZ   \n",
       "1     ABIERTA  MONOLINGUE    MATUTINA  DIARIO(REGULAR)  ALTA VERAPAZ   \n",
       "2     ABIERTA  MONOLINGUE    MATUTINA  DIARIO(REGULAR)  ALTA VERAPAZ   \n",
       "3     ABIERTA  MONOLINGUE    MATUTINA  DIARIO(REGULAR)  ALTA VERAPAZ   \n",
       "4     ABIERTA    BILINGUE  VESPERTINA  DIARIO(REGULAR)  ALTA VERAPAZ   \n",
       "...       ...         ...         ...              ...           ...   \n",
       "7959  ABIERTA  MONOLINGUE    MATUTINA  DIARIO(REGULAR)        ZACAPA   \n",
       "7960  ABIERTA  MONOLINGUE       DOBLE    FIN DE SEMANA        ZACAPA   \n",
       "7961  ABIERTA  MONOLINGUE    NOCTURNA  DIARIO(REGULAR)        ZACAPA   \n",
       "7962  ABIERTA  MONOLINGUE  VESPERTINA  DIARIO(REGULAR)        ZACAPA   \n",
       "7963  ABIERTA  MONOLINGUE    MATUTINA  DIARIO(REGULAR)        ZACAPA   \n",
       "\n",
       "     TELEFONO 2 TELEFONO 3  \n",
       "0          None       None  \n",
       "1          None       None  \n",
       "2          None       None  \n",
       "3          None       None  \n",
       "4          None       None  \n",
       "...         ...        ...  \n",
       "7959       None       None  \n",
       "7960       None       None  \n",
       "7961       None       None  \n",
       "7962       None       None  \n",
       "7963       None       None  \n",
       "\n",
       "[7964 rows x 19 columns]"
      ]
     },
     "execution_count": 48,
     "metadata": {},
     "output_type": "execute_result"
    }
   ],
   "source": [
    "df"
   ]
  },
  {
   "cell_type": "markdown",
   "metadata": {},
   "source": [
    "#### Función para corregir números de teléfono"
   ]
  },
  {
   "cell_type": "code",
   "execution_count": 49,
   "metadata": {},
   "outputs": [],
   "source": [
    "def corregir_telefono(i,a):\n",
    "    \n",
    "    if(i==None):\n",
    "        return 'No hay teléfono registrado'\n",
    "    \n",
    "    \n",
    "    if(len(i)<8):\n",
    "        if(a==None):\n",
    "            i='No hay teléfono registrado'\n",
    "        \n",
    "        elif((len(i)==4)&(len(a)==4)):\n",
    "            i=i+a\n",
    "            \n",
    "        else:\n",
    "            i='No hay teléfono registrado'\n",
    "        \n",
    "    \n",
    "    elif (len(i)==8):\n",
    "        return i\n",
    "    \n",
    "    else:\n",
    "        return 'No hay teléfono registrado'\n",
    "\n",
    "\n",
    "df.TELEFONO=df.apply(lambda row : corregir_telefono(row['TELEFONO'],row['TELEFONO 2']), axis = 1)\n",
    "\n",
    "df['TELEFONO 2']=df.apply(lambda row : corregir_telefono(row['TELEFONO 2'],row['TELEFONO 3']), axis = 1)\n",
    "\n",
    "\n",
    "del df['TELEFONO 3']\n",
    "\n",
    "# try:\n",
    "    \n",
    "# except:\n",
    "#     print('Todos los teléfonos ya han sido restaurados')\n",
    "    "
   ]
  },
  {
   "cell_type": "markdown",
   "metadata": {},
   "source": [
    "#### Conteo de establecimientos por dirección"
   ]
  },
  {
   "cell_type": "code",
   "execution_count": 50,
   "metadata": {
    "scrolled": false
   },
   "outputs": [
    {
     "data": {
      "text/plain": [
       "No hay teléfono registrado    601\n",
       "77602663                       12\n",
       "79480009                       12\n",
       "22093200                       10\n",
       "77746400                       10\n",
       "                             ... \n",
       "66296659                        1\n",
       "47115341                        1\n",
       "54133448                        1\n",
       "66591440                        1\n",
       "41447589                        1\n",
       "Name: TELEFONO, Length: 4616, dtype: int64"
      ]
     },
     "execution_count": 50,
     "metadata": {},
     "output_type": "execute_result"
    }
   ],
   "source": [
    "df.TELEFONO.value_counts()"
   ]
  },
  {
   "cell_type": "markdown",
   "metadata": {},
   "source": [
    "## Análisis para variable Supervisor"
   ]
  },
  {
   "cell_type": "markdown",
   "metadata": {},
   "source": [
    "#### Revisión de Formato"
   ]
  },
  {
   "cell_type": "code",
   "execution_count": 51,
   "metadata": {
    "scrolled": false
   },
   "outputs": [
    {
     "data": {
      "text/plain": [
       "['CESAR ROLANDO CHOCOOJ YALIBAT',\n",
       " 'JUAN CARLOS WINTER CAAL',\n",
       " 'EFRAIN CAAL CUC',\n",
       " 'JUVENTINA ALVARADO PEREZ',\n",
       " 'MAXIMILIANO CHUB ICAL',\n",
       " nan,\n",
       " 'SONIA HAYDEE REYES MONTERROSO',\n",
       " 'OSCAR RENE XONA MORAN',\n",
       " 'ODILIA VANESSA MAAS CHUN DE MUS',\n",
       " 'ROBERTO RAX']"
      ]
     },
     "metadata": {},
     "output_type": "display_data"
    }
   ],
   "source": [
    "# Formato de datos\n",
    "display(df.SUPERVISOR.unique().tolist()[0:10])\n"
   ]
  },
  {
   "cell_type": "markdown",
   "metadata": {},
   "source": [
    "#### Revisión de Nulls"
   ]
  },
  {
   "cell_type": "code",
   "execution_count": 52,
   "metadata": {},
   "outputs": [
    {
     "data": {
      "text/html": [
       "<div>\n",
       "<style scoped>\n",
       "    .dataframe tbody tr th:only-of-type {\n",
       "        vertical-align: middle;\n",
       "    }\n",
       "\n",
       "    .dataframe tbody tr th {\n",
       "        vertical-align: top;\n",
       "    }\n",
       "\n",
       "    .dataframe thead th {\n",
       "        text-align: right;\n",
       "    }\n",
       "</style>\n",
       "<table border=\"1\" class=\"dataframe\">\n",
       "  <thead>\n",
       "    <tr style=\"text-align: right;\">\n",
       "      <th></th>\n",
       "      <th>CODIGO</th>\n",
       "      <th>DISTRITO</th>\n",
       "      <th>DEPARTAMENTO</th>\n",
       "      <th>MUNICIPIO</th>\n",
       "      <th>ESTABLECIMIENTO</th>\n",
       "      <th>DIRECCION</th>\n",
       "      <th>TELEFONO</th>\n",
       "      <th>SUPERVISOR</th>\n",
       "      <th>DIRECTOR</th>\n",
       "      <th>NIVEL</th>\n",
       "      <th>SECTOR</th>\n",
       "      <th>AREA</th>\n",
       "      <th>STATUS</th>\n",
       "      <th>MODALIDAD</th>\n",
       "      <th>JORNADA</th>\n",
       "      <th>PLAN</th>\n",
       "      <th>DEPARTAMENTAL</th>\n",
       "      <th>TELEFONO 2</th>\n",
       "    </tr>\n",
       "  </thead>\n",
       "  <tbody>\n",
       "    <tr>\n",
       "      <th>68</th>\n",
       "      <td>16-01-2947-46</td>\n",
       "      <td>65</td>\n",
       "      <td>Alta Verapaz</td>\n",
       "      <td>Coban</td>\n",
       "      <td>Instituto Privado Basico Y Bachillerato Por Ma...</td>\n",
       "      <td>5A. Calle 1-98 Zona 3</td>\n",
       "      <td>No hay teléfono registrado</td>\n",
       "      <td>NaN</td>\n",
       "      <td>NaN</td>\n",
       "      <td>DIVERSIFICADO</td>\n",
       "      <td>PRIVADO</td>\n",
       "      <td>URBANA</td>\n",
       "      <td>CERRADA TEMPORALMENTE</td>\n",
       "      <td>MONOLINGUE</td>\n",
       "      <td>VESPERTINA</td>\n",
       "      <td>DIARIO(REGULAR)</td>\n",
       "      <td>ALTA VERAPAZ</td>\n",
       "      <td>No hay teléfono registrado</td>\n",
       "    </tr>\n",
       "    <tr>\n",
       "      <th>209</th>\n",
       "      <td>16-10-3816-46</td>\n",
       "      <td>14</td>\n",
       "      <td>Alta Verapaz</td>\n",
       "      <td>San Juan Chamelco</td>\n",
       "      <td>Liceo De Bachillerato En Computacion Y Educaci...</td>\n",
       "      <td>No hay dirección registrada</td>\n",
       "      <td>No hay teléfono registrado</td>\n",
       "      <td>NaN</td>\n",
       "      <td>NaN</td>\n",
       "      <td>DIVERSIFICADO</td>\n",
       "      <td>PRIVADO</td>\n",
       "      <td>URBANA</td>\n",
       "      <td>CERRADA TEMPORALMENTE</td>\n",
       "      <td>MONOLINGUE</td>\n",
       "      <td>MATUTINA</td>\n",
       "      <td>DIARIO(REGULAR)</td>\n",
       "      <td>ALTA VERAPAZ</td>\n",
       "      <td>No hay teléfono registrado</td>\n",
       "    </tr>\n",
       "    <tr>\n",
       "      <th>344</th>\n",
       "      <td>15-03-0134-46</td>\n",
       "      <td>21</td>\n",
       "      <td>Baja Verapaz</td>\n",
       "      <td>Rabinal</td>\n",
       "      <td>Liceo Privado Mixto De Ciencias Comerciales 'R...</td>\n",
       "      <td>3A. Avenida 1-55 Zona 3</td>\n",
       "      <td>No hay teléfono registrado</td>\n",
       "      <td>NaN</td>\n",
       "      <td>NaN</td>\n",
       "      <td>DIVERSIFICADO</td>\n",
       "      <td>PRIVADO</td>\n",
       "      <td>URBANA</td>\n",
       "      <td>CERRADA TEMPORALMENTE</td>\n",
       "      <td>MONOLINGUE</td>\n",
       "      <td>VESPERTINA</td>\n",
       "      <td>DIARIO(REGULAR)</td>\n",
       "      <td>BAJA VERAPAZ</td>\n",
       "      <td>No hay teléfono registrado</td>\n",
       "    </tr>\n",
       "    <tr>\n",
       "      <th>637</th>\n",
       "      <td>04-11-0995-46</td>\n",
       "      <td>4</td>\n",
       "      <td>Chimaltenango</td>\n",
       "      <td>Acatenango</td>\n",
       "      <td>Instituto Practico De Educacion Media</td>\n",
       "      <td>Canton Tercero</td>\n",
       "      <td>No hay teléfono registrado</td>\n",
       "      <td>NaN</td>\n",
       "      <td>NaN</td>\n",
       "      <td>DIVERSIFICADO</td>\n",
       "      <td>COOPERATIVA</td>\n",
       "      <td>RURAL</td>\n",
       "      <td>CERRADA TEMPORALMENTE</td>\n",
       "      <td>MONOLINGUE</td>\n",
       "      <td>NOCTURNA</td>\n",
       "      <td>DIARIO(REGULAR)</td>\n",
       "      <td>CHIMALTENANGO</td>\n",
       "      <td>No hay teléfono registrado</td>\n",
       "    </tr>\n",
       "    <tr>\n",
       "      <th>674</th>\n",
       "      <td>04-15-0599-46</td>\n",
       "      <td>15</td>\n",
       "      <td>Chimaltenango</td>\n",
       "      <td>Zaragoza</td>\n",
       "      <td>Instituto Privado Mixto De Educacion Diversifi...</td>\n",
       "      <td>6A. Avenida Norte No.2</td>\n",
       "      <td>No hay teléfono registrado</td>\n",
       "      <td>NaN</td>\n",
       "      <td>NaN</td>\n",
       "      <td>DIVERSIFICADO</td>\n",
       "      <td>PRIVADO</td>\n",
       "      <td>URBANA</td>\n",
       "      <td>CERRADA TEMPORALMENTE</td>\n",
       "      <td>MONOLINGUE</td>\n",
       "      <td>NOCTURNA</td>\n",
       "      <td>DIARIO(REGULAR)</td>\n",
       "      <td>CHIMALTENANGO</td>\n",
       "      <td>No hay teléfono registrado</td>\n",
       "    </tr>\n",
       "  </tbody>\n",
       "</table>\n",
       "</div>"
      ],
      "text/plain": [
       "            CODIGO DISTRITO   DEPARTAMENTO          MUNICIPIO  \\\n",
       "68   16-01-2947-46       65   Alta Verapaz              Coban   \n",
       "209  16-10-3816-46       14   Alta Verapaz  San Juan Chamelco   \n",
       "344  15-03-0134-46       21   Baja Verapaz            Rabinal   \n",
       "637  04-11-0995-46        4  Chimaltenango         Acatenango   \n",
       "674  04-15-0599-46       15  Chimaltenango           Zaragoza   \n",
       "\n",
       "                                       ESTABLECIMIENTO  \\\n",
       "68   Instituto Privado Basico Y Bachillerato Por Ma...   \n",
       "209  Liceo De Bachillerato En Computacion Y Educaci...   \n",
       "344  Liceo Privado Mixto De Ciencias Comerciales 'R...   \n",
       "637              Instituto Practico De Educacion Media   \n",
       "674  Instituto Privado Mixto De Educacion Diversifi...   \n",
       "\n",
       "                       DIRECCION                    TELEFONO SUPERVISOR  \\\n",
       "68         5A. Calle 1-98 Zona 3  No hay teléfono registrado        NaN   \n",
       "209  No hay dirección registrada  No hay teléfono registrado        NaN   \n",
       "344      3A. Avenida 1-55 Zona 3  No hay teléfono registrado        NaN   \n",
       "637               Canton Tercero  No hay teléfono registrado        NaN   \n",
       "674       6A. Avenida Norte No.2  No hay teléfono registrado        NaN   \n",
       "\n",
       "    DIRECTOR          NIVEL       SECTOR    AREA                 STATUS  \\\n",
       "68       NaN  DIVERSIFICADO      PRIVADO  URBANA  CERRADA TEMPORALMENTE   \n",
       "209      NaN  DIVERSIFICADO      PRIVADO  URBANA  CERRADA TEMPORALMENTE   \n",
       "344      NaN  DIVERSIFICADO      PRIVADO  URBANA  CERRADA TEMPORALMENTE   \n",
       "637      NaN  DIVERSIFICADO  COOPERATIVA   RURAL  CERRADA TEMPORALMENTE   \n",
       "674      NaN  DIVERSIFICADO      PRIVADO  URBANA  CERRADA TEMPORALMENTE   \n",
       "\n",
       "      MODALIDAD     JORNADA             PLAN  DEPARTAMENTAL  \\\n",
       "68   MONOLINGUE  VESPERTINA  DIARIO(REGULAR)   ALTA VERAPAZ   \n",
       "209  MONOLINGUE    MATUTINA  DIARIO(REGULAR)   ALTA VERAPAZ   \n",
       "344  MONOLINGUE  VESPERTINA  DIARIO(REGULAR)   BAJA VERAPAZ   \n",
       "637  MONOLINGUE    NOCTURNA  DIARIO(REGULAR)  CHIMALTENANGO   \n",
       "674  MONOLINGUE    NOCTURNA  DIARIO(REGULAR)  CHIMALTENANGO   \n",
       "\n",
       "                     TELEFONO 2  \n",
       "68   No hay teléfono registrado  \n",
       "209  No hay teléfono registrado  \n",
       "344  No hay teléfono registrado  \n",
       "637  No hay teléfono registrado  \n",
       "674  No hay teléfono registrado  "
      ]
     },
     "metadata": {},
     "output_type": "display_data"
    },
    {
     "name": "stdout",
     "output_type": "stream",
     "text": [
      "Cantidad de establecimientos sin dato de supervisor: 213 siendo el 2.67 % de toda la base de datos\n"
     ]
    }
   ],
   "source": [
    "display(df.loc[df.SUPERVISOR.isna(),:].head())\n",
    "a=len(df.loc[df.SUPERVISOR.isna(),:])\n",
    "b=len(df)\n",
    "print('Cantidad de establecimientos sin dato de supervisor: '+str(a)+' siendo el '+str(round((a/b)*100,2))+' % de toda la base de datos')"
   ]
  },
  {
   "cell_type": "markdown",
   "metadata": {},
   "source": [
    "#### Formato a Proper Case "
   ]
  },
  {
   "cell_type": "code",
   "execution_count": 53,
   "metadata": {},
   "outputs": [],
   "source": [
    "df.SUPERVISOR=df.SUPERVISOR.str.title()"
   ]
  },
  {
   "cell_type": "markdown",
   "metadata": {},
   "source": [
    "#### Eliminación de espacios en blanco no necesarios"
   ]
  },
  {
   "cell_type": "code",
   "execution_count": 54,
   "metadata": {},
   "outputs": [],
   "source": [
    "df.SUPERVISOR=df.SUPERVISOR.str.strip()"
   ]
  },
  {
   "cell_type": "markdown",
   "metadata": {},
   "source": [
    "#### Eliminación de acentos para estandarización"
   ]
  },
  {
   "cell_type": "code",
   "execution_count": 55,
   "metadata": {},
   "outputs": [],
   "source": [
    "df.SUPERVISOR=df.SUPERVISOR.str.replace('á','a')\n",
    "df.SUPERVISOR=df.SUPERVISOR.str.replace('é','e')\n",
    "df.SUPERVISOR=df.SUPERVISOR.str.replace('í','i')\n",
    "df.SUPERVISOR=df.SUPERVISOR.str.replace('ó','o')\n",
    "df.SUPERVISOR=df.SUPERVISOR.str.replace('ú','u')"
   ]
  },
  {
   "cell_type": "markdown",
   "metadata": {},
   "source": [
    "#### Se agrega 'No hay dirección registrada' a los datos faltantes"
   ]
  },
  {
   "cell_type": "code",
   "execution_count": 56,
   "metadata": {},
   "outputs": [
    {
     "data": {
      "text/html": [
       "<div>\n",
       "<style scoped>\n",
       "    .dataframe tbody tr th:only-of-type {\n",
       "        vertical-align: middle;\n",
       "    }\n",
       "\n",
       "    .dataframe tbody tr th {\n",
       "        vertical-align: top;\n",
       "    }\n",
       "\n",
       "    .dataframe thead th {\n",
       "        text-align: right;\n",
       "    }\n",
       "</style>\n",
       "<table border=\"1\" class=\"dataframe\">\n",
       "  <thead>\n",
       "    <tr style=\"text-align: right;\">\n",
       "      <th></th>\n",
       "      <th>CODIGO</th>\n",
       "      <th>DISTRITO</th>\n",
       "      <th>DEPARTAMENTO</th>\n",
       "      <th>MUNICIPIO</th>\n",
       "      <th>ESTABLECIMIENTO</th>\n",
       "      <th>DIRECCION</th>\n",
       "      <th>TELEFONO</th>\n",
       "      <th>SUPERVISOR</th>\n",
       "      <th>DIRECTOR</th>\n",
       "      <th>NIVEL</th>\n",
       "      <th>SECTOR</th>\n",
       "      <th>AREA</th>\n",
       "      <th>STATUS</th>\n",
       "      <th>MODALIDAD</th>\n",
       "      <th>JORNADA</th>\n",
       "      <th>PLAN</th>\n",
       "      <th>DEPARTAMENTAL</th>\n",
       "      <th>TELEFONO 2</th>\n",
       "    </tr>\n",
       "  </thead>\n",
       "  <tbody>\n",
       "    <tr>\n",
       "      <th>68</th>\n",
       "      <td>16-01-2947-46</td>\n",
       "      <td>65</td>\n",
       "      <td>Alta Verapaz</td>\n",
       "      <td>Coban</td>\n",
       "      <td>Instituto Privado Basico Y Bachillerato Por Ma...</td>\n",
       "      <td>5A. Calle 1-98 Zona 3</td>\n",
       "      <td>No hay teléfono registrado</td>\n",
       "      <td>No hay supervisor registrado</td>\n",
       "      <td>NaN</td>\n",
       "      <td>DIVERSIFICADO</td>\n",
       "      <td>PRIVADO</td>\n",
       "      <td>URBANA</td>\n",
       "      <td>CERRADA TEMPORALMENTE</td>\n",
       "      <td>MONOLINGUE</td>\n",
       "      <td>VESPERTINA</td>\n",
       "      <td>DIARIO(REGULAR)</td>\n",
       "      <td>ALTA VERAPAZ</td>\n",
       "      <td>No hay teléfono registrado</td>\n",
       "    </tr>\n",
       "    <tr>\n",
       "      <th>209</th>\n",
       "      <td>16-10-3816-46</td>\n",
       "      <td>14</td>\n",
       "      <td>Alta Verapaz</td>\n",
       "      <td>San Juan Chamelco</td>\n",
       "      <td>Liceo De Bachillerato En Computacion Y Educaci...</td>\n",
       "      <td>No hay dirección registrada</td>\n",
       "      <td>No hay teléfono registrado</td>\n",
       "      <td>No hay supervisor registrado</td>\n",
       "      <td>NaN</td>\n",
       "      <td>DIVERSIFICADO</td>\n",
       "      <td>PRIVADO</td>\n",
       "      <td>URBANA</td>\n",
       "      <td>CERRADA TEMPORALMENTE</td>\n",
       "      <td>MONOLINGUE</td>\n",
       "      <td>MATUTINA</td>\n",
       "      <td>DIARIO(REGULAR)</td>\n",
       "      <td>ALTA VERAPAZ</td>\n",
       "      <td>No hay teléfono registrado</td>\n",
       "    </tr>\n",
       "    <tr>\n",
       "      <th>344</th>\n",
       "      <td>15-03-0134-46</td>\n",
       "      <td>21</td>\n",
       "      <td>Baja Verapaz</td>\n",
       "      <td>Rabinal</td>\n",
       "      <td>Liceo Privado Mixto De Ciencias Comerciales 'R...</td>\n",
       "      <td>3A. Avenida 1-55 Zona 3</td>\n",
       "      <td>No hay teléfono registrado</td>\n",
       "      <td>No hay supervisor registrado</td>\n",
       "      <td>NaN</td>\n",
       "      <td>DIVERSIFICADO</td>\n",
       "      <td>PRIVADO</td>\n",
       "      <td>URBANA</td>\n",
       "      <td>CERRADA TEMPORALMENTE</td>\n",
       "      <td>MONOLINGUE</td>\n",
       "      <td>VESPERTINA</td>\n",
       "      <td>DIARIO(REGULAR)</td>\n",
       "      <td>BAJA VERAPAZ</td>\n",
       "      <td>No hay teléfono registrado</td>\n",
       "    </tr>\n",
       "    <tr>\n",
       "      <th>637</th>\n",
       "      <td>04-11-0995-46</td>\n",
       "      <td>4</td>\n",
       "      <td>Chimaltenango</td>\n",
       "      <td>Acatenango</td>\n",
       "      <td>Instituto Practico De Educacion Media</td>\n",
       "      <td>Canton Tercero</td>\n",
       "      <td>No hay teléfono registrado</td>\n",
       "      <td>No hay supervisor registrado</td>\n",
       "      <td>NaN</td>\n",
       "      <td>DIVERSIFICADO</td>\n",
       "      <td>COOPERATIVA</td>\n",
       "      <td>RURAL</td>\n",
       "      <td>CERRADA TEMPORALMENTE</td>\n",
       "      <td>MONOLINGUE</td>\n",
       "      <td>NOCTURNA</td>\n",
       "      <td>DIARIO(REGULAR)</td>\n",
       "      <td>CHIMALTENANGO</td>\n",
       "      <td>No hay teléfono registrado</td>\n",
       "    </tr>\n",
       "    <tr>\n",
       "      <th>674</th>\n",
       "      <td>04-15-0599-46</td>\n",
       "      <td>15</td>\n",
       "      <td>Chimaltenango</td>\n",
       "      <td>Zaragoza</td>\n",
       "      <td>Instituto Privado Mixto De Educacion Diversifi...</td>\n",
       "      <td>6A. Avenida Norte No.2</td>\n",
       "      <td>No hay teléfono registrado</td>\n",
       "      <td>No hay supervisor registrado</td>\n",
       "      <td>NaN</td>\n",
       "      <td>DIVERSIFICADO</td>\n",
       "      <td>PRIVADO</td>\n",
       "      <td>URBANA</td>\n",
       "      <td>CERRADA TEMPORALMENTE</td>\n",
       "      <td>MONOLINGUE</td>\n",
       "      <td>NOCTURNA</td>\n",
       "      <td>DIARIO(REGULAR)</td>\n",
       "      <td>CHIMALTENANGO</td>\n",
       "      <td>No hay teléfono registrado</td>\n",
       "    </tr>\n",
       "  </tbody>\n",
       "</table>\n",
       "</div>"
      ],
      "text/plain": [
       "            CODIGO DISTRITO   DEPARTAMENTO          MUNICIPIO  \\\n",
       "68   16-01-2947-46       65   Alta Verapaz              Coban   \n",
       "209  16-10-3816-46       14   Alta Verapaz  San Juan Chamelco   \n",
       "344  15-03-0134-46       21   Baja Verapaz            Rabinal   \n",
       "637  04-11-0995-46        4  Chimaltenango         Acatenango   \n",
       "674  04-15-0599-46       15  Chimaltenango           Zaragoza   \n",
       "\n",
       "                                       ESTABLECIMIENTO  \\\n",
       "68   Instituto Privado Basico Y Bachillerato Por Ma...   \n",
       "209  Liceo De Bachillerato En Computacion Y Educaci...   \n",
       "344  Liceo Privado Mixto De Ciencias Comerciales 'R...   \n",
       "637              Instituto Practico De Educacion Media   \n",
       "674  Instituto Privado Mixto De Educacion Diversifi...   \n",
       "\n",
       "                       DIRECCION                    TELEFONO  \\\n",
       "68         5A. Calle 1-98 Zona 3  No hay teléfono registrado   \n",
       "209  No hay dirección registrada  No hay teléfono registrado   \n",
       "344      3A. Avenida 1-55 Zona 3  No hay teléfono registrado   \n",
       "637               Canton Tercero  No hay teléfono registrado   \n",
       "674       6A. Avenida Norte No.2  No hay teléfono registrado   \n",
       "\n",
       "                       SUPERVISOR DIRECTOR          NIVEL       SECTOR  \\\n",
       "68   No hay supervisor registrado      NaN  DIVERSIFICADO      PRIVADO   \n",
       "209  No hay supervisor registrado      NaN  DIVERSIFICADO      PRIVADO   \n",
       "344  No hay supervisor registrado      NaN  DIVERSIFICADO      PRIVADO   \n",
       "637  No hay supervisor registrado      NaN  DIVERSIFICADO  COOPERATIVA   \n",
       "674  No hay supervisor registrado      NaN  DIVERSIFICADO      PRIVADO   \n",
       "\n",
       "       AREA                 STATUS   MODALIDAD     JORNADA             PLAN  \\\n",
       "68   URBANA  CERRADA TEMPORALMENTE  MONOLINGUE  VESPERTINA  DIARIO(REGULAR)   \n",
       "209  URBANA  CERRADA TEMPORALMENTE  MONOLINGUE    MATUTINA  DIARIO(REGULAR)   \n",
       "344  URBANA  CERRADA TEMPORALMENTE  MONOLINGUE  VESPERTINA  DIARIO(REGULAR)   \n",
       "637   RURAL  CERRADA TEMPORALMENTE  MONOLINGUE    NOCTURNA  DIARIO(REGULAR)   \n",
       "674  URBANA  CERRADA TEMPORALMENTE  MONOLINGUE    NOCTURNA  DIARIO(REGULAR)   \n",
       "\n",
       "     DEPARTAMENTAL                  TELEFONO 2  \n",
       "68    ALTA VERAPAZ  No hay teléfono registrado  \n",
       "209   ALTA VERAPAZ  No hay teléfono registrado  \n",
       "344   BAJA VERAPAZ  No hay teléfono registrado  \n",
       "637  CHIMALTENANGO  No hay teléfono registrado  \n",
       "674  CHIMALTENANGO  No hay teléfono registrado  "
      ]
     },
     "metadata": {},
     "output_type": "display_data"
    }
   ],
   "source": [
    "df.loc[df.SUPERVISOR.isna(),'SUPERVISOR']='No hay supervisor registrado'\n",
    "\n",
    "display(df.loc[df.SUPERVISOR=='No hay supervisor registrado',:].head())"
   ]
  },
  {
   "cell_type": "markdown",
   "metadata": {},
   "source": [
    "#### Conteo de supervisores por dirección"
   ]
  },
  {
   "cell_type": "code",
   "execution_count": 57,
   "metadata": {
    "scrolled": true
   },
   "outputs": [
    {
     "data": {
      "text/plain": [
       "Carlos Humberto Gonzalez De Leon    257\n",
       "No hay supervisor registrado        213\n",
       "Miguel Angel Armas Rocha            176\n",
       "Remy Arturo Sinay Gudiel            137\n",
       "Juan Enrique Martinez Solano        128\n",
       "                                   ... \n",
       "Maria Del Carmen Sandoval Lopez       1\n",
       "Santiago Cruz Serrano                 1\n",
       "Jose Francisco Olan Ponce             1\n",
       "Veronica Esperanza Aguilar Gomez      1\n",
       "Alba Luz Mendez                       1\n",
       "Name: SUPERVISOR, Length: 638, dtype: int64"
      ]
     },
     "execution_count": 57,
     "metadata": {},
     "output_type": "execute_result"
    }
   ],
   "source": [
    "df.SUPERVISOR.value_counts()"
   ]
  },
  {
   "cell_type": "markdown",
   "metadata": {},
   "source": [
    "## Análisis para variable Director"
   ]
  },
  {
   "cell_type": "markdown",
   "metadata": {},
   "source": [
    "#### Revisión de Formato"
   ]
  },
  {
   "cell_type": "code",
   "execution_count": 58,
   "metadata": {
    "scrolled": false
   },
   "outputs": [
    {
     "data": {
      "text/plain": [
       "['JULIO CESAR VILLELA AMADO',\n",
       " nan,\n",
       " 'MERCEDES QUIROS QUIROS',\n",
       " 'HECOTR WALDEMAR TOT COY',\n",
       " 'LUIS FERNANDO SOTO',\n",
       " 'GUILLERMO ESTUARDO VASQUEZ MORALES',\n",
       " 'JORGE BENEDICTO COC POP',\n",
       " 'GEHU ABRAHAM CAAL MAAS',\n",
       " 'MARIA MAGDALENA BOL CU',\n",
       " 'ELIGIO PASTOR GARCÍA']"
      ]
     },
     "metadata": {},
     "output_type": "display_data"
    }
   ],
   "source": [
    "# Formato de datos\n",
    "display(df.DIRECTOR.unique().tolist()[0:10])\n"
   ]
  },
  {
   "cell_type": "markdown",
   "metadata": {},
   "source": [
    "#### Revisión de Nulls"
   ]
  },
  {
   "cell_type": "code",
   "execution_count": 59,
   "metadata": {},
   "outputs": [
    {
     "data": {
      "text/html": [
       "<div>\n",
       "<style scoped>\n",
       "    .dataframe tbody tr th:only-of-type {\n",
       "        vertical-align: middle;\n",
       "    }\n",
       "\n",
       "    .dataframe tbody tr th {\n",
       "        vertical-align: top;\n",
       "    }\n",
       "\n",
       "    .dataframe thead th {\n",
       "        text-align: right;\n",
       "    }\n",
       "</style>\n",
       "<table border=\"1\" class=\"dataframe\">\n",
       "  <thead>\n",
       "    <tr style=\"text-align: right;\">\n",
       "      <th></th>\n",
       "      <th>CODIGO</th>\n",
       "      <th>DISTRITO</th>\n",
       "      <th>DEPARTAMENTO</th>\n",
       "      <th>MUNICIPIO</th>\n",
       "      <th>ESTABLECIMIENTO</th>\n",
       "      <th>DIRECCION</th>\n",
       "      <th>TELEFONO</th>\n",
       "      <th>SUPERVISOR</th>\n",
       "      <th>DIRECTOR</th>\n",
       "      <th>NIVEL</th>\n",
       "      <th>SECTOR</th>\n",
       "      <th>AREA</th>\n",
       "      <th>STATUS</th>\n",
       "      <th>MODALIDAD</th>\n",
       "      <th>JORNADA</th>\n",
       "      <th>PLAN</th>\n",
       "      <th>DEPARTAMENTAL</th>\n",
       "      <th>TELEFONO 2</th>\n",
       "    </tr>\n",
       "  </thead>\n",
       "  <tbody>\n",
       "    <tr>\n",
       "      <th>1</th>\n",
       "      <td>16-01-0139-46</td>\n",
       "      <td>16-031</td>\n",
       "      <td>Alta Verapaz</td>\n",
       "      <td>Coban</td>\n",
       "      <td>Colegio Particular Mixto Verapaz</td>\n",
       "      <td>Km 209.5 Entrada A La Ciudad</td>\n",
       "      <td>77367402</td>\n",
       "      <td>Cesar Rolando Chocooj Yalibat</td>\n",
       "      <td>NaN</td>\n",
       "      <td>DIVERSIFICADO</td>\n",
       "      <td>PRIVADO</td>\n",
       "      <td>URBANA</td>\n",
       "      <td>ABIERTA</td>\n",
       "      <td>MONOLINGUE</td>\n",
       "      <td>MATUTINA</td>\n",
       "      <td>DIARIO(REGULAR)</td>\n",
       "      <td>ALTA VERAPAZ</td>\n",
       "      <td>No hay teléfono registrado</td>\n",
       "    </tr>\n",
       "    <tr>\n",
       "      <th>3</th>\n",
       "      <td>16-01-0141-46</td>\n",
       "      <td>16-005</td>\n",
       "      <td>Alta Verapaz</td>\n",
       "      <td>Coban</td>\n",
       "      <td>Escuela Nacional De Ciencias Comerciales</td>\n",
       "      <td>2A Calle 11-10 Zona 2</td>\n",
       "      <td>79514215</td>\n",
       "      <td>Juan Carlos Winter Caal</td>\n",
       "      <td>NaN</td>\n",
       "      <td>DIVERSIFICADO</td>\n",
       "      <td>OFICIAL</td>\n",
       "      <td>URBANA</td>\n",
       "      <td>ABIERTA</td>\n",
       "      <td>MONOLINGUE</td>\n",
       "      <td>MATUTINA</td>\n",
       "      <td>DIARIO(REGULAR)</td>\n",
       "      <td>ALTA VERAPAZ</td>\n",
       "      <td>No hay teléfono registrado</td>\n",
       "    </tr>\n",
       "    <tr>\n",
       "      <th>4</th>\n",
       "      <td>16-01-0142-46</td>\n",
       "      <td>16-005</td>\n",
       "      <td>Alta Verapaz</td>\n",
       "      <td>Coban</td>\n",
       "      <td>Instituto Normal Mixto Del Norte 'Emilio Rosal...</td>\n",
       "      <td>3A Ave 6-23 Zona 11</td>\n",
       "      <td>79521468</td>\n",
       "      <td>Juan Carlos Winter Caal</td>\n",
       "      <td>NaN</td>\n",
       "      <td>DIVERSIFICADO</td>\n",
       "      <td>OFICIAL</td>\n",
       "      <td>URBANA</td>\n",
       "      <td>ABIERTA</td>\n",
       "      <td>BILINGUE</td>\n",
       "      <td>VESPERTINA</td>\n",
       "      <td>DIARIO(REGULAR)</td>\n",
       "      <td>ALTA VERAPAZ</td>\n",
       "      <td>No hay teléfono registrado</td>\n",
       "    </tr>\n",
       "    <tr>\n",
       "      <th>49</th>\n",
       "      <td>16-01-1172-46</td>\n",
       "      <td>16-006</td>\n",
       "      <td>Alta Verapaz</td>\n",
       "      <td>Coban</td>\n",
       "      <td>Colegio Particular Mixto Carlos V</td>\n",
       "      <td>6A. Calle 2-06 Zona 8 Periferico Sur Coban</td>\n",
       "      <td>No hay teléfono registrado</td>\n",
       "      <td>Efrain Caal Cuc</td>\n",
       "      <td>NaN</td>\n",
       "      <td>DIVERSIFICADO</td>\n",
       "      <td>PRIVADO</td>\n",
       "      <td>URBANA</td>\n",
       "      <td>CERRADA TEMPORALMENTE</td>\n",
       "      <td>MONOLINGUE</td>\n",
       "      <td>MATUTINA</td>\n",
       "      <td>FIN DE SEMANA</td>\n",
       "      <td>ALTA VERAPAZ</td>\n",
       "      <td>No hay teléfono registrado</td>\n",
       "    </tr>\n",
       "    <tr>\n",
       "      <th>50</th>\n",
       "      <td>16-01-1173-46</td>\n",
       "      <td>16-006</td>\n",
       "      <td>Alta Verapaz</td>\n",
       "      <td>Coban</td>\n",
       "      <td>Colegio Particular Mixto Carlos V</td>\n",
       "      <td>6A. Calle 2-06 Zona 8 Periferico Sur Coban</td>\n",
       "      <td>No hay teléfono registrado</td>\n",
       "      <td>Efrain Caal Cuc</td>\n",
       "      <td>NaN</td>\n",
       "      <td>DIVERSIFICADO</td>\n",
       "      <td>PRIVADO</td>\n",
       "      <td>URBANA</td>\n",
       "      <td>CERRADA TEMPORALMENTE</td>\n",
       "      <td>MONOLINGUE</td>\n",
       "      <td>MATUTINA</td>\n",
       "      <td>DIARIO(REGULAR)</td>\n",
       "      <td>ALTA VERAPAZ</td>\n",
       "      <td>No hay teléfono registrado</td>\n",
       "    </tr>\n",
       "  </tbody>\n",
       "</table>\n",
       "</div>"
      ],
      "text/plain": [
       "           CODIGO DISTRITO  DEPARTAMENTO MUNICIPIO  \\\n",
       "1   16-01-0139-46   16-031  Alta Verapaz     Coban   \n",
       "3   16-01-0141-46   16-005  Alta Verapaz     Coban   \n",
       "4   16-01-0142-46   16-005  Alta Verapaz     Coban   \n",
       "49  16-01-1172-46   16-006  Alta Verapaz     Coban   \n",
       "50  16-01-1173-46   16-006  Alta Verapaz     Coban   \n",
       "\n",
       "                                      ESTABLECIMIENTO  \\\n",
       "1                    Colegio Particular Mixto Verapaz   \n",
       "3            Escuela Nacional De Ciencias Comerciales   \n",
       "4   Instituto Normal Mixto Del Norte 'Emilio Rosal...   \n",
       "49                  Colegio Particular Mixto Carlos V   \n",
       "50                  Colegio Particular Mixto Carlos V   \n",
       "\n",
       "                                     DIRECCION                    TELEFONO  \\\n",
       "1                 Km 209.5 Entrada A La Ciudad                    77367402   \n",
       "3                        2A Calle 11-10 Zona 2                    79514215   \n",
       "4                          3A Ave 6-23 Zona 11                    79521468   \n",
       "49  6A. Calle 2-06 Zona 8 Periferico Sur Coban  No hay teléfono registrado   \n",
       "50  6A. Calle 2-06 Zona 8 Periferico Sur Coban  No hay teléfono registrado   \n",
       "\n",
       "                       SUPERVISOR DIRECTOR          NIVEL   SECTOR    AREA  \\\n",
       "1   Cesar Rolando Chocooj Yalibat      NaN  DIVERSIFICADO  PRIVADO  URBANA   \n",
       "3         Juan Carlos Winter Caal      NaN  DIVERSIFICADO  OFICIAL  URBANA   \n",
       "4         Juan Carlos Winter Caal      NaN  DIVERSIFICADO  OFICIAL  URBANA   \n",
       "49                Efrain Caal Cuc      NaN  DIVERSIFICADO  PRIVADO  URBANA   \n",
       "50                Efrain Caal Cuc      NaN  DIVERSIFICADO  PRIVADO  URBANA   \n",
       "\n",
       "                   STATUS   MODALIDAD     JORNADA             PLAN  \\\n",
       "1                 ABIERTA  MONOLINGUE    MATUTINA  DIARIO(REGULAR)   \n",
       "3                 ABIERTA  MONOLINGUE    MATUTINA  DIARIO(REGULAR)   \n",
       "4                 ABIERTA    BILINGUE  VESPERTINA  DIARIO(REGULAR)   \n",
       "49  CERRADA TEMPORALMENTE  MONOLINGUE    MATUTINA    FIN DE SEMANA   \n",
       "50  CERRADA TEMPORALMENTE  MONOLINGUE    MATUTINA  DIARIO(REGULAR)   \n",
       "\n",
       "   DEPARTAMENTAL                  TELEFONO 2  \n",
       "1   ALTA VERAPAZ  No hay teléfono registrado  \n",
       "3   ALTA VERAPAZ  No hay teléfono registrado  \n",
       "4   ALTA VERAPAZ  No hay teléfono registrado  \n",
       "49  ALTA VERAPAZ  No hay teléfono registrado  \n",
       "50  ALTA VERAPAZ  No hay teléfono registrado  "
      ]
     },
     "metadata": {},
     "output_type": "display_data"
    },
    {
     "name": "stdout",
     "output_type": "stream",
     "text": [
      "Cantidad de establecimientos sin director: 1653 siendo el 20.76 % de toda la base de datos\n"
     ]
    }
   ],
   "source": [
    "display(df.loc[df.DIRECTOR.isna(),:].head())\n",
    "a=len(df.loc[df.DIRECTOR.isna(),:])\n",
    "b=len(df)\n",
    "print('Cantidad de establecimientos sin director: '+str(a)+' siendo el '+str(round((a/b)*100,2))+' % de toda la base de datos')"
   ]
  },
  {
   "cell_type": "markdown",
   "metadata": {},
   "source": [
    "#### Formato a Proper Case "
   ]
  },
  {
   "cell_type": "code",
   "execution_count": 60,
   "metadata": {},
   "outputs": [],
   "source": [
    "df.DIRECTOR=df.DIRECTOR.str.title()"
   ]
  },
  {
   "cell_type": "markdown",
   "metadata": {},
   "source": [
    "#### Eliminación de espacios en blanco no necesarios"
   ]
  },
  {
   "cell_type": "code",
   "execution_count": 61,
   "metadata": {},
   "outputs": [],
   "source": [
    "df.DIRECTOR=df.DIRECTOR.str.strip()"
   ]
  },
  {
   "cell_type": "markdown",
   "metadata": {},
   "source": [
    "#### Eliminación de acentos para estandarización"
   ]
  },
  {
   "cell_type": "code",
   "execution_count": 62,
   "metadata": {},
   "outputs": [],
   "source": [
    "df.DIRECTOR=df.DIRECTOR.str.replace('á','a')\n",
    "df.DIRECTOR=df.DIRECTOR.str.replace('é','e')\n",
    "df.DIRECTOR=df.DIRECTOR.str.replace('í','i')\n",
    "df.DIRECTOR=df.DIRECTOR.str.replace('ó','o')\n",
    "df.DIRECTOR=df.DIRECTOR.str.replace('ú','u')"
   ]
  },
  {
   "cell_type": "markdown",
   "metadata": {},
   "source": [
    "#### Se agrega 'No hay dirección registrada' a los datos faltantes"
   ]
  },
  {
   "cell_type": "code",
   "execution_count": 63,
   "metadata": {},
   "outputs": [
    {
     "data": {
      "text/html": [
       "<div>\n",
       "<style scoped>\n",
       "    .dataframe tbody tr th:only-of-type {\n",
       "        vertical-align: middle;\n",
       "    }\n",
       "\n",
       "    .dataframe tbody tr th {\n",
       "        vertical-align: top;\n",
       "    }\n",
       "\n",
       "    .dataframe thead th {\n",
       "        text-align: right;\n",
       "    }\n",
       "</style>\n",
       "<table border=\"1\" class=\"dataframe\">\n",
       "  <thead>\n",
       "    <tr style=\"text-align: right;\">\n",
       "      <th></th>\n",
       "      <th>CODIGO</th>\n",
       "      <th>DISTRITO</th>\n",
       "      <th>DEPARTAMENTO</th>\n",
       "      <th>MUNICIPIO</th>\n",
       "      <th>ESTABLECIMIENTO</th>\n",
       "      <th>DIRECCION</th>\n",
       "      <th>TELEFONO</th>\n",
       "      <th>SUPERVISOR</th>\n",
       "      <th>DIRECTOR</th>\n",
       "      <th>NIVEL</th>\n",
       "      <th>SECTOR</th>\n",
       "      <th>AREA</th>\n",
       "      <th>STATUS</th>\n",
       "      <th>MODALIDAD</th>\n",
       "      <th>JORNADA</th>\n",
       "      <th>PLAN</th>\n",
       "      <th>DEPARTAMENTAL</th>\n",
       "      <th>TELEFONO 2</th>\n",
       "    </tr>\n",
       "  </thead>\n",
       "  <tbody>\n",
       "    <tr>\n",
       "      <th>1</th>\n",
       "      <td>16-01-0139-46</td>\n",
       "      <td>16-031</td>\n",
       "      <td>Alta Verapaz</td>\n",
       "      <td>Coban</td>\n",
       "      <td>Colegio Particular Mixto Verapaz</td>\n",
       "      <td>Km 209.5 Entrada A La Ciudad</td>\n",
       "      <td>77367402</td>\n",
       "      <td>Cesar Rolando Chocooj Yalibat</td>\n",
       "      <td>No hay director registrado</td>\n",
       "      <td>DIVERSIFICADO</td>\n",
       "      <td>PRIVADO</td>\n",
       "      <td>URBANA</td>\n",
       "      <td>ABIERTA</td>\n",
       "      <td>MONOLINGUE</td>\n",
       "      <td>MATUTINA</td>\n",
       "      <td>DIARIO(REGULAR)</td>\n",
       "      <td>ALTA VERAPAZ</td>\n",
       "      <td>No hay teléfono registrado</td>\n",
       "    </tr>\n",
       "    <tr>\n",
       "      <th>3</th>\n",
       "      <td>16-01-0141-46</td>\n",
       "      <td>16-005</td>\n",
       "      <td>Alta Verapaz</td>\n",
       "      <td>Coban</td>\n",
       "      <td>Escuela Nacional De Ciencias Comerciales</td>\n",
       "      <td>2A Calle 11-10 Zona 2</td>\n",
       "      <td>79514215</td>\n",
       "      <td>Juan Carlos Winter Caal</td>\n",
       "      <td>No hay director registrado</td>\n",
       "      <td>DIVERSIFICADO</td>\n",
       "      <td>OFICIAL</td>\n",
       "      <td>URBANA</td>\n",
       "      <td>ABIERTA</td>\n",
       "      <td>MONOLINGUE</td>\n",
       "      <td>MATUTINA</td>\n",
       "      <td>DIARIO(REGULAR)</td>\n",
       "      <td>ALTA VERAPAZ</td>\n",
       "      <td>No hay teléfono registrado</td>\n",
       "    </tr>\n",
       "    <tr>\n",
       "      <th>4</th>\n",
       "      <td>16-01-0142-46</td>\n",
       "      <td>16-005</td>\n",
       "      <td>Alta Verapaz</td>\n",
       "      <td>Coban</td>\n",
       "      <td>Instituto Normal Mixto Del Norte 'Emilio Rosal...</td>\n",
       "      <td>3A Ave 6-23 Zona 11</td>\n",
       "      <td>79521468</td>\n",
       "      <td>Juan Carlos Winter Caal</td>\n",
       "      <td>No hay director registrado</td>\n",
       "      <td>DIVERSIFICADO</td>\n",
       "      <td>OFICIAL</td>\n",
       "      <td>URBANA</td>\n",
       "      <td>ABIERTA</td>\n",
       "      <td>BILINGUE</td>\n",
       "      <td>VESPERTINA</td>\n",
       "      <td>DIARIO(REGULAR)</td>\n",
       "      <td>ALTA VERAPAZ</td>\n",
       "      <td>No hay teléfono registrado</td>\n",
       "    </tr>\n",
       "    <tr>\n",
       "      <th>16</th>\n",
       "      <td>16-01-0558-46</td>\n",
       "      <td>16-005</td>\n",
       "      <td>Alta Verapaz</td>\n",
       "      <td>Coban</td>\n",
       "      <td>Instituto Normal Preprimaria Bilingue Adscrito...</td>\n",
       "      <td>3A. Ave. 6-23 Zona 11</td>\n",
       "      <td>79521468</td>\n",
       "      <td>Juan Carlos Winter Caal</td>\n",
       "      <td>No hay director registrado</td>\n",
       "      <td>DIVERSIFICADO</td>\n",
       "      <td>OFICIAL</td>\n",
       "      <td>URBANA</td>\n",
       "      <td>ABIERTA</td>\n",
       "      <td>MONOLINGUE</td>\n",
       "      <td>VESPERTINA</td>\n",
       "      <td>DIARIO(REGULAR)</td>\n",
       "      <td>ALTA VERAPAZ</td>\n",
       "      <td>No hay teléfono registrado</td>\n",
       "    </tr>\n",
       "    <tr>\n",
       "      <th>17</th>\n",
       "      <td>16-01-0559-46</td>\n",
       "      <td>16-005</td>\n",
       "      <td>Alta Verapaz</td>\n",
       "      <td>Coban</td>\n",
       "      <td>Instituto Normal Primaria Bilingue Intercultur...</td>\n",
       "      <td>3A. Ave. 6-23 Zona 11</td>\n",
       "      <td>79521468</td>\n",
       "      <td>Juan Carlos Winter Caal</td>\n",
       "      <td>No hay director registrado</td>\n",
       "      <td>DIVERSIFICADO</td>\n",
       "      <td>OFICIAL</td>\n",
       "      <td>URBANA</td>\n",
       "      <td>ABIERTA</td>\n",
       "      <td>MONOLINGUE</td>\n",
       "      <td>VESPERTINA</td>\n",
       "      <td>DIARIO(REGULAR)</td>\n",
       "      <td>ALTA VERAPAZ</td>\n",
       "      <td>No hay teléfono registrado</td>\n",
       "    </tr>\n",
       "  </tbody>\n",
       "</table>\n",
       "</div>"
      ],
      "text/plain": [
       "           CODIGO DISTRITO  DEPARTAMENTO MUNICIPIO  \\\n",
       "1   16-01-0139-46   16-031  Alta Verapaz     Coban   \n",
       "3   16-01-0141-46   16-005  Alta Verapaz     Coban   \n",
       "4   16-01-0142-46   16-005  Alta Verapaz     Coban   \n",
       "16  16-01-0558-46   16-005  Alta Verapaz     Coban   \n",
       "17  16-01-0559-46   16-005  Alta Verapaz     Coban   \n",
       "\n",
       "                                      ESTABLECIMIENTO  \\\n",
       "1                    Colegio Particular Mixto Verapaz   \n",
       "3            Escuela Nacional De Ciencias Comerciales   \n",
       "4   Instituto Normal Mixto Del Norte 'Emilio Rosal...   \n",
       "16  Instituto Normal Preprimaria Bilingue Adscrito...   \n",
       "17  Instituto Normal Primaria Bilingue Intercultur...   \n",
       "\n",
       "                       DIRECCION  TELEFONO                     SUPERVISOR  \\\n",
       "1   Km 209.5 Entrada A La Ciudad  77367402  Cesar Rolando Chocooj Yalibat   \n",
       "3          2A Calle 11-10 Zona 2  79514215        Juan Carlos Winter Caal   \n",
       "4            3A Ave 6-23 Zona 11  79521468        Juan Carlos Winter Caal   \n",
       "16         3A. Ave. 6-23 Zona 11  79521468        Juan Carlos Winter Caal   \n",
       "17         3A. Ave. 6-23 Zona 11  79521468        Juan Carlos Winter Caal   \n",
       "\n",
       "                      DIRECTOR          NIVEL   SECTOR    AREA   STATUS  \\\n",
       "1   No hay director registrado  DIVERSIFICADO  PRIVADO  URBANA  ABIERTA   \n",
       "3   No hay director registrado  DIVERSIFICADO  OFICIAL  URBANA  ABIERTA   \n",
       "4   No hay director registrado  DIVERSIFICADO  OFICIAL  URBANA  ABIERTA   \n",
       "16  No hay director registrado  DIVERSIFICADO  OFICIAL  URBANA  ABIERTA   \n",
       "17  No hay director registrado  DIVERSIFICADO  OFICIAL  URBANA  ABIERTA   \n",
       "\n",
       "     MODALIDAD     JORNADA             PLAN DEPARTAMENTAL  \\\n",
       "1   MONOLINGUE    MATUTINA  DIARIO(REGULAR)  ALTA VERAPAZ   \n",
       "3   MONOLINGUE    MATUTINA  DIARIO(REGULAR)  ALTA VERAPAZ   \n",
       "4     BILINGUE  VESPERTINA  DIARIO(REGULAR)  ALTA VERAPAZ   \n",
       "16  MONOLINGUE  VESPERTINA  DIARIO(REGULAR)  ALTA VERAPAZ   \n",
       "17  MONOLINGUE  VESPERTINA  DIARIO(REGULAR)  ALTA VERAPAZ   \n",
       "\n",
       "                    TELEFONO 2  \n",
       "1   No hay teléfono registrado  \n",
       "3   No hay teléfono registrado  \n",
       "4   No hay teléfono registrado  \n",
       "16  No hay teléfono registrado  \n",
       "17  No hay teléfono registrado  "
      ]
     },
     "metadata": {},
     "output_type": "display_data"
    }
   ],
   "source": [
    "df.loc[df.DIRECTOR.isna(),'DIRECTOR']='No hay director registrado'\n",
    "df.loc[df.DIRECTOR.str.contains('-'),'DIRECTOR']='No hay director registrado'\n",
    "df.loc[df.DIRECTOR=='.','DIRECTOR']='No hay director registrado'\n",
    "\n",
    "\n",
    "display(df.loc[df.DIRECTOR=='No hay director registrado',:].head())"
   ]
  },
  {
   "cell_type": "markdown",
   "metadata": {},
   "source": [
    "#### Conteo de establecimientos por director"
   ]
  },
  {
   "cell_type": "code",
   "execution_count": 64,
   "metadata": {
    "scrolled": false
   },
   "outputs": [
    {
     "data": {
      "text/plain": [
       "No hay director registrado                  2046\n",
       "Maria Dolores Perez Tuchan                    11\n",
       "Jorge Granados Guzman                          9\n",
       "Maria Del Carmen Aviles Corado                 8\n",
       "Demecio Herculano Orozco Gonzalez              8\n",
       "                                            ... \n",
       "Jose Lus Fernandez Romano                      1\n",
       "Claudia Roselia Cifuentes Alas                 1\n",
       "Pem Maria Elisa Flores Herrera De Franco       1\n",
       "Juana Patricia Echeverria Pech                 1\n",
       "Robidio Portillo Salguero                      1\n",
       "Name: DIRECTOR, Length: 3876, dtype: int64"
      ]
     },
     "execution_count": 64,
     "metadata": {},
     "output_type": "execute_result"
    }
   ],
   "source": [
    "df.DIRECTOR.value_counts()"
   ]
  },
  {
   "cell_type": "markdown",
   "metadata": {},
   "source": [
    "## Análisis para variable Nivel\n",
    "\n",
    "No hay necesidad de transformaciones, solo se coloca el title case"
   ]
  },
  {
   "cell_type": "markdown",
   "metadata": {},
   "source": [
    "#### Revisión de Nulls"
   ]
  },
  {
   "cell_type": "code",
   "execution_count": 65,
   "metadata": {},
   "outputs": [
    {
     "data": {
      "text/html": [
       "<div>\n",
       "<style scoped>\n",
       "    .dataframe tbody tr th:only-of-type {\n",
       "        vertical-align: middle;\n",
       "    }\n",
       "\n",
       "    .dataframe tbody tr th {\n",
       "        vertical-align: top;\n",
       "    }\n",
       "\n",
       "    .dataframe thead th {\n",
       "        text-align: right;\n",
       "    }\n",
       "</style>\n",
       "<table border=\"1\" class=\"dataframe\">\n",
       "  <thead>\n",
       "    <tr style=\"text-align: right;\">\n",
       "      <th></th>\n",
       "      <th>CODIGO</th>\n",
       "      <th>DISTRITO</th>\n",
       "      <th>DEPARTAMENTO</th>\n",
       "      <th>MUNICIPIO</th>\n",
       "      <th>ESTABLECIMIENTO</th>\n",
       "      <th>DIRECCION</th>\n",
       "      <th>TELEFONO</th>\n",
       "      <th>SUPERVISOR</th>\n",
       "      <th>DIRECTOR</th>\n",
       "      <th>NIVEL</th>\n",
       "      <th>SECTOR</th>\n",
       "      <th>AREA</th>\n",
       "      <th>STATUS</th>\n",
       "      <th>MODALIDAD</th>\n",
       "      <th>JORNADA</th>\n",
       "      <th>PLAN</th>\n",
       "      <th>DEPARTAMENTAL</th>\n",
       "      <th>TELEFONO 2</th>\n",
       "    </tr>\n",
       "  </thead>\n",
       "  <tbody>\n",
       "  </tbody>\n",
       "</table>\n",
       "</div>"
      ],
      "text/plain": [
       "Empty DataFrame\n",
       "Columns: [CODIGO, DISTRITO, DEPARTAMENTO, MUNICIPIO, ESTABLECIMIENTO, DIRECCION, TELEFONO, SUPERVISOR, DIRECTOR, NIVEL, SECTOR, AREA, STATUS, MODALIDAD, JORNADA, PLAN, DEPARTAMENTAL, TELEFONO 2]\n",
       "Index: []"
      ]
     },
     "metadata": {},
     "output_type": "display_data"
    },
    {
     "name": "stdout",
     "output_type": "stream",
     "text": [
      "Cantidad de establecimientos sin NIVEL: 0 siendo el 0.0 % de toda la base de datos\n"
     ]
    }
   ],
   "source": [
    "display(df.loc[df.NIVEL.isna(),:].head())\n",
    "a=len(df.loc[df.NIVEL.isna(),:])\n",
    "b=len(df)\n",
    "print('Cantidad de establecimientos sin NIVEL: '+str(a)+' siendo el '+str(round((a/b)*100,2))+' % de toda la base de datos')"
   ]
  },
  {
   "cell_type": "markdown",
   "metadata": {},
   "source": [
    "#### Conteo de variantes"
   ]
  },
  {
   "cell_type": "code",
   "execution_count": 66,
   "metadata": {},
   "outputs": [
    {
     "data": {
      "text/plain": [
       "DIVERSIFICADO    7964\n",
       "Name: NIVEL, dtype: int64"
      ]
     },
     "execution_count": 66,
     "metadata": {},
     "output_type": "execute_result"
    }
   ],
   "source": [
    "df.NIVEL.value_counts()"
   ]
  },
  {
   "cell_type": "code",
   "execution_count": 67,
   "metadata": {
    "scrolled": false
   },
   "outputs": [
    {
     "data": {
      "text/plain": [
       "0       Diversificado\n",
       "1       Diversificado\n",
       "2       Diversificado\n",
       "3       Diversificado\n",
       "4       Diversificado\n",
       "            ...      \n",
       "7959    Diversificado\n",
       "7960    Diversificado\n",
       "7961    Diversificado\n",
       "7962    Diversificado\n",
       "7963    Diversificado\n",
       "Name: NIVEL, Length: 7964, dtype: object"
      ]
     },
     "execution_count": 67,
     "metadata": {},
     "output_type": "execute_result"
    }
   ],
   "source": [
    "df.NIVEL=df.NIVEL.str.title()\n",
    "df.NIVEL"
   ]
  },
  {
   "cell_type": "markdown",
   "metadata": {},
   "source": [
    "## Análisis para variable Sector\n",
    "No hay necesidad de transformaciones, solo se coloca el title case"
   ]
  },
  {
   "cell_type": "markdown",
   "metadata": {},
   "source": [
    "#### Revisión de Nulls"
   ]
  },
  {
   "cell_type": "code",
   "execution_count": 68,
   "metadata": {},
   "outputs": [
    {
     "data": {
      "text/html": [
       "<div>\n",
       "<style scoped>\n",
       "    .dataframe tbody tr th:only-of-type {\n",
       "        vertical-align: middle;\n",
       "    }\n",
       "\n",
       "    .dataframe tbody tr th {\n",
       "        vertical-align: top;\n",
       "    }\n",
       "\n",
       "    .dataframe thead th {\n",
       "        text-align: right;\n",
       "    }\n",
       "</style>\n",
       "<table border=\"1\" class=\"dataframe\">\n",
       "  <thead>\n",
       "    <tr style=\"text-align: right;\">\n",
       "      <th></th>\n",
       "      <th>CODIGO</th>\n",
       "      <th>DISTRITO</th>\n",
       "      <th>DEPARTAMENTO</th>\n",
       "      <th>MUNICIPIO</th>\n",
       "      <th>ESTABLECIMIENTO</th>\n",
       "      <th>DIRECCION</th>\n",
       "      <th>TELEFONO</th>\n",
       "      <th>SUPERVISOR</th>\n",
       "      <th>DIRECTOR</th>\n",
       "      <th>NIVEL</th>\n",
       "      <th>SECTOR</th>\n",
       "      <th>AREA</th>\n",
       "      <th>STATUS</th>\n",
       "      <th>MODALIDAD</th>\n",
       "      <th>JORNADA</th>\n",
       "      <th>PLAN</th>\n",
       "      <th>DEPARTAMENTAL</th>\n",
       "      <th>TELEFONO 2</th>\n",
       "    </tr>\n",
       "  </thead>\n",
       "  <tbody>\n",
       "  </tbody>\n",
       "</table>\n",
       "</div>"
      ],
      "text/plain": [
       "Empty DataFrame\n",
       "Columns: [CODIGO, DISTRITO, DEPARTAMENTO, MUNICIPIO, ESTABLECIMIENTO, DIRECCION, TELEFONO, SUPERVISOR, DIRECTOR, NIVEL, SECTOR, AREA, STATUS, MODALIDAD, JORNADA, PLAN, DEPARTAMENTAL, TELEFONO 2]\n",
       "Index: []"
      ]
     },
     "metadata": {},
     "output_type": "display_data"
    },
    {
     "name": "stdout",
     "output_type": "stream",
     "text": [
      "Cantidad de establecimientos sin SECTOR: 0 siendo el 0.0 % de toda la base de datos\n"
     ]
    }
   ],
   "source": [
    "display(df.loc[df.SECTOR.isna(),:].head())\n",
    "a=len(df.loc[df.SECTOR.isna(),:])\n",
    "b=len(df)\n",
    "print('Cantidad de establecimientos sin SECTOR: '+str(a)+' siendo el '+str(round((a/b)*100,2))+' % de toda la base de datos')"
   ]
  },
  {
   "cell_type": "markdown",
   "metadata": {},
   "source": [
    "#### Conteo de variantes"
   ]
  },
  {
   "cell_type": "code",
   "execution_count": 69,
   "metadata": {
    "scrolled": true
   },
   "outputs": [
    {
     "data": {
      "text/plain": [
       "PRIVADO        6759\n",
       "OFICIAL         856\n",
       "COOPERATIVA     227\n",
       "MUNICIPAL       122\n",
       "Name: SECTOR, dtype: int64"
      ]
     },
     "execution_count": 69,
     "metadata": {},
     "output_type": "execute_result"
    }
   ],
   "source": [
    "df.SECTOR.value_counts()"
   ]
  },
  {
   "cell_type": "code",
   "execution_count": 70,
   "metadata": {},
   "outputs": [
    {
     "data": {
      "text/plain": [
       "0           Privado\n",
       "1           Privado\n",
       "2           Privado\n",
       "3           Oficial\n",
       "4           Oficial\n",
       "           ...     \n",
       "7959        Privado\n",
       "7960        Privado\n",
       "7961        Oficial\n",
       "7962    Cooperativa\n",
       "7963    Cooperativa\n",
       "Name: SECTOR, Length: 7964, dtype: object"
      ]
     },
     "execution_count": 70,
     "metadata": {},
     "output_type": "execute_result"
    }
   ],
   "source": [
    "df.SECTOR=df.SECTOR.str.title()\n",
    "df.SECTOR"
   ]
  },
  {
   "cell_type": "markdown",
   "metadata": {},
   "source": [
    "## Análisis para variable Área\n",
    "No hay necesidad de transformaciones, solo se coloca el title case"
   ]
  },
  {
   "cell_type": "markdown",
   "metadata": {},
   "source": [
    "#### Revisión de Nulls"
   ]
  },
  {
   "cell_type": "code",
   "execution_count": 71,
   "metadata": {},
   "outputs": [
    {
     "data": {
      "text/html": [
       "<div>\n",
       "<style scoped>\n",
       "    .dataframe tbody tr th:only-of-type {\n",
       "        vertical-align: middle;\n",
       "    }\n",
       "\n",
       "    .dataframe tbody tr th {\n",
       "        vertical-align: top;\n",
       "    }\n",
       "\n",
       "    .dataframe thead th {\n",
       "        text-align: right;\n",
       "    }\n",
       "</style>\n",
       "<table border=\"1\" class=\"dataframe\">\n",
       "  <thead>\n",
       "    <tr style=\"text-align: right;\">\n",
       "      <th></th>\n",
       "      <th>CODIGO</th>\n",
       "      <th>DISTRITO</th>\n",
       "      <th>DEPARTAMENTO</th>\n",
       "      <th>MUNICIPIO</th>\n",
       "      <th>ESTABLECIMIENTO</th>\n",
       "      <th>DIRECCION</th>\n",
       "      <th>TELEFONO</th>\n",
       "      <th>SUPERVISOR</th>\n",
       "      <th>DIRECTOR</th>\n",
       "      <th>NIVEL</th>\n",
       "      <th>SECTOR</th>\n",
       "      <th>AREA</th>\n",
       "      <th>STATUS</th>\n",
       "      <th>MODALIDAD</th>\n",
       "      <th>JORNADA</th>\n",
       "      <th>PLAN</th>\n",
       "      <th>DEPARTAMENTAL</th>\n",
       "      <th>TELEFONO 2</th>\n",
       "    </tr>\n",
       "  </thead>\n",
       "  <tbody>\n",
       "  </tbody>\n",
       "</table>\n",
       "</div>"
      ],
      "text/plain": [
       "Empty DataFrame\n",
       "Columns: [CODIGO, DISTRITO, DEPARTAMENTO, MUNICIPIO, ESTABLECIMIENTO, DIRECCION, TELEFONO, SUPERVISOR, DIRECTOR, NIVEL, SECTOR, AREA, STATUS, MODALIDAD, JORNADA, PLAN, DEPARTAMENTAL, TELEFONO 2]\n",
       "Index: []"
      ]
     },
     "metadata": {},
     "output_type": "display_data"
    },
    {
     "name": "stdout",
     "output_type": "stream",
     "text": [
      "Cantidad de establecimientos sin AREA: 0 siendo el 0.0 % de toda la base de datos\n"
     ]
    }
   ],
   "source": [
    "display(df.loc[df.AREA.isna(),:].head())\n",
    "a=len(df.loc[df.AREA.isna(),:])\n",
    "b=len(df)\n",
    "print('Cantidad de establecimientos sin AREA: '+str(a)+' siendo el '+str(round((a/b)*100,2))+' % de toda la base de datos')"
   ]
  },
  {
   "cell_type": "markdown",
   "metadata": {},
   "source": [
    "#### Conteo de variantes"
   ]
  },
  {
   "cell_type": "code",
   "execution_count": 72,
   "metadata": {},
   "outputs": [
    {
     "data": {
      "text/plain": [
       "URBANA             6511\n",
       "RURAL              1452\n",
       "SIN ESPECIFICAR       1\n",
       "Name: AREA, dtype: int64"
      ]
     },
     "execution_count": 72,
     "metadata": {},
     "output_type": "execute_result"
    }
   ],
   "source": [
    "df.AREA.value_counts()"
   ]
  },
  {
   "cell_type": "code",
   "execution_count": 73,
   "metadata": {
    "scrolled": false
   },
   "outputs": [
    {
     "data": {
      "text/plain": [
       "0       Urbana\n",
       "1       Urbana\n",
       "2       Urbana\n",
       "3       Urbana\n",
       "4       Urbana\n",
       "         ...  \n",
       "7959    Urbana\n",
       "7960    Urbana\n",
       "7961    Urbana\n",
       "7962    Urbana\n",
       "7963    Urbana\n",
       "Name: AREA, Length: 7964, dtype: object"
      ]
     },
     "execution_count": 73,
     "metadata": {},
     "output_type": "execute_result"
    }
   ],
   "source": [
    "df.AREA=df.AREA.str.title()\n",
    "df.AREA"
   ]
  },
  {
   "cell_type": "markdown",
   "metadata": {},
   "source": [
    "## Análisis para variable Status\n",
    "No hay necesidad de transformaciones, solo se coloca el title case"
   ]
  },
  {
   "cell_type": "markdown",
   "metadata": {},
   "source": [
    "#### Revisión de Nulls"
   ]
  },
  {
   "cell_type": "code",
   "execution_count": 74,
   "metadata": {},
   "outputs": [
    {
     "data": {
      "text/html": [
       "<div>\n",
       "<style scoped>\n",
       "    .dataframe tbody tr th:only-of-type {\n",
       "        vertical-align: middle;\n",
       "    }\n",
       "\n",
       "    .dataframe tbody tr th {\n",
       "        vertical-align: top;\n",
       "    }\n",
       "\n",
       "    .dataframe thead th {\n",
       "        text-align: right;\n",
       "    }\n",
       "</style>\n",
       "<table border=\"1\" class=\"dataframe\">\n",
       "  <thead>\n",
       "    <tr style=\"text-align: right;\">\n",
       "      <th></th>\n",
       "      <th>CODIGO</th>\n",
       "      <th>DISTRITO</th>\n",
       "      <th>DEPARTAMENTO</th>\n",
       "      <th>MUNICIPIO</th>\n",
       "      <th>ESTABLECIMIENTO</th>\n",
       "      <th>DIRECCION</th>\n",
       "      <th>TELEFONO</th>\n",
       "      <th>SUPERVISOR</th>\n",
       "      <th>DIRECTOR</th>\n",
       "      <th>NIVEL</th>\n",
       "      <th>SECTOR</th>\n",
       "      <th>AREA</th>\n",
       "      <th>STATUS</th>\n",
       "      <th>MODALIDAD</th>\n",
       "      <th>JORNADA</th>\n",
       "      <th>PLAN</th>\n",
       "      <th>DEPARTAMENTAL</th>\n",
       "      <th>TELEFONO 2</th>\n",
       "    </tr>\n",
       "  </thead>\n",
       "  <tbody>\n",
       "  </tbody>\n",
       "</table>\n",
       "</div>"
      ],
      "text/plain": [
       "Empty DataFrame\n",
       "Columns: [CODIGO, DISTRITO, DEPARTAMENTO, MUNICIPIO, ESTABLECIMIENTO, DIRECCION, TELEFONO, SUPERVISOR, DIRECTOR, NIVEL, SECTOR, AREA, STATUS, MODALIDAD, JORNADA, PLAN, DEPARTAMENTAL, TELEFONO 2]\n",
       "Index: []"
      ]
     },
     "metadata": {},
     "output_type": "display_data"
    },
    {
     "name": "stdout",
     "output_type": "stream",
     "text": [
      "Cantidad de establecimientos sin STATUS: 0 siendo el 0.0 % de toda la base de datos\n"
     ]
    }
   ],
   "source": [
    "display(df.loc[df.STATUS.isna(),:].head())\n",
    "a=len(df.loc[df.STATUS.isna(),:])\n",
    "b=len(df)\n",
    "print('Cantidad de establecimientos sin STATUS: '+str(a)+' siendo el '+str(round((a/b)*100,2))+' % de toda la base de datos')"
   ]
  },
  {
   "cell_type": "markdown",
   "metadata": {},
   "source": [
    "#### Conteo de variantes"
   ]
  },
  {
   "cell_type": "code",
   "execution_count": 75,
   "metadata": {},
   "outputs": [
    {
     "data": {
      "text/plain": [
       "ABIERTA                  5838\n",
       "CERRADA TEMPORALMENTE    1995\n",
       "TEMPORAL TITULOS          128\n",
       "TEMPORAL NOMBRAMIENTO       3\n",
       "Name: STATUS, dtype: int64"
      ]
     },
     "execution_count": 75,
     "metadata": {},
     "output_type": "execute_result"
    }
   ],
   "source": [
    "df.STATUS.value_counts()"
   ]
  },
  {
   "cell_type": "code",
   "execution_count": 76,
   "metadata": {
    "scrolled": false
   },
   "outputs": [
    {
     "data": {
      "text/plain": [
       "0       Abierta\n",
       "1       Abierta\n",
       "2       Abierta\n",
       "3       Abierta\n",
       "4       Abierta\n",
       "         ...   \n",
       "7959    Abierta\n",
       "7960    Abierta\n",
       "7961    Abierta\n",
       "7962    Abierta\n",
       "7963    Abierta\n",
       "Name: STATUS, Length: 7964, dtype: object"
      ]
     },
     "execution_count": 76,
     "metadata": {},
     "output_type": "execute_result"
    }
   ],
   "source": [
    "df.STATUS=df.STATUS.str.title()\n",
    "df.STATUS"
   ]
  },
  {
   "cell_type": "markdown",
   "metadata": {},
   "source": [
    "## Análisis para variable Modalidad"
   ]
  },
  {
   "cell_type": "markdown",
   "metadata": {},
   "source": [
    "#### Revisión de Nulls"
   ]
  },
  {
   "cell_type": "code",
   "execution_count": 77,
   "metadata": {},
   "outputs": [
    {
     "data": {
      "text/html": [
       "<div>\n",
       "<style scoped>\n",
       "    .dataframe tbody tr th:only-of-type {\n",
       "        vertical-align: middle;\n",
       "    }\n",
       "\n",
       "    .dataframe tbody tr th {\n",
       "        vertical-align: top;\n",
       "    }\n",
       "\n",
       "    .dataframe thead th {\n",
       "        text-align: right;\n",
       "    }\n",
       "</style>\n",
       "<table border=\"1\" class=\"dataframe\">\n",
       "  <thead>\n",
       "    <tr style=\"text-align: right;\">\n",
       "      <th></th>\n",
       "      <th>CODIGO</th>\n",
       "      <th>DISTRITO</th>\n",
       "      <th>DEPARTAMENTO</th>\n",
       "      <th>MUNICIPIO</th>\n",
       "      <th>ESTABLECIMIENTO</th>\n",
       "      <th>DIRECCION</th>\n",
       "      <th>TELEFONO</th>\n",
       "      <th>SUPERVISOR</th>\n",
       "      <th>DIRECTOR</th>\n",
       "      <th>NIVEL</th>\n",
       "      <th>SECTOR</th>\n",
       "      <th>AREA</th>\n",
       "      <th>STATUS</th>\n",
       "      <th>MODALIDAD</th>\n",
       "      <th>JORNADA</th>\n",
       "      <th>PLAN</th>\n",
       "      <th>DEPARTAMENTAL</th>\n",
       "      <th>TELEFONO 2</th>\n",
       "    </tr>\n",
       "  </thead>\n",
       "  <tbody>\n",
       "  </tbody>\n",
       "</table>\n",
       "</div>"
      ],
      "text/plain": [
       "Empty DataFrame\n",
       "Columns: [CODIGO, DISTRITO, DEPARTAMENTO, MUNICIPIO, ESTABLECIMIENTO, DIRECCION, TELEFONO, SUPERVISOR, DIRECTOR, NIVEL, SECTOR, AREA, STATUS, MODALIDAD, JORNADA, PLAN, DEPARTAMENTAL, TELEFONO 2]\n",
       "Index: []"
      ]
     },
     "metadata": {},
     "output_type": "display_data"
    },
    {
     "name": "stdout",
     "output_type": "stream",
     "text": [
      "Cantidad de establecimientos sin MODALIDAD: 0 siendo el 0.0 % de toda la base de datos\n"
     ]
    }
   ],
   "source": [
    "display(df.loc[df.MODALIDAD.isna(),:].head())\n",
    "a=len(df.loc[df.MODALIDAD.isna(),:])\n",
    "b=len(df)\n",
    "print('Cantidad de establecimientos sin MODALIDAD: '+str(a)+' siendo el '+str(round((a/b)*100,2))+' % de toda la base de datos')"
   ]
  },
  {
   "cell_type": "markdown",
   "metadata": {},
   "source": [
    "#### Conteo de variantes"
   ]
  },
  {
   "cell_type": "code",
   "execution_count": 78,
   "metadata": {},
   "outputs": [
    {
     "data": {
      "text/plain": [
       "MONOLINGUE    7698\n",
       "BILINGUE       266\n",
       "Name: MODALIDAD, dtype: int64"
      ]
     },
     "execution_count": 78,
     "metadata": {},
     "output_type": "execute_result"
    }
   ],
   "source": [
    "df.MODALIDAD.value_counts()"
   ]
  },
  {
   "cell_type": "code",
   "execution_count": 79,
   "metadata": {
    "scrolled": false
   },
   "outputs": [
    {
     "data": {
      "text/plain": [
       "0       Monolingue\n",
       "1       Monolingue\n",
       "2       Monolingue\n",
       "3       Monolingue\n",
       "4         Bilingue\n",
       "           ...    \n",
       "7959    Monolingue\n",
       "7960    Monolingue\n",
       "7961    Monolingue\n",
       "7962    Monolingue\n",
       "7963    Monolingue\n",
       "Name: MODALIDAD, Length: 7964, dtype: object"
      ]
     },
     "execution_count": 79,
     "metadata": {},
     "output_type": "execute_result"
    }
   ],
   "source": [
    "df.MODALIDAD=df.MODALIDAD.str.title()\n",
    "df.MODALIDAD"
   ]
  },
  {
   "cell_type": "markdown",
   "metadata": {},
   "source": [
    "## Análisis para variable Jornada"
   ]
  },
  {
   "cell_type": "markdown",
   "metadata": {},
   "source": [
    "#### Revisión de Nulls"
   ]
  },
  {
   "cell_type": "code",
   "execution_count": 80,
   "metadata": {},
   "outputs": [
    {
     "data": {
      "text/html": [
       "<div>\n",
       "<style scoped>\n",
       "    .dataframe tbody tr th:only-of-type {\n",
       "        vertical-align: middle;\n",
       "    }\n",
       "\n",
       "    .dataframe tbody tr th {\n",
       "        vertical-align: top;\n",
       "    }\n",
       "\n",
       "    .dataframe thead th {\n",
       "        text-align: right;\n",
       "    }\n",
       "</style>\n",
       "<table border=\"1\" class=\"dataframe\">\n",
       "  <thead>\n",
       "    <tr style=\"text-align: right;\">\n",
       "      <th></th>\n",
       "      <th>CODIGO</th>\n",
       "      <th>DISTRITO</th>\n",
       "      <th>DEPARTAMENTO</th>\n",
       "      <th>MUNICIPIO</th>\n",
       "      <th>ESTABLECIMIENTO</th>\n",
       "      <th>DIRECCION</th>\n",
       "      <th>TELEFONO</th>\n",
       "      <th>SUPERVISOR</th>\n",
       "      <th>DIRECTOR</th>\n",
       "      <th>NIVEL</th>\n",
       "      <th>SECTOR</th>\n",
       "      <th>AREA</th>\n",
       "      <th>STATUS</th>\n",
       "      <th>MODALIDAD</th>\n",
       "      <th>JORNADA</th>\n",
       "      <th>PLAN</th>\n",
       "      <th>DEPARTAMENTAL</th>\n",
       "      <th>TELEFONO 2</th>\n",
       "    </tr>\n",
       "  </thead>\n",
       "  <tbody>\n",
       "  </tbody>\n",
       "</table>\n",
       "</div>"
      ],
      "text/plain": [
       "Empty DataFrame\n",
       "Columns: [CODIGO, DISTRITO, DEPARTAMENTO, MUNICIPIO, ESTABLECIMIENTO, DIRECCION, TELEFONO, SUPERVISOR, DIRECTOR, NIVEL, SECTOR, AREA, STATUS, MODALIDAD, JORNADA, PLAN, DEPARTAMENTAL, TELEFONO 2]\n",
       "Index: []"
      ]
     },
     "metadata": {},
     "output_type": "display_data"
    },
    {
     "name": "stdout",
     "output_type": "stream",
     "text": [
      "Cantidad de establecimientos sin JORNADA: 0 siendo el 0.0 % de toda la base de datos\n"
     ]
    }
   ],
   "source": [
    "display(df.loc[df.JORNADA.isna(),:].head())\n",
    "a=len(df.loc[df.JORNADA.isna(),:])\n",
    "b=len(df)\n",
    "print('Cantidad de establecimientos sin JORNADA: '+str(a)+' siendo el '+str(round((a/b)*100,2))+' % de toda la base de datos')"
   ]
  },
  {
   "cell_type": "markdown",
   "metadata": {},
   "source": [
    "#### Conteo de variantes"
   ]
  },
  {
   "cell_type": "code",
   "execution_count": 81,
   "metadata": {},
   "outputs": [
    {
     "data": {
      "text/plain": [
       "DOBLE         2999\n",
       "VESPERTINA    2414\n",
       "MATUTINA      2187\n",
       "NOCTURNA       269\n",
       "INTERMEDIA      95\n",
       "Name: JORNADA, dtype: int64"
      ]
     },
     "execution_count": 81,
     "metadata": {},
     "output_type": "execute_result"
    }
   ],
   "source": [
    "df.JORNADA.value_counts()"
   ]
  },
  {
   "cell_type": "code",
   "execution_count": 82,
   "metadata": {
    "scrolled": false
   },
   "outputs": [
    {
     "data": {
      "text/plain": [
       "0         Matutina\n",
       "1         Matutina\n",
       "2         Matutina\n",
       "3         Matutina\n",
       "4       Vespertina\n",
       "           ...    \n",
       "7959      Matutina\n",
       "7960         Doble\n",
       "7961      Nocturna\n",
       "7962    Vespertina\n",
       "7963      Matutina\n",
       "Name: JORNADA, Length: 7964, dtype: object"
      ]
     },
     "execution_count": 82,
     "metadata": {},
     "output_type": "execute_result"
    }
   ],
   "source": [
    "df.JORNADA=df.JORNADA.str.title()\n",
    "df.JORNADA"
   ]
  },
  {
   "cell_type": "markdown",
   "metadata": {},
   "source": [
    "## Análisis para variable Plan"
   ]
  },
  {
   "cell_type": "markdown",
   "metadata": {},
   "source": [
    "#### Revisión de Nulls"
   ]
  },
  {
   "cell_type": "code",
   "execution_count": 83,
   "metadata": {},
   "outputs": [
    {
     "data": {
      "text/html": [
       "<div>\n",
       "<style scoped>\n",
       "    .dataframe tbody tr th:only-of-type {\n",
       "        vertical-align: middle;\n",
       "    }\n",
       "\n",
       "    .dataframe tbody tr th {\n",
       "        vertical-align: top;\n",
       "    }\n",
       "\n",
       "    .dataframe thead th {\n",
       "        text-align: right;\n",
       "    }\n",
       "</style>\n",
       "<table border=\"1\" class=\"dataframe\">\n",
       "  <thead>\n",
       "    <tr style=\"text-align: right;\">\n",
       "      <th></th>\n",
       "      <th>CODIGO</th>\n",
       "      <th>DISTRITO</th>\n",
       "      <th>DEPARTAMENTO</th>\n",
       "      <th>MUNICIPIO</th>\n",
       "      <th>ESTABLECIMIENTO</th>\n",
       "      <th>DIRECCION</th>\n",
       "      <th>TELEFONO</th>\n",
       "      <th>SUPERVISOR</th>\n",
       "      <th>DIRECTOR</th>\n",
       "      <th>NIVEL</th>\n",
       "      <th>SECTOR</th>\n",
       "      <th>AREA</th>\n",
       "      <th>STATUS</th>\n",
       "      <th>MODALIDAD</th>\n",
       "      <th>JORNADA</th>\n",
       "      <th>PLAN</th>\n",
       "      <th>DEPARTAMENTAL</th>\n",
       "      <th>TELEFONO 2</th>\n",
       "    </tr>\n",
       "  </thead>\n",
       "  <tbody>\n",
       "  </tbody>\n",
       "</table>\n",
       "</div>"
      ],
      "text/plain": [
       "Empty DataFrame\n",
       "Columns: [CODIGO, DISTRITO, DEPARTAMENTO, MUNICIPIO, ESTABLECIMIENTO, DIRECCION, TELEFONO, SUPERVISOR, DIRECTOR, NIVEL, SECTOR, AREA, STATUS, MODALIDAD, JORNADA, PLAN, DEPARTAMENTAL, TELEFONO 2]\n",
       "Index: []"
      ]
     },
     "metadata": {},
     "output_type": "display_data"
    },
    {
     "name": "stdout",
     "output_type": "stream",
     "text": [
      "Cantidad de establecimientos sin PLAN: 0 siendo el 0.0 % de toda la base de datos\n"
     ]
    }
   ],
   "source": [
    "display(df.loc[df.PLAN.isna(),:].head())\n",
    "a=len(df.loc[df.PLAN.isna(),:])\n",
    "b=len(df)\n",
    "print('Cantidad de establecimientos sin PLAN: '+str(a)+' siendo el '+str(round((a/b)*100,2))+' % de toda la base de datos')"
   ]
  },
  {
   "cell_type": "markdown",
   "metadata": {},
   "source": [
    "#### Conteo de variantes"
   ]
  },
  {
   "cell_type": "code",
   "execution_count": 84,
   "metadata": {},
   "outputs": [
    {
     "data": {
      "text/plain": [
       "DIARIO(REGULAR)    5365\n",
       "FIN DE SEMANA      2408\n",
       "A DISTANCIA          87\n",
       "SABATINO             49\n",
       "SEMIPRESENCIAL       26\n",
       "DOMINICAL            22\n",
       "MIXTO                 3\n",
       "INTERCALADO           2\n",
       "IRREGULAR             2\n",
       "Name: PLAN, dtype: int64"
      ]
     },
     "execution_count": 84,
     "metadata": {},
     "output_type": "execute_result"
    }
   ],
   "source": [
    "df.PLAN.value_counts()"
   ]
  },
  {
   "cell_type": "code",
   "execution_count": 85,
   "metadata": {
    "scrolled": false
   },
   "outputs": [
    {
     "data": {
      "text/plain": [
       "0       Diario(Regular)\n",
       "1       Diario(Regular)\n",
       "2       Diario(Regular)\n",
       "3       Diario(Regular)\n",
       "4       Diario(Regular)\n",
       "             ...       \n",
       "7959    Diario(Regular)\n",
       "7960      Fin De Semana\n",
       "7961    Diario(Regular)\n",
       "7962    Diario(Regular)\n",
       "7963    Diario(Regular)\n",
       "Name: PLAN, Length: 7964, dtype: object"
      ]
     },
     "execution_count": 85,
     "metadata": {},
     "output_type": "execute_result"
    }
   ],
   "source": [
    "df.PLAN=df.PLAN.str.title()\n",
    "df.PLAN"
   ]
  },
  {
   "cell_type": "markdown",
   "metadata": {},
   "source": [
    "## Análisis para variable Departamental"
   ]
  },
  {
   "cell_type": "markdown",
   "metadata": {},
   "source": [
    "#### Revisión de Nulls"
   ]
  },
  {
   "cell_type": "code",
   "execution_count": 86,
   "metadata": {},
   "outputs": [
    {
     "data": {
      "text/html": [
       "<div>\n",
       "<style scoped>\n",
       "    .dataframe tbody tr th:only-of-type {\n",
       "        vertical-align: middle;\n",
       "    }\n",
       "\n",
       "    .dataframe tbody tr th {\n",
       "        vertical-align: top;\n",
       "    }\n",
       "\n",
       "    .dataframe thead th {\n",
       "        text-align: right;\n",
       "    }\n",
       "</style>\n",
       "<table border=\"1\" class=\"dataframe\">\n",
       "  <thead>\n",
       "    <tr style=\"text-align: right;\">\n",
       "      <th></th>\n",
       "      <th>CODIGO</th>\n",
       "      <th>DISTRITO</th>\n",
       "      <th>DEPARTAMENTO</th>\n",
       "      <th>MUNICIPIO</th>\n",
       "      <th>ESTABLECIMIENTO</th>\n",
       "      <th>DIRECCION</th>\n",
       "      <th>TELEFONO</th>\n",
       "      <th>SUPERVISOR</th>\n",
       "      <th>DIRECTOR</th>\n",
       "      <th>NIVEL</th>\n",
       "      <th>SECTOR</th>\n",
       "      <th>AREA</th>\n",
       "      <th>STATUS</th>\n",
       "      <th>MODALIDAD</th>\n",
       "      <th>JORNADA</th>\n",
       "      <th>PLAN</th>\n",
       "      <th>DEPARTAMENTAL</th>\n",
       "      <th>TELEFONO 2</th>\n",
       "    </tr>\n",
       "  </thead>\n",
       "  <tbody>\n",
       "  </tbody>\n",
       "</table>\n",
       "</div>"
      ],
      "text/plain": [
       "Empty DataFrame\n",
       "Columns: [CODIGO, DISTRITO, DEPARTAMENTO, MUNICIPIO, ESTABLECIMIENTO, DIRECCION, TELEFONO, SUPERVISOR, DIRECTOR, NIVEL, SECTOR, AREA, STATUS, MODALIDAD, JORNADA, PLAN, DEPARTAMENTAL, TELEFONO 2]\n",
       "Index: []"
      ]
     },
     "metadata": {},
     "output_type": "display_data"
    },
    {
     "name": "stdout",
     "output_type": "stream",
     "text": [
      "Cantidad de establecimientos sin DEPARTAMENTAL: 0 siendo el 0.0 % de toda la base de datos\n"
     ]
    }
   ],
   "source": [
    "display(df.loc[df.DEPARTAMENTAL.isna(),:].head())\n",
    "a=len(df.loc[df.DEPARTAMENTAL.isna(),:])\n",
    "b=len(df)\n",
    "print('Cantidad de establecimientos sin DEPARTAMENTAL: '+str(a)+' siendo el '+str(round((a/b)*100,2))+' % de toda la base de datos')"
   ]
  },
  {
   "cell_type": "markdown",
   "metadata": {},
   "source": [
    "#### Conteo de variantes"
   ]
  },
  {
   "cell_type": "code",
   "execution_count": 87,
   "metadata": {},
   "outputs": [
    {
     "data": {
      "text/plain": [
       "GUATEMALA NORTE        915\n",
       "GUATEMALA SUR          665\n",
       "GUATEMALA OCCIDENTE    661\n",
       "ESCUINTLA              496\n",
       "SAN MARCOS             486\n",
       "HUEHUETENANGO          437\n",
       "QUETZALTENANGO         430\n",
       "PETÉN                  357\n",
       "GUATEMALA ORIENTE      345\n",
       "SUCHITEPÉQUEZ          330\n",
       "IZABAL                 303\n",
       "CHIMALTENANGO          290\n",
       "ALTA VERAPAZ           280\n",
       "SACATEPÉQUEZ           276\n",
       "JUTIAPA                265\n",
       "RETALHULEU             255\n",
       "QUICHÉ                 171\n",
       "CHIQUIMULA             168\n",
       "SANTA ROSA             140\n",
       "SOLOLÁ                 138\n",
       "JALAPA                 116\n",
       "BAJA VERAPAZ           114\n",
       "EL PROGRESO            111\n",
       "ZACAPA                  93\n",
       "TOTONICAPÁN             81\n",
       "QUICHÉ NORTE            41\n",
       "Name: DEPARTAMENTAL, dtype: int64"
      ]
     },
     "execution_count": 87,
     "metadata": {},
     "output_type": "execute_result"
    }
   ],
   "source": [
    "df.DEPARTAMENTAL.value_counts()"
   ]
  },
  {
   "cell_type": "code",
   "execution_count": 88,
   "metadata": {
    "scrolled": false
   },
   "outputs": [
    {
     "data": {
      "text/plain": [
       "0       Alta Verapaz\n",
       "1       Alta Verapaz\n",
       "2       Alta Verapaz\n",
       "3       Alta Verapaz\n",
       "4       Alta Verapaz\n",
       "            ...     \n",
       "7959          Zacapa\n",
       "7960          Zacapa\n",
       "7961          Zacapa\n",
       "7962          Zacapa\n",
       "7963          Zacapa\n",
       "Name: DEPARTAMENTAL, Length: 7964, dtype: object"
      ]
     },
     "execution_count": 88,
     "metadata": {},
     "output_type": "execute_result"
    }
   ],
   "source": [
    "df.DEPARTAMENTAL=df.DEPARTAMENTAL.str.title()\n",
    "df.DEPARTAMENTAL"
   ]
  },
  {
   "cell_type": "markdown",
   "metadata": {},
   "source": [
    "## Sección Importante (Revisión de establecimientos duplicados)"
   ]
  },
  {
   "cell_type": "code",
   "execution_count": 89,
   "metadata": {},
   "outputs": [
    {
     "data": {
      "text/html": [
       "<div>\n",
       "<style scoped>\n",
       "    .dataframe tbody tr th:only-of-type {\n",
       "        vertical-align: middle;\n",
       "    }\n",
       "\n",
       "    .dataframe tbody tr th {\n",
       "        vertical-align: top;\n",
       "    }\n",
       "\n",
       "    .dataframe thead th {\n",
       "        text-align: right;\n",
       "    }\n",
       "</style>\n",
       "<table border=\"1\" class=\"dataframe\">\n",
       "  <thead>\n",
       "    <tr style=\"text-align: right;\">\n",
       "      <th></th>\n",
       "      <th>CODIGO</th>\n",
       "      <th>DISTRITO</th>\n",
       "      <th>DEPARTAMENTO</th>\n",
       "      <th>MUNICIPIO</th>\n",
       "      <th>ESTABLECIMIENTO</th>\n",
       "      <th>DIRECCION</th>\n",
       "      <th>TELEFONO</th>\n",
       "      <th>SUPERVISOR</th>\n",
       "      <th>DIRECTOR</th>\n",
       "      <th>NIVEL</th>\n",
       "      <th>SECTOR</th>\n",
       "      <th>AREA</th>\n",
       "      <th>STATUS</th>\n",
       "      <th>MODALIDAD</th>\n",
       "      <th>JORNADA</th>\n",
       "      <th>PLAN</th>\n",
       "      <th>DEPARTAMENTAL</th>\n",
       "      <th>TELEFONO 2</th>\n",
       "    </tr>\n",
       "  </thead>\n",
       "  <tbody>\n",
       "    <tr>\n",
       "      <th>7139</th>\n",
       "      <td>12-26-0054-46</td>\n",
       "      <td>12-120</td>\n",
       "      <td>San Marcos</td>\n",
       "      <td>Sipacapa</td>\n",
       "      <td>\"Colegio De Estudios Superiores Sipacapa\" -Cess-</td>\n",
       "      <td>1Ra. Avenida Y 2Da. Calle Zona 1</td>\n",
       "      <td>33338449</td>\n",
       "      <td>Esteban Felix Ramirez</td>\n",
       "      <td>Baldomero Zapet Rodas</td>\n",
       "      <td>Diversificado</td>\n",
       "      <td>Privado</td>\n",
       "      <td>Urbana</td>\n",
       "      <td>Abierta</td>\n",
       "      <td>Monolingue</td>\n",
       "      <td>Doble</td>\n",
       "      <td>Fin De Semana</td>\n",
       "      <td>San Marcos</td>\n",
       "      <td>No hay teléfono registrado</td>\n",
       "    </tr>\n",
       "    <tr>\n",
       "      <th>7138</th>\n",
       "      <td>12-26-0053-46</td>\n",
       "      <td>12-120</td>\n",
       "      <td>San Marcos</td>\n",
       "      <td>Sipacapa</td>\n",
       "      <td>\"Colegio De Estudios Superiores Sipacapa\" -Cess-</td>\n",
       "      <td>1Ra. Avenida Y 2Da. Calle Zona 1</td>\n",
       "      <td>33338449</td>\n",
       "      <td>Esteban Felix Ramirez</td>\n",
       "      <td>Baldomero Zapet Rodas</td>\n",
       "      <td>Diversificado</td>\n",
       "      <td>Privado</td>\n",
       "      <td>Urbana</td>\n",
       "      <td>Abierta</td>\n",
       "      <td>Monolingue</td>\n",
       "      <td>Doble</td>\n",
       "      <td>Fin De Semana</td>\n",
       "      <td>San Marcos</td>\n",
       "      <td>No hay teléfono registrado</td>\n",
       "    </tr>\n",
       "    <tr>\n",
       "      <th>7178</th>\n",
       "      <td>12-30-0073-46</td>\n",
       "      <td>12-107</td>\n",
       "      <td>San Marcos</td>\n",
       "      <td>La Blanca</td>\n",
       "      <td>\"Colegio Educativo Mixto Luna Azul -Cemla-\"</td>\n",
       "      <td>Parcelamiento Chiquirines</td>\n",
       "      <td>45454204</td>\n",
       "      <td>Juan Jose Tobar Tebalan</td>\n",
       "      <td>German Daniel Merida Joachin</td>\n",
       "      <td>Diversificado</td>\n",
       "      <td>Privado</td>\n",
       "      <td>Rural</td>\n",
       "      <td>Abierta</td>\n",
       "      <td>Monolingue</td>\n",
       "      <td>Doble</td>\n",
       "      <td>Fin De Semana</td>\n",
       "      <td>San Marcos</td>\n",
       "      <td>No hay teléfono registrado</td>\n",
       "    </tr>\n",
       "    <tr>\n",
       "      <th>7177</th>\n",
       "      <td>12-30-0072-46</td>\n",
       "      <td>12-107</td>\n",
       "      <td>San Marcos</td>\n",
       "      <td>La Blanca</td>\n",
       "      <td>\"Colegio Educativo Mixto Luna Azul -Cemla-\"</td>\n",
       "      <td>Parcelamiento Chiquirines</td>\n",
       "      <td>45454204</td>\n",
       "      <td>Juan Jose Tobar Tebalan</td>\n",
       "      <td>German Daniel Merida Joachin</td>\n",
       "      <td>Diversificado</td>\n",
       "      <td>Privado</td>\n",
       "      <td>Rural</td>\n",
       "      <td>Abierta</td>\n",
       "      <td>Monolingue</td>\n",
       "      <td>Doble</td>\n",
       "      <td>Fin De Semana</td>\n",
       "      <td>San Marcos</td>\n",
       "      <td>No hay teléfono registrado</td>\n",
       "    </tr>\n",
       "    <tr>\n",
       "      <th>6108</th>\n",
       "      <td>14-19-0084-46</td>\n",
       "      <td>14-030</td>\n",
       "      <td>Quiche</td>\n",
       "      <td>Chicaman</td>\n",
       "      <td>\"Colegio Mixto Ciencia Y Desarrollo Chicaman\"</td>\n",
       "      <td>3A. Calle 3-30 Zona 2</td>\n",
       "      <td>58878991</td>\n",
       "      <td>Jose Alberto Hernandez Gamarro</td>\n",
       "      <td>Wilson Soberaniz Soto</td>\n",
       "      <td>Diversificado</td>\n",
       "      <td>Privado</td>\n",
       "      <td>Urbana</td>\n",
       "      <td>Abierta</td>\n",
       "      <td>Monolingue</td>\n",
       "      <td>Doble</td>\n",
       "      <td>Fin De Semana</td>\n",
       "      <td>Quiché</td>\n",
       "      <td>No hay teléfono registrado</td>\n",
       "    </tr>\n",
       "    <tr>\n",
       "      <th>...</th>\n",
       "      <td>...</td>\n",
       "      <td>...</td>\n",
       "      <td>...</td>\n",
       "      <td>...</td>\n",
       "      <td>...</td>\n",
       "      <td>...</td>\n",
       "      <td>...</td>\n",
       "      <td>...</td>\n",
       "      <td>...</td>\n",
       "      <td>...</td>\n",
       "      <td>...</td>\n",
       "      <td>...</td>\n",
       "      <td>...</td>\n",
       "      <td>...</td>\n",
       "      <td>...</td>\n",
       "      <td>...</td>\n",
       "      <td>...</td>\n",
       "      <td>...</td>\n",
       "    </tr>\n",
       "    <tr>\n",
       "      <th>1055</th>\n",
       "      <td>00-01-0644-46</td>\n",
       "      <td>01-627</td>\n",
       "      <td>Ciudad Capital</td>\n",
       "      <td>Zona 1</td>\n",
       "      <td>Liceo Tecnologico Maya De Guatemala Iii</td>\n",
       "      <td>15 Calle 3-29</td>\n",
       "      <td>23083514</td>\n",
       "      <td>Isaura Amparo Recinos Carrillo</td>\n",
       "      <td>Margarita De Jesus Barrios Castillo De Godinez</td>\n",
       "      <td>Diversificado</td>\n",
       "      <td>Privado</td>\n",
       "      <td>Urbana</td>\n",
       "      <td>Abierta</td>\n",
       "      <td>Monolingue</td>\n",
       "      <td>Doble</td>\n",
       "      <td>Fin De Semana</td>\n",
       "      <td>Guatemala Norte</td>\n",
       "      <td>No hay teléfono registrado</td>\n",
       "    </tr>\n",
       "    <tr>\n",
       "      <th>1312</th>\n",
       "      <td>00-01-9027-46</td>\n",
       "      <td>01-403</td>\n",
       "      <td>Ciudad Capital</td>\n",
       "      <td>Zona 1</td>\n",
       "      <td>Liceo Tecnologico Metropolitano De Guatemala</td>\n",
       "      <td>5A. Avenida 3-55</td>\n",
       "      <td>22327022</td>\n",
       "      <td>Carlos Humberto Gonzalez De Leon</td>\n",
       "      <td>Fredy Amilcar Cruz</td>\n",
       "      <td>Diversificado</td>\n",
       "      <td>Privado</td>\n",
       "      <td>Urbana</td>\n",
       "      <td>Cerrada Temporalmente</td>\n",
       "      <td>Monolingue</td>\n",
       "      <td>Doble</td>\n",
       "      <td>Fin De Semana</td>\n",
       "      <td>Guatemala Norte</td>\n",
       "      <td>No hay teléfono registrado</td>\n",
       "    </tr>\n",
       "    <tr>\n",
       "      <th>1232</th>\n",
       "      <td>00-01-8096-46</td>\n",
       "      <td>01-403</td>\n",
       "      <td>Ciudad Capital</td>\n",
       "      <td>Zona 1</td>\n",
       "      <td>Liceo Tecnologico Metropolitano De Guatemala</td>\n",
       "      <td>5A. Avenida 3-55</td>\n",
       "      <td>22327022</td>\n",
       "      <td>Carlos Humberto Gonzalez De Leon</td>\n",
       "      <td>Fredy Amilcar Cruz</td>\n",
       "      <td>Diversificado</td>\n",
       "      <td>Privado</td>\n",
       "      <td>Urbana</td>\n",
       "      <td>Cerrada Temporalmente</td>\n",
       "      <td>Monolingue</td>\n",
       "      <td>Doble</td>\n",
       "      <td>Fin De Semana</td>\n",
       "      <td>Guatemala Norte</td>\n",
       "      <td>No hay teléfono registrado</td>\n",
       "    </tr>\n",
       "    <tr>\n",
       "      <th>6653</th>\n",
       "      <td>03-12-0038-46</td>\n",
       "      <td>03-007</td>\n",
       "      <td>Sacatepequez</td>\n",
       "      <td>Ciudad Vieja</td>\n",
       "      <td>Liceo Teresa De Avila</td>\n",
       "      <td>2A. Avenida 2-55 Zona 3</td>\n",
       "      <td>50715990</td>\n",
       "      <td>Oscar Yovany Zelada Castillo</td>\n",
       "      <td>Dora Adilia Teresa Lee Leon De Rosales</td>\n",
       "      <td>Diversificado</td>\n",
       "      <td>Privado</td>\n",
       "      <td>Urbana</td>\n",
       "      <td>Abierta</td>\n",
       "      <td>Monolingue</td>\n",
       "      <td>Doble</td>\n",
       "      <td>Fin De Semana</td>\n",
       "      <td>Sacatepéquez</td>\n",
       "      <td>No hay teléfono registrado</td>\n",
       "    </tr>\n",
       "    <tr>\n",
       "      <th>6652</th>\n",
       "      <td>03-12-0037-46</td>\n",
       "      <td>03-007</td>\n",
       "      <td>Sacatepequez</td>\n",
       "      <td>Ciudad Vieja</td>\n",
       "      <td>Liceo Teresa De Avila</td>\n",
       "      <td>2A. Avenida 2-55 Zona 3</td>\n",
       "      <td>50715990</td>\n",
       "      <td>Oscar Yovany Zelada Castillo</td>\n",
       "      <td>Dora Adilia Teresa Lee Leon De Rosales</td>\n",
       "      <td>Diversificado</td>\n",
       "      <td>Privado</td>\n",
       "      <td>Urbana</td>\n",
       "      <td>Abierta</td>\n",
       "      <td>Monolingue</td>\n",
       "      <td>Doble</td>\n",
       "      <td>Fin De Semana</td>\n",
       "      <td>Sacatepéquez</td>\n",
       "      <td>No hay teléfono registrado</td>\n",
       "    </tr>\n",
       "  </tbody>\n",
       "</table>\n",
       "<p>633 rows × 18 columns</p>\n",
       "</div>"
      ],
      "text/plain": [
       "             CODIGO DISTRITO    DEPARTAMENTO     MUNICIPIO  \\\n",
       "7139  12-26-0054-46   12-120      San Marcos      Sipacapa   \n",
       "7138  12-26-0053-46   12-120      San Marcos      Sipacapa   \n",
       "7178  12-30-0073-46   12-107      San Marcos     La Blanca   \n",
       "7177  12-30-0072-46   12-107      San Marcos     La Blanca   \n",
       "6108  14-19-0084-46   14-030          Quiche      Chicaman   \n",
       "...             ...      ...             ...           ...   \n",
       "1055  00-01-0644-46   01-627  Ciudad Capital        Zona 1   \n",
       "1312  00-01-9027-46   01-403  Ciudad Capital        Zona 1   \n",
       "1232  00-01-8096-46   01-403  Ciudad Capital        Zona 1   \n",
       "6653  03-12-0038-46   03-007    Sacatepequez  Ciudad Vieja   \n",
       "6652  03-12-0037-46   03-007    Sacatepequez  Ciudad Vieja   \n",
       "\n",
       "                                       ESTABLECIMIENTO  \\\n",
       "7139  \"Colegio De Estudios Superiores Sipacapa\" -Cess-   \n",
       "7138  \"Colegio De Estudios Superiores Sipacapa\" -Cess-   \n",
       "7178       \"Colegio Educativo Mixto Luna Azul -Cemla-\"   \n",
       "7177       \"Colegio Educativo Mixto Luna Azul -Cemla-\"   \n",
       "6108     \"Colegio Mixto Ciencia Y Desarrollo Chicaman\"   \n",
       "...                                                ...   \n",
       "1055           Liceo Tecnologico Maya De Guatemala Iii   \n",
       "1312      Liceo Tecnologico Metropolitano De Guatemala   \n",
       "1232      Liceo Tecnologico Metropolitano De Guatemala   \n",
       "6653                             Liceo Teresa De Avila   \n",
       "6652                             Liceo Teresa De Avila   \n",
       "\n",
       "                             DIRECCION  TELEFONO  \\\n",
       "7139  1Ra. Avenida Y 2Da. Calle Zona 1  33338449   \n",
       "7138  1Ra. Avenida Y 2Da. Calle Zona 1  33338449   \n",
       "7178         Parcelamiento Chiquirines  45454204   \n",
       "7177         Parcelamiento Chiquirines  45454204   \n",
       "6108             3A. Calle 3-30 Zona 2  58878991   \n",
       "...                                ...       ...   \n",
       "1055                     15 Calle 3-29  23083514   \n",
       "1312                  5A. Avenida 3-55  22327022   \n",
       "1232                  5A. Avenida 3-55  22327022   \n",
       "6653           2A. Avenida 2-55 Zona 3  50715990   \n",
       "6652           2A. Avenida 2-55 Zona 3  50715990   \n",
       "\n",
       "                            SUPERVISOR  \\\n",
       "7139             Esteban Felix Ramirez   \n",
       "7138             Esteban Felix Ramirez   \n",
       "7178           Juan Jose Tobar Tebalan   \n",
       "7177           Juan Jose Tobar Tebalan   \n",
       "6108    Jose Alberto Hernandez Gamarro   \n",
       "...                                ...   \n",
       "1055    Isaura Amparo Recinos Carrillo   \n",
       "1312  Carlos Humberto Gonzalez De Leon   \n",
       "1232  Carlos Humberto Gonzalez De Leon   \n",
       "6653      Oscar Yovany Zelada Castillo   \n",
       "6652      Oscar Yovany Zelada Castillo   \n",
       "\n",
       "                                            DIRECTOR          NIVEL   SECTOR  \\\n",
       "7139                           Baldomero Zapet Rodas  Diversificado  Privado   \n",
       "7138                           Baldomero Zapet Rodas  Diversificado  Privado   \n",
       "7178                    German Daniel Merida Joachin  Diversificado  Privado   \n",
       "7177                    German Daniel Merida Joachin  Diversificado  Privado   \n",
       "6108                           Wilson Soberaniz Soto  Diversificado  Privado   \n",
       "...                                              ...            ...      ...   \n",
       "1055  Margarita De Jesus Barrios Castillo De Godinez  Diversificado  Privado   \n",
       "1312                              Fredy Amilcar Cruz  Diversificado  Privado   \n",
       "1232                              Fredy Amilcar Cruz  Diversificado  Privado   \n",
       "6653          Dora Adilia Teresa Lee Leon De Rosales  Diversificado  Privado   \n",
       "6652          Dora Adilia Teresa Lee Leon De Rosales  Diversificado  Privado   \n",
       "\n",
       "        AREA                 STATUS   MODALIDAD JORNADA           PLAN  \\\n",
       "7139  Urbana                Abierta  Monolingue   Doble  Fin De Semana   \n",
       "7138  Urbana                Abierta  Monolingue   Doble  Fin De Semana   \n",
       "7178   Rural                Abierta  Monolingue   Doble  Fin De Semana   \n",
       "7177   Rural                Abierta  Monolingue   Doble  Fin De Semana   \n",
       "6108  Urbana                Abierta  Monolingue   Doble  Fin De Semana   \n",
       "...      ...                    ...         ...     ...            ...   \n",
       "1055  Urbana                Abierta  Monolingue   Doble  Fin De Semana   \n",
       "1312  Urbana  Cerrada Temporalmente  Monolingue   Doble  Fin De Semana   \n",
       "1232  Urbana  Cerrada Temporalmente  Monolingue   Doble  Fin De Semana   \n",
       "6653  Urbana                Abierta  Monolingue   Doble  Fin De Semana   \n",
       "6652  Urbana                Abierta  Monolingue   Doble  Fin De Semana   \n",
       "\n",
       "        DEPARTAMENTAL                  TELEFONO 2  \n",
       "7139       San Marcos  No hay teléfono registrado  \n",
       "7138       San Marcos  No hay teléfono registrado  \n",
       "7178       San Marcos  No hay teléfono registrado  \n",
       "7177       San Marcos  No hay teléfono registrado  \n",
       "6108           Quiché  No hay teléfono registrado  \n",
       "...               ...                         ...  \n",
       "1055  Guatemala Norte  No hay teléfono registrado  \n",
       "1312  Guatemala Norte  No hay teléfono registrado  \n",
       "1232  Guatemala Norte  No hay teléfono registrado  \n",
       "6653     Sacatepéquez  No hay teléfono registrado  \n",
       "6652     Sacatepéquez  No hay teléfono registrado  \n",
       "\n",
       "[633 rows x 18 columns]"
      ]
     },
     "execution_count": 89,
     "metadata": {},
     "output_type": "execute_result"
    }
   ],
   "source": [
    "duplicates=df.loc[df.duplicated(subset=['DISTRITO'\n",
    "                                        ,'DEPARTAMENTO'\n",
    "                                        ,'MUNICIPIO'\n",
    "                                        ,'ESTABLECIMIENTO'\n",
    "                                        ,'JORNADA'\n",
    "                                        ,'PLAN'\n",
    "                                        ,'MODALIDAD'\n",
    "                                        ,'DIRECCION'\n",
    "                                        ,'TELEFONO'\n",
    "                                        ,'SUPERVISOR'\n",
    "                                        ,'DIRECTOR'\n",
    "                                        ,'NIVEL'\n",
    "                                        ,'AREA'\n",
    "                                        ,'STATUS'\n",
    "                                        ],keep=False)].copy()\n",
    "# df.loc[df.duplicated(subset=['CODIGO'],keep=False)]\n",
    "duplicates=duplicates.sort_values(by=['ESTABLECIMIENTO'])\n",
    "duplicates"
   ]
  },
  {
   "cell_type": "code",
   "execution_count": 90,
   "metadata": {},
   "outputs": [],
   "source": [
    "df.to_excel('Proyecto1_DS.xlsx',index=False)"
   ]
  },
  {
   "cell_type": "code",
   "execution_count": null,
   "metadata": {},
   "outputs": [],
   "source": []
  }
 ],
 "metadata": {
  "kernelspec": {
   "display_name": "Python 3",
   "language": "python",
   "name": "python3"
  },
  "language_info": {
   "codemirror_mode": {
    "name": "ipython",
    "version": 3
   },
   "file_extension": ".py",
   "mimetype": "text/x-python",
   "name": "python",
   "nbconvert_exporter": "python",
   "pygments_lexer": "ipython3",
   "version": "3.8.5"
  }
 },
 "nbformat": 4,
 "nbformat_minor": 4
}
